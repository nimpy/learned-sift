{
 "cells": [
  {
   "cell_type": "code",
   "execution_count": 19,
   "metadata": {},
   "outputs": [],
   "source": [
    "import numpy as np\n",
    "import imageio\n",
    "from keras.models import load_model\n",
    "from keras import losses\n",
    "from keras import backend"
   ]
  },
  {
   "cell_type": "code",
   "execution_count": 2,
   "metadata": {
    "scrolled": true
   },
   "outputs": [
    {
     "name": "stderr",
     "output_type": "stream",
     "text": [
      "WARNING: Logging before flag parsing goes to stderr.\n",
      "W1025 12:00:52.260599 139705339180864 deprecation_wrapper.py:119] From /scratch/tensorflow/lib/python3.6/site-packages/keras/backend/tensorflow_backend.py:517: The name tf.placeholder is deprecated. Please use tf.compat.v1.placeholder instead.\n",
      "\n",
      "W1025 12:00:52.280824 139705339180864 deprecation_wrapper.py:119] From /scratch/tensorflow/lib/python3.6/site-packages/keras/backend/tensorflow_backend.py:4138: The name tf.random_uniform is deprecated. Please use tf.random.uniform instead.\n",
      "\n",
      "W1025 12:00:52.291276 139705339180864 deprecation_wrapper.py:119] From /scratch/tensorflow/lib/python3.6/site-packages/keras/backend/tensorflow_backend.py:3976: The name tf.nn.max_pool is deprecated. Please use tf.nn.max_pool2d instead.\n",
      "\n",
      "W1025 12:00:52.377302 139705339180864 deprecation_wrapper.py:119] From /scratch/tensorflow/lib/python3.6/site-packages/keras/backend/tensorflow_backend.py:174: The name tf.get_default_session is deprecated. Please use tf.compat.v1.get_default_session instead.\n",
      "\n",
      "W1025 12:00:52.378074 139705339180864 deprecation_wrapper.py:119] From /scratch/tensorflow/lib/python3.6/site-packages/keras/backend/tensorflow_backend.py:181: The name tf.ConfigProto is deprecated. Please use tf.compat.v1.ConfigProto instead.\n",
      "\n",
      "W1025 12:00:52.378601 139705339180864 deprecation_wrapper.py:119] From /scratch/tensorflow/lib/python3.6/site-packages/keras/backend/tensorflow_backend.py:186: The name tf.Session is deprecated. Please use tf.compat.v1.Session instead.\n",
      "\n",
      "W1025 12:00:53.051171 139705339180864 deprecation_wrapper.py:119] From /scratch/tensorflow/lib/python3.6/site-packages/keras/optimizers.py:790: The name tf.train.Optimizer is deprecated. Please use tf.compat.v1.train.Optimizer instead.\n",
      "\n",
      "W1025 12:00:53.056836 139705339180864 deprecation.py:323] From /scratch/tensorflow/lib/python3.6/site-packages/tensorflow/python/ops/nn_impl.py:180: add_dispatch_support.<locals>.wrapper (from tensorflow.python.ops.array_ops) is deprecated and will be removed in a future version.\n",
      "Instructions for updating:\n",
      "Use tf.where in 2.0, which has the same broadcast rule as np.where\n"
     ]
    }
   ],
   "source": [
    "encoder = load_model(\"/home/niaki/Code/ImageNet/tiny-imagenet-200/ae1.0.0.0_encoder_lastsigmoid_bce_adadelta_metricscce.h5\")"
   ]
  },
  {
   "cell_type": "code",
   "execution_count": 26,
   "metadata": {},
   "outputs": [],
   "source": [
    "filename = \"/tiny_train16/class0/patch000002\"\n",
    "# filename = \"/tiny_test16/class0/patch000026\""
   ]
  },
  {
   "cell_type": "code",
   "execution_count": 27,
   "metadata": {},
   "outputs": [],
   "source": [
    "x = imageio.imread(\"/home/niaki/Code/ImageNet/tiny-imagenet-200\" + filename + \".png\").reshape(1,16,16,3)"
   ]
  },
  {
   "cell_type": "code",
   "execution_count": 28,
   "metadata": {},
   "outputs": [],
   "source": [
    "y_true = np.load(\"/home/niaki/Code/ImageNet/tiny-imagenet-200/tiny_sifts\" + filename + \".npy\")\n",
    "y_true = y_true.reshape((1,128))"
   ]
  },
  {
   "cell_type": "code",
   "execution_count": 29,
   "metadata": {},
   "outputs": [
    {
     "data": {
      "text/plain": [
       "array([[  0.,   0.,   0.,   0.,   0.,   0.,   0.,   0.,   0.,   0.,   0.,\n",
       "          0.,   0.,   0.,   0.,   0.,   0.,   0.,   0.,   0.,   0.,   0.,\n",
       "          0.,   0.,   0.,   0.,   0.,   0.,   0.,   0.,   0.,   0.,   0.,\n",
       "          0.,   0.,   0.,   0.,   0.,   0.,   0., 112., 129.,  94.,  20.,\n",
       "         36.,  49.,  63.,  73., 129., 129., 129.,  24.,  35.,  42.,  39.,\n",
       "        123.,   0.,   0.,   0.,   0.,   0.,   0.,   0.,   0.,   0.,   0.,\n",
       "          0.,   0.,   0.,   0.,   0.,   0., 124.,  92.,  64.,  23.,  58.,\n",
       "         91.,  84., 129., 129., 129., 109.,  28.,  57.,  84.,  59., 129.,\n",
       "          0.,   0.,   0.,   0.,   0.,   0.,   0.,   0.,   0.,   0.,   0.,\n",
       "          0.,   0.,   0.,   0.,   0.,   0.,   0.,   0.,   0.,   0.,   0.,\n",
       "          0.,   0.,   0.,   0.,   0.,   0.,   0.,   0.,   0.,   0.,   0.,\n",
       "          0.,   0.,   0.,   0.,   0.,   0.,   0.]], dtype=float32)"
      ]
     },
     "execution_count": 29,
     "metadata": {},
     "output_type": "execute_result"
    }
   ],
   "source": [
    "y_true"
   ]
  },
  {
   "cell_type": "code",
   "execution_count": null,
   "metadata": {},
   "outputs": [],
   "source": []
  },
  {
   "cell_type": "code",
   "execution_count": 30,
   "metadata": {},
   "outputs": [],
   "source": [
    "y_pred = encoder.predict(x)"
   ]
  },
  {
   "cell_type": "code",
   "execution_count": 31,
   "metadata": {
    "scrolled": true
   },
   "outputs": [
    {
     "data": {
      "text/plain": [
       "array([[0.000000e+00, 0.000000e+00, 0.000000e+00, 0.000000e+00,\n",
       "        0.000000e+00, 0.000000e+00, 0.000000e+00, 0.000000e+00,\n",
       "        0.000000e+00, 0.000000e+00, 0.000000e+00, 0.000000e+00,\n",
       "        0.000000e+00, 0.000000e+00, 0.000000e+00, 0.000000e+00,\n",
       "        0.000000e+00, 0.000000e+00, 0.000000e+00, 0.000000e+00,\n",
       "        0.000000e+00, 0.000000e+00, 0.000000e+00, 0.000000e+00,\n",
       "        0.000000e+00, 0.000000e+00, 0.000000e+00, 0.000000e+00,\n",
       "        0.000000e+00, 0.000000e+00, 0.000000e+00, 0.000000e+00,\n",
       "        0.000000e+00, 0.000000e+00, 0.000000e+00, 0.000000e+00,\n",
       "        0.000000e+00, 0.000000e+00, 0.000000e+00, 0.000000e+00,\n",
       "        1.000000e+00, 0.000000e+00, 0.000000e+00, 0.000000e+00,\n",
       "        0.000000e+00, 0.000000e+00, 0.000000e+00, 0.000000e+00,\n",
       "        0.000000e+00, 0.000000e+00, 3.427267e-06, 0.000000e+00,\n",
       "        0.000000e+00, 0.000000e+00, 0.000000e+00, 0.000000e+00,\n",
       "        0.000000e+00, 0.000000e+00, 0.000000e+00, 0.000000e+00,\n",
       "        0.000000e+00, 0.000000e+00, 0.000000e+00, 0.000000e+00,\n",
       "        0.000000e+00, 0.000000e+00, 0.000000e+00, 0.000000e+00,\n",
       "        0.000000e+00, 0.000000e+00, 0.000000e+00, 0.000000e+00,\n",
       "        0.000000e+00, 0.000000e+00, 0.000000e+00, 0.000000e+00,\n",
       "        0.000000e+00, 0.000000e+00, 0.000000e+00, 0.000000e+00,\n",
       "        0.000000e+00, 0.000000e+00, 0.000000e+00, 0.000000e+00,\n",
       "        0.000000e+00, 0.000000e+00, 0.000000e+00, 0.000000e+00,\n",
       "        0.000000e+00, 0.000000e+00, 0.000000e+00, 0.000000e+00,\n",
       "        0.000000e+00, 0.000000e+00, 0.000000e+00, 0.000000e+00,\n",
       "        0.000000e+00, 0.000000e+00, 0.000000e+00, 0.000000e+00,\n",
       "        0.000000e+00, 0.000000e+00, 0.000000e+00, 0.000000e+00,\n",
       "        0.000000e+00, 0.000000e+00, 0.000000e+00, 0.000000e+00,\n",
       "        0.000000e+00, 0.000000e+00, 0.000000e+00, 0.000000e+00,\n",
       "        0.000000e+00, 0.000000e+00, 0.000000e+00, 0.000000e+00,\n",
       "        0.000000e+00, 0.000000e+00, 0.000000e+00, 0.000000e+00,\n",
       "        0.000000e+00, 0.000000e+00, 0.000000e+00, 0.000000e+00,\n",
       "        0.000000e+00, 0.000000e+00, 0.000000e+00, 0.000000e+00]],\n",
       "      dtype=float32)"
      ]
     },
     "execution_count": 31,
     "metadata": {},
     "output_type": "execute_result"
    }
   ],
   "source": [
    "y_pred"
   ]
  },
  {
   "cell_type": "code",
   "execution_count": null,
   "metadata": {},
   "outputs": [],
   "source": []
  },
  {
   "cell_type": "code",
   "execution_count": null,
   "metadata": {},
   "outputs": [],
   "source": []
  },
  {
   "cell_type": "code",
   "execution_count": null,
   "metadata": {},
   "outputs": [],
   "source": []
  },
  {
   "cell_type": "code",
   "execution_count": 32,
   "metadata": {},
   "outputs": [
    {
     "data": {
      "text/plain": [
       "(1, 128)"
      ]
     },
     "execution_count": 32,
     "metadata": {},
     "output_type": "execute_result"
    }
   ],
   "source": [
    "y_true.shape"
   ]
  },
  {
   "cell_type": "code",
   "execution_count": 33,
   "metadata": {},
   "outputs": [
    {
     "data": {
      "text/plain": [
       "(1, 128)"
      ]
     },
     "execution_count": 33,
     "metadata": {},
     "output_type": "execute_result"
    }
   ],
   "source": [
    "y_pred.shape"
   ]
  },
  {
   "cell_type": "code",
   "execution_count": null,
   "metadata": {},
   "outputs": [],
   "source": []
  },
  {
   "cell_type": "code",
   "execution_count": 17,
   "metadata": {},
   "outputs": [
    {
     "ename": "AttributeError",
     "evalue": "'numpy.dtype' object has no attribute 'base_dtype'",
     "output_type": "error",
     "traceback": [
      "\u001b[0;31m---------------------------------------------------------------------------\u001b[0m",
      "\u001b[0;31mAttributeError\u001b[0m                            Traceback (most recent call last)",
      "\u001b[0;32m<ipython-input-17-f384b08665d1>\u001b[0m in \u001b[0;36m<module>\u001b[0;34m\u001b[0m\n\u001b[0;32m----> 1\u001b[0;31m \u001b[0mlosses\u001b[0m\u001b[0;34m.\u001b[0m\u001b[0mbinary_crossentropy\u001b[0m\u001b[0;34m(\u001b[0m\u001b[0my_true\u001b[0m\u001b[0;34m,\u001b[0m \u001b[0my_pred\u001b[0m\u001b[0;34m)\u001b[0m\u001b[0;34m\u001b[0m\u001b[0;34m\u001b[0m\u001b[0m\n\u001b[0m",
      "\u001b[0;32m/scratch/tensorflow/lib/python3.6/site-packages/keras/losses.py\u001b[0m in \u001b[0;36mbinary_crossentropy\u001b[0;34m(y_true, y_pred)\u001b[0m\n\u001b[1;32m     75\u001b[0m \u001b[0;34m\u001b[0m\u001b[0m\n\u001b[1;32m     76\u001b[0m \u001b[0;32mdef\u001b[0m \u001b[0mbinary_crossentropy\u001b[0m\u001b[0;34m(\u001b[0m\u001b[0my_true\u001b[0m\u001b[0;34m,\u001b[0m \u001b[0my_pred\u001b[0m\u001b[0;34m)\u001b[0m\u001b[0;34m:\u001b[0m\u001b[0;34m\u001b[0m\u001b[0;34m\u001b[0m\u001b[0m\n\u001b[0;32m---> 77\u001b[0;31m     \u001b[0;32mreturn\u001b[0m \u001b[0mK\u001b[0m\u001b[0;34m.\u001b[0m\u001b[0mmean\u001b[0m\u001b[0;34m(\u001b[0m\u001b[0mK\u001b[0m\u001b[0;34m.\u001b[0m\u001b[0mbinary_crossentropy\u001b[0m\u001b[0;34m(\u001b[0m\u001b[0my_true\u001b[0m\u001b[0;34m,\u001b[0m \u001b[0my_pred\u001b[0m\u001b[0;34m)\u001b[0m\u001b[0;34m,\u001b[0m \u001b[0maxis\u001b[0m\u001b[0;34m=\u001b[0m\u001b[0;34m-\u001b[0m\u001b[0;36m1\u001b[0m\u001b[0;34m)\u001b[0m\u001b[0;34m\u001b[0m\u001b[0;34m\u001b[0m\u001b[0m\n\u001b[0m\u001b[1;32m     78\u001b[0m \u001b[0;34m\u001b[0m\u001b[0m\n\u001b[1;32m     79\u001b[0m \u001b[0;34m\u001b[0m\u001b[0m\n",
      "\u001b[0;32m/scratch/tensorflow/lib/python3.6/site-packages/keras/backend/tensorflow_backend.py\u001b[0m in \u001b[0;36mbinary_crossentropy\u001b[0;34m(target, output, from_logits)\u001b[0m\n\u001b[1;32m   3372\u001b[0m     \u001b[0;32mif\u001b[0m \u001b[0;32mnot\u001b[0m \u001b[0mfrom_logits\u001b[0m\u001b[0;34m:\u001b[0m\u001b[0;34m\u001b[0m\u001b[0;34m\u001b[0m\u001b[0m\n\u001b[1;32m   3373\u001b[0m         \u001b[0;31m# transform back to logits\u001b[0m\u001b[0;34m\u001b[0m\u001b[0;34m\u001b[0m\u001b[0;34m\u001b[0m\u001b[0m\n\u001b[0;32m-> 3374\u001b[0;31m         \u001b[0m_epsilon\u001b[0m \u001b[0;34m=\u001b[0m \u001b[0m_to_tensor\u001b[0m\u001b[0;34m(\u001b[0m\u001b[0mepsilon\u001b[0m\u001b[0;34m(\u001b[0m\u001b[0;34m)\u001b[0m\u001b[0;34m,\u001b[0m \u001b[0moutput\u001b[0m\u001b[0;34m.\u001b[0m\u001b[0mdtype\u001b[0m\u001b[0;34m.\u001b[0m\u001b[0mbase_dtype\u001b[0m\u001b[0;34m)\u001b[0m\u001b[0;34m\u001b[0m\u001b[0;34m\u001b[0m\u001b[0m\n\u001b[0m\u001b[1;32m   3375\u001b[0m         \u001b[0moutput\u001b[0m \u001b[0;34m=\u001b[0m \u001b[0mtf\u001b[0m\u001b[0;34m.\u001b[0m\u001b[0mclip_by_value\u001b[0m\u001b[0;34m(\u001b[0m\u001b[0moutput\u001b[0m\u001b[0;34m,\u001b[0m \u001b[0m_epsilon\u001b[0m\u001b[0;34m,\u001b[0m \u001b[0;36m1\u001b[0m \u001b[0;34m-\u001b[0m \u001b[0m_epsilon\u001b[0m\u001b[0;34m)\u001b[0m\u001b[0;34m\u001b[0m\u001b[0;34m\u001b[0m\u001b[0m\n\u001b[1;32m   3376\u001b[0m         \u001b[0moutput\u001b[0m \u001b[0;34m=\u001b[0m \u001b[0mtf\u001b[0m\u001b[0;34m.\u001b[0m\u001b[0mlog\u001b[0m\u001b[0;34m(\u001b[0m\u001b[0moutput\u001b[0m \u001b[0;34m/\u001b[0m \u001b[0;34m(\u001b[0m\u001b[0;36m1\u001b[0m \u001b[0;34m-\u001b[0m \u001b[0moutput\u001b[0m\u001b[0;34m)\u001b[0m\u001b[0;34m)\u001b[0m\u001b[0;34m\u001b[0m\u001b[0;34m\u001b[0m\u001b[0m\n",
      "\u001b[0;31mAttributeError\u001b[0m: 'numpy.dtype' object has no attribute 'base_dtype'"
     ]
    }
   ],
   "source": [
    "losses.binary_crossentropy(y_true, y_pred)"
   ]
  },
  {
   "cell_type": "code",
   "execution_count": 20,
   "metadata": {},
   "outputs": [
    {
     "ename": "AttributeError",
     "evalue": "'numpy.dtype' object has no attribute 'base_dtype'",
     "output_type": "error",
     "traceback": [
      "\u001b[0;31m---------------------------------------------------------------------------\u001b[0m",
      "\u001b[0;31mAttributeError\u001b[0m                            Traceback (most recent call last)",
      "\u001b[0;32m<ipython-input-20-f0ce17acb700>\u001b[0m in \u001b[0;36m<module>\u001b[0;34m\u001b[0m\n\u001b[0;32m----> 1\u001b[0;31m \u001b[0mbackend\u001b[0m\u001b[0;34m.\u001b[0m\u001b[0mbinary_crossentropy\u001b[0m\u001b[0;34m(\u001b[0m\u001b[0my_true\u001b[0m\u001b[0;34m,\u001b[0m \u001b[0my_pred\u001b[0m\u001b[0;34m)\u001b[0m\u001b[0;34m\u001b[0m\u001b[0;34m\u001b[0m\u001b[0m\n\u001b[0m",
      "\u001b[0;32m/scratch/tensorflow/lib/python3.6/site-packages/keras/backend/tensorflow_backend.py\u001b[0m in \u001b[0;36mbinary_crossentropy\u001b[0;34m(target, output, from_logits)\u001b[0m\n\u001b[1;32m   3372\u001b[0m     \u001b[0;32mif\u001b[0m \u001b[0;32mnot\u001b[0m \u001b[0mfrom_logits\u001b[0m\u001b[0;34m:\u001b[0m\u001b[0;34m\u001b[0m\u001b[0;34m\u001b[0m\u001b[0m\n\u001b[1;32m   3373\u001b[0m         \u001b[0;31m# transform back to logits\u001b[0m\u001b[0;34m\u001b[0m\u001b[0;34m\u001b[0m\u001b[0;34m\u001b[0m\u001b[0m\n\u001b[0;32m-> 3374\u001b[0;31m         \u001b[0m_epsilon\u001b[0m \u001b[0;34m=\u001b[0m \u001b[0m_to_tensor\u001b[0m\u001b[0;34m(\u001b[0m\u001b[0mepsilon\u001b[0m\u001b[0;34m(\u001b[0m\u001b[0;34m)\u001b[0m\u001b[0;34m,\u001b[0m \u001b[0moutput\u001b[0m\u001b[0;34m.\u001b[0m\u001b[0mdtype\u001b[0m\u001b[0;34m.\u001b[0m\u001b[0mbase_dtype\u001b[0m\u001b[0;34m)\u001b[0m\u001b[0;34m\u001b[0m\u001b[0;34m\u001b[0m\u001b[0m\n\u001b[0m\u001b[1;32m   3375\u001b[0m         \u001b[0moutput\u001b[0m \u001b[0;34m=\u001b[0m \u001b[0mtf\u001b[0m\u001b[0;34m.\u001b[0m\u001b[0mclip_by_value\u001b[0m\u001b[0;34m(\u001b[0m\u001b[0moutput\u001b[0m\u001b[0;34m,\u001b[0m \u001b[0m_epsilon\u001b[0m\u001b[0;34m,\u001b[0m \u001b[0;36m1\u001b[0m \u001b[0;34m-\u001b[0m \u001b[0m_epsilon\u001b[0m\u001b[0;34m)\u001b[0m\u001b[0;34m\u001b[0m\u001b[0;34m\u001b[0m\u001b[0m\n\u001b[1;32m   3376\u001b[0m         \u001b[0moutput\u001b[0m \u001b[0;34m=\u001b[0m \u001b[0mtf\u001b[0m\u001b[0;34m.\u001b[0m\u001b[0mlog\u001b[0m\u001b[0;34m(\u001b[0m\u001b[0moutput\u001b[0m \u001b[0;34m/\u001b[0m \u001b[0;34m(\u001b[0m\u001b[0;36m1\u001b[0m \u001b[0;34m-\u001b[0m \u001b[0moutput\u001b[0m\u001b[0;34m)\u001b[0m\u001b[0;34m)\u001b[0m\u001b[0;34m\u001b[0m\u001b[0;34m\u001b[0m\u001b[0m\n",
      "\u001b[0;31mAttributeError\u001b[0m: 'numpy.dtype' object has no attribute 'base_dtype'"
     ]
    }
   ],
   "source": [
    "backend.binary_crossentropy(y_true, y_pred)"
   ]
  },
  {
   "cell_type": "code",
   "execution_count": null,
   "metadata": {},
   "outputs": [],
   "source": []
  },
  {
   "cell_type": "code",
   "execution_count": 23,
   "metadata": {},
   "outputs": [],
   "source": [
    "def sigmoid(x):\n",
    "    return 1. / (1. + np.exp(-x))\n",
    "\n",
    "def binary_crossentropy(target, output, from_logits=False):\n",
    "    if not from_logits:\n",
    "        output = np.clip(output, 1e-7, 1 - 1e-7)\n",
    "        output = np.log(output / (1 - output))\n",
    "    return (target * -np.log(sigmoid(output)) +\n",
    "            (1 - target) * -np.log(1 - sigmoid(output)))\n",
    "\n",
    "\n",
    "def categorical_crossentropy(target, output, from_logits=False):\n",
    "    if from_logits:\n",
    "        output = softmax(output)\n",
    "    else:\n",
    "        output /= output.sum(axis=-1, keepdims=True)\n",
    "    output = np.clip(output, 1e-7, 1 - 1e-7)\n",
    "    return np.sum(target * -np.log(output), axis=-1, keepdims=False)"
   ]
  },
  {
   "cell_type": "code",
   "execution_count": 34,
   "metadata": {},
   "outputs": [
    {
     "data": {
      "text/plain": [
       "array([[ 1.1920929e-07,  1.1920929e-07,  1.1920929e-07,  1.1920929e-07,\n",
       "         1.1920929e-07,  1.1920929e-07,  1.1920929e-07,  1.1920929e-07,\n",
       "         1.1920929e-07,  1.1920929e-07,  1.1920929e-07,  1.1920929e-07,\n",
       "         1.1920929e-07,  1.1920929e-07,  1.1920929e-07,  1.1920929e-07,\n",
       "         1.1920929e-07,  1.1920929e-07,  1.1920929e-07,  1.1920929e-07,\n",
       "         1.1920929e-07,  1.1920929e-07,  1.1920929e-07,  1.1920929e-07,\n",
       "         1.1920929e-07,  1.1920929e-07,  1.1920929e-07,  1.1920929e-07,\n",
       "         1.1920929e-07,  1.1920929e-07,  1.1920929e-07,  1.1920929e-07,\n",
       "         1.1920929e-07,  1.1920929e-07,  1.1920929e-07,  1.1920929e-07,\n",
       "         1.1920929e-07,  1.1920929e-07,  1.1920929e-07,  1.1920929e-07,\n",
       "        -1.7696047e+03,  2.0792344e+03,  1.5151010e+03,  3.2236191e+02,\n",
       "         5.8025146e+02,  7.8978668e+02,  1.0154400e+03,  1.1766210e+03,\n",
       "         2.0792344e+03,  2.0792344e+03,  1.6233030e+03,  3.8683429e+02,\n",
       "         5.6413336e+02,  6.7696002e+02,  6.2860571e+02,  1.9825258e+03,\n",
       "         1.1920929e-07,  1.1920929e-07,  1.1920929e-07,  1.1920929e-07,\n",
       "         1.1920929e-07,  1.1920929e-07,  1.1920929e-07,  1.1920929e-07,\n",
       "         1.1920929e-07,  1.1920929e-07,  1.1920929e-07,  1.1920929e-07,\n",
       "         1.1920929e-07,  1.1920929e-07,  1.1920929e-07,  1.1920929e-07,\n",
       "         1.9986438e+03,  1.4828647e+03,  1.0315581e+03,  3.7071619e+02,\n",
       "         9.3484955e+02,  1.4667467e+03,  1.3539200e+03,  2.0792344e+03,\n",
       "         2.0792344e+03,  2.0792344e+03,  1.7568724e+03,  4.5130667e+02,\n",
       "         9.1873145e+02,  1.3539200e+03,  9.5096765e+02,  2.0792344e+03,\n",
       "         1.1920929e-07,  1.1920929e-07,  1.1920929e-07,  1.1920929e-07,\n",
       "         1.1920929e-07,  1.1920929e-07,  1.1920929e-07,  1.1920929e-07,\n",
       "         1.1920929e-07,  1.1920929e-07,  1.1920929e-07,  1.1920929e-07,\n",
       "         1.1920929e-07,  1.1920929e-07,  1.1920929e-07,  1.1920929e-07,\n",
       "         1.1920929e-07,  1.1920929e-07,  1.1920929e-07,  1.1920929e-07,\n",
       "         1.1920929e-07,  1.1920929e-07,  1.1920929e-07,  1.1920929e-07,\n",
       "         1.1920929e-07,  1.1920929e-07,  1.1920929e-07,  1.1920929e-07,\n",
       "         1.1920929e-07,  1.1920929e-07,  1.1920929e-07,  1.1920929e-07,\n",
       "         1.1920929e-07,  1.1920929e-07,  1.1920929e-07,  1.1920929e-07,\n",
       "         1.1920929e-07,  1.1920929e-07,  1.1920929e-07,  1.1920929e-07]],\n",
       "      dtype=float32)"
      ]
     },
     "execution_count": 34,
     "metadata": {},
     "output_type": "execute_result"
    }
   ],
   "source": [
    "binary_crossentropy(y_true, y_pred)"
   ]
  },
  {
   "cell_type": "code",
   "execution_count": 39,
   "metadata": {},
   "outputs": [
    {
     "data": {
      "text/plain": [
       "array([39887.664], dtype=float32)"
      ]
     },
     "execution_count": 39,
     "metadata": {},
     "output_type": "execute_result"
    }
   ],
   "source": [
    "categorical_crossentropy(y_true, y_pred)"
   ]
  },
  {
   "cell_type": "code",
   "execution_count": null,
   "metadata": {},
   "outputs": [],
   "source": []
  },
  {
   "cell_type": "code",
   "execution_count": null,
   "metadata": {},
   "outputs": [],
   "source": []
  },
  {
   "cell_type": "code",
   "execution_count": 37,
   "metadata": {
    "scrolled": false
   },
   "outputs": [
    {
     "name": "stdout",
     "output_type": "stream",
     "text": [
      "0.0 0.0 1.1920929e-07\n",
      "0.0 0.0 1.1920929e-07\n",
      "0.0 0.0 1.1920929e-07\n",
      "0.0 0.0 1.1920929e-07\n",
      "0.0 0.0 1.1920929e-07\n",
      "0.0 0.0 1.1920929e-07\n",
      "0.0 0.0 1.1920929e-07\n",
      "0.0 0.0 1.1920929e-07\n",
      "0.0 0.0 1.1920929e-07\n",
      "0.0 0.0 1.1920929e-07\n",
      "0.0 0.0 1.1920929e-07\n",
      "0.0 0.0 1.1920929e-07\n",
      "0.0 0.0 1.1920929e-07\n",
      "0.0 0.0 1.1920929e-07\n",
      "0.0 0.0 1.1920929e-07\n",
      "0.0 0.0 1.1920929e-07\n",
      "0.0 0.0 1.1920929e-07\n",
      "0.0 0.0 1.1920929e-07\n",
      "0.0 0.0 1.1920929e-07\n",
      "0.0 0.0 1.1920929e-07\n",
      "0.0 0.0 1.1920929e-07\n",
      "0.0 0.0 1.1920929e-07\n",
      "0.0 0.0 1.1920929e-07\n",
      "0.0 0.0 1.1920929e-07\n",
      "0.0 0.0 1.1920929e-07\n",
      "0.0 0.0 1.1920929e-07\n",
      "0.0 0.0 1.1920929e-07\n",
      "0.0 0.0 1.1920929e-07\n",
      "0.0 0.0 1.1920929e-07\n",
      "0.0 0.0 1.1920929e-07\n",
      "0.0 0.0 1.1920929e-07\n",
      "0.0 0.0 1.1920929e-07\n",
      "0.0 0.0 1.1920929e-07\n",
      "0.0 0.0 1.1920929e-07\n",
      "0.0 0.0 1.1920929e-07\n",
      "0.0 0.0 1.1920929e-07\n",
      "0.0 0.0 1.1920929e-07\n",
      "0.0 0.0 1.1920929e-07\n",
      "0.0 0.0 1.1920929e-07\n",
      "0.0 0.0 1.1920929e-07\n",
      "112.0 0.99999654 -1395.8346\n",
      "129.0 0.0 2079.2344\n",
      "94.0 0.0 1515.101\n",
      "20.0 0.0 322.3619\n",
      "36.0 0.0 580.25146\n",
      "49.0 0.0 789.7867\n",
      "63.0 0.0 1015.44\n",
      "73.0 0.0 1176.621\n",
      "129.0 0.0 2079.2344\n",
      "129.0 0.0 2079.2344\n",
      "129.0 3.4272553e-06 1623.3035\n",
      "24.0 0.0 386.8343\n",
      "35.0 0.0 564.13336\n",
      "42.0 0.0 676.96\n",
      "39.0 0.0 628.6057\n",
      "123.0 0.0 1982.5258\n",
      "0.0 0.0 1.1920929e-07\n",
      "0.0 0.0 1.1920929e-07\n",
      "0.0 0.0 1.1920929e-07\n",
      "0.0 0.0 1.1920929e-07\n",
      "0.0 0.0 1.1920929e-07\n",
      "0.0 0.0 1.1920929e-07\n",
      "0.0 0.0 1.1920929e-07\n",
      "0.0 0.0 1.1920929e-07\n",
      "0.0 0.0 1.1920929e-07\n",
      "0.0 0.0 1.1920929e-07\n",
      "0.0 0.0 1.1920929e-07\n",
      "0.0 0.0 1.1920929e-07\n",
      "0.0 0.0 1.1920929e-07\n",
      "0.0 0.0 1.1920929e-07\n",
      "0.0 0.0 1.1920929e-07\n",
      "0.0 0.0 1.1920929e-07\n",
      "124.0 0.0 1998.6438\n",
      "92.0 0.0 1482.8647\n",
      "64.0 0.0 1031.5581\n",
      "23.0 0.0 370.7162\n",
      "58.0 0.0 934.84955\n",
      "91.0 0.0 1466.7467\n",
      "84.0 0.0 1353.92\n",
      "129.0 0.0 2079.2344\n",
      "129.0 0.0 2079.2344\n",
      "129.0 0.0 2079.2344\n",
      "109.0 0.0 1756.8724\n",
      "28.0 0.0 451.30667\n",
      "57.0 0.0 918.73145\n",
      "84.0 0.0 1353.92\n",
      "59.0 0.0 950.96765\n",
      "129.0 0.0 2079.2344\n",
      "0.0 0.0 1.1920929e-07\n",
      "0.0 0.0 1.1920929e-07\n",
      "0.0 0.0 1.1920929e-07\n",
      "0.0 0.0 1.1920929e-07\n",
      "0.0 0.0 1.1920929e-07\n",
      "0.0 0.0 1.1920929e-07\n",
      "0.0 0.0 1.1920929e-07\n",
      "0.0 0.0 1.1920929e-07\n",
      "0.0 0.0 1.1920929e-07\n",
      "0.0 0.0 1.1920929e-07\n",
      "0.0 0.0 1.1920929e-07\n",
      "0.0 0.0 1.1920929e-07\n",
      "0.0 0.0 1.1920929e-07\n",
      "0.0 0.0 1.1920929e-07\n",
      "0.0 0.0 1.1920929e-07\n",
      "0.0 0.0 1.1920929e-07\n",
      "0.0 0.0 1.1920929e-07\n",
      "0.0 0.0 1.1920929e-07\n",
      "0.0 0.0 1.1920929e-07\n",
      "0.0 0.0 1.1920929e-07\n",
      "0.0 0.0 1.1920929e-07\n",
      "0.0 0.0 1.1920929e-07\n",
      "0.0 0.0 1.1920929e-07\n",
      "0.0 0.0 1.1920929e-07\n",
      "0.0 0.0 1.1920929e-07\n",
      "0.0 0.0 1.1920929e-07\n",
      "0.0 0.0 1.1920929e-07\n",
      "0.0 0.0 1.1920929e-07\n",
      "0.0 0.0 1.1920929e-07\n",
      "0.0 0.0 1.1920929e-07\n",
      "0.0 0.0 1.1920929e-07\n",
      "0.0 0.0 1.1920929e-07\n",
      "0.0 0.0 1.1920929e-07\n",
      "0.0 0.0 1.1920929e-07\n",
      "0.0 0.0 1.1920929e-07\n",
      "0.0 0.0 1.1920929e-07\n",
      "0.0 0.0 1.1920929e-07\n",
      "0.0 0.0 1.1920929e-07\n",
      "0.0 0.0 1.1920929e-07\n",
      "0.0 0.0 1.1920929e-07\n"
     ]
    }
   ],
   "source": [
    "bin_cross = binary_crossentropy(y_true, y_pred)\n",
    "for i in range(y_true.shape[1]):\n",
    "    print(y_true[0, i], y_pred[0,i], bin_cross[0,i])"
   ]
  },
  {
   "cell_type": "code",
   "execution_count": 38,
   "metadata": {},
   "outputs": [
    {
     "data": {
      "text/plain": [
       "38491.83"
      ]
     },
     "execution_count": 38,
     "metadata": {},
     "output_type": "execute_result"
    }
   ],
   "source": [
    "np.sum(bin_cross)"
   ]
  },
  {
   "cell_type": "code",
   "execution_count": null,
   "metadata": {},
   "outputs": [],
   "source": []
  }
 ],
 "metadata": {
  "kernelspec": {
   "display_name": "tensorflow",
   "language": "python",
   "name": "tensorflow"
  },
  "language_info": {
   "codemirror_mode": {
    "name": "ipython",
    "version": 3
   },
   "file_extension": ".py",
   "mimetype": "text/x-python",
   "name": "python",
   "nbconvert_exporter": "python",
   "pygments_lexer": "ipython3",
   "version": "3.6.8"
  }
 },
 "nbformat": 4,
 "nbformat_minor": 2
}
