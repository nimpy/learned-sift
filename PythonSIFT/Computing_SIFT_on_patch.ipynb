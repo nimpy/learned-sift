{
 "cells": [
  {
   "cell_type": "code",
   "execution_count": 1,
   "metadata": {},
   "outputs": [],
   "source": [
    "import cv2 as cv\n",
    "import imageio\n",
    "import pickle\n",
    "import math\n",
    "import numpy as np\n",
    "\n",
    "from testing_pysift_utils import unpack_octave, unpack_octave_from_kp_octave, pack_octave, \\\n",
    "    keypoint_octave_simplified, check_packing_and_unpacking, rotate_image_without_resize"
   ]
  },
  {
   "cell_type": "code",
   "execution_count": 2,
   "metadata": {},
   "outputs": [],
   "source": [
    "sift = cv.xfeatures2d.SIFT_create()"
   ]
  },
  {
   "cell_type": "code",
   "execution_count": 3,
   "metadata": {},
   "outputs": [],
   "source": [
    "patch_image = imageio.imread('images/patch_rotated_cropped.png')\n",
    "patch_image_size = patch_image.shape[0]"
   ]
  },
  {
   "cell_type": "code",
   "execution_count": 4,
   "metadata": {},
   "outputs": [
    {
     "name": "stdout",
     "output_type": "stream",
     "text": [
      "(1, 128)\n",
      "[[  0.   0.   0.   0.   0.   0.   0.   0.   0.   0.   0.   0.   0.   0.\n",
      "    0.   0.   0.   0.   0.   0.   0.   0.   0.   0.   0.   0.   0.   0.\n",
      "    0.   0.   0.   0.   0.   0.   0.   0.   0.   0.   0.   0. 139.  22.\n",
      "    7.  27.  88.  97.  94. 139. 138.  47.  17.  37. 117. 106.  97. 139.\n",
      "    0.   0.   0.   0.   0.   0.   0.   0.   0.   0.   0.   0.   0.   0.\n",
      "    0.   0. 139.  32.  11.  55. 139.  62.  38. 139. 106.  55.  26.  73.\n",
      "  139.  72.  38.  83.   0.   0.   0.   0.   0.   0.   0.   0.   0.   0.\n",
      "    0.   0.   0.   0.   0.   0.   0.   0.   0.   0.   0.   0.   0.   0.\n",
      "    0.   0.   0.   0.   0.   0.   0.   0.   0.   0.   0.   0.   0.   0.\n",
      "    0.   0.]]\n",
      "0.0\n",
      "0\n"
     ]
    }
   ],
   "source": [
    "# setting a keypoint manually as the centre of the patch, with size (diameter) patch size\n",
    "\n",
    "keypoint_patch_image1 = cv.KeyPoint((patch_image_size - 1) / 2, (patch_image_size - 1) / 2, _size=patch_image_size, _angle = 0)\n",
    "keypoints_patch_image1 = [keypoint_patch_image1]\n",
    "_, desc_patch_image1 = sift.compute(patch_image, keypoints_patch_image1)\n",
    "print(desc_patch_image1.shape)\n",
    "print(desc_patch_image1)\n",
    "print(keypoint_patch_image1.angle)\n",
    "print(keypoint_patch_image1.octave)"
   ]
  },
  {
   "cell_type": "code",
   "execution_count": 5,
   "metadata": {},
   "outputs": [
    {
     "name": "stdout",
     "output_type": "stream",
     "text": [
      "(1, 128)\n",
      "[[  0.   0.   0.   0.   0.   0.   0.   0.   0.   0.   0.   0.   0.   0.\n",
      "    0.   0.   0.   0.   0.   0.   0.   0.   0.   0.   0.   0.   0.   0.\n",
      "    0.   0.   0.   0.   0.   0.   0.   0.   0.   0.   0.   0. 138.  22.\n",
      "    7.  29.  88.  97.  93. 138. 136.  46.  16.  39. 117. 106.  98. 138.\n",
      "    0.   0.   0.   0.   0.   0.   0.   0.   0.   0.   0.   0.   0.   0.\n",
      "    0.   0. 138.  32.  11.  59. 138.  61.  38. 138. 103.  56.  25.  77.\n",
      "  138.  71.  39.  86.   0.   0.   0.   0.   0.   0.   0.   0.   0.   0.\n",
      "    0.   0.   0.   0.   0.   0.   0.   0.   0.   0.   0.   0.   0.   0.\n",
      "    0.   0.   0.   0.   0.   0.   0.   0.   0.   0.   0.   0.   0.   0.\n",
      "    0.   0.]]\n",
      "-1.0\n",
      "0\n"
     ]
    }
   ],
   "source": [
    "# setting a keypoint manually as the centre of the patch, with size (diameter) patch size\n",
    "\n",
    "keypoint_patch_image2 = cv.KeyPoint((patch_image_size - 1) / 2, (patch_image_size - 1) / 2, _size=patch_image_size)\n",
    "keypoints_patch_image2 = [keypoint_patch_image2]\n",
    "_, desc_patch_image2 = sift.compute(patch_image, keypoints_patch_image2)\n",
    "print(desc_patch_image2.shape)\n",
    "print(desc_patch_image2)\n",
    "print(keypoint_patch_image2.angle)\n",
    "print(keypoint_patch_image2.octave)"
   ]
  },
  {
   "cell_type": "code",
   "execution_count": 6,
   "metadata": {},
   "outputs": [
    {
     "data": {
      "text/plain": [
       "array([[1.        , 0.99982313],\n",
       "       [0.99982313, 1.        ]])"
      ]
     },
     "execution_count": 6,
     "metadata": {},
     "output_type": "execute_result"
    }
   ],
   "source": [
    "# correlation between two keypoints with only difference in angle (0 degrees vs -1 degrees)\n",
    "np.corrcoef(desc_patch_image1.reshape(128), desc_patch_image2.reshape(128))"
   ]
  },
  {
   "cell_type": "code",
   "execution_count": null,
   "metadata": {},
   "outputs": [],
   "source": []
  },
  {
   "cell_type": "code",
   "execution_count": null,
   "metadata": {},
   "outputs": [],
   "source": []
  },
  {
   "cell_type": "code",
   "execution_count": null,
   "metadata": {},
   "outputs": [],
   "source": []
  },
  {
   "cell_type": "code",
   "execution_count": 7,
   "metadata": {},
   "outputs": [
    {
     "name": "stdout",
     "output_type": "stream",
     "text": [
      "(1, 128)\n",
      "[[  0.   0.   0.   0.   0.   0.   0.   0.   0.   0.   0.   0.   0.   0.\n",
      "    0.   0.   0.   0.   0.   0.   0.   0.   0.   0.   0.   0.   0.   0.\n",
      "    0.   0.   0.   0.   0.   0.   0.   0.   0.   0.   0.   0. 138.  22.\n",
      "    7.  29.  88.  97.  93. 138. 136.  46.  16.  39. 117. 106.  98. 138.\n",
      "    0.   0.   0.   0.   0.   0.   0.   0.   0.   0.   0.   0.   0.   0.\n",
      "    0.   0. 138.  32.  11.  59. 138.  61.  38. 138. 103.  56.  25.  77.\n",
      "  138.  71.  39.  86.   0.   0.   0.   0.   0.   0.   0.   0.   0.   0.\n",
      "    0.   0.   0.   0.   0.   0.   0.   0.   0.   0.   0.   0.   0.   0.\n",
      "    0.   0.   0.   0.   0.   0.   0.   0.   0.   0.   0.   0.   0.   0.\n",
      "    0.   0.]]\n",
      "-1.0\n",
      "0\n"
     ]
    }
   ],
   "source": [
    "# setting a keypoint manually as the centre of the patch, with size (diameter) patch size\n",
    "\n",
    "keypoint_patch_image1 = cv.KeyPoint((patch_image_size - 1) / 2, (patch_image_size - 1) / 2, _size=patch_image_size, _octave = 0)\n",
    "keypoints_patch_image1 = [keypoint_patch_image1]\n",
    "_, desc_patch_image1 = sift.compute(patch_image, keypoints_patch_image1)\n",
    "print(desc_patch_image1.shape)\n",
    "print(desc_patch_image1)\n",
    "print(keypoint_patch_image1.angle)\n",
    "print(keypoint_patch_image1.octave)"
   ]
  },
  {
   "cell_type": "code",
   "execution_count": 8,
   "metadata": {},
   "outputs": [
    {
     "name": "stdout",
     "output_type": "stream",
     "text": [
      "(1, 128)\n",
      "[[  0.   0.   0.   0.   0.   0.   0.   0.   0.   0.   0.   0.   0.   0.\n",
      "    0.   0.   0.   0.   0.   0.   0.   0.   0.   0.   0.   0.   0.   0.\n",
      "    0.   0.   0.   0.   0.   0.   0.   0.   0.   0.   0.   0. 142.  11.\n",
      "    9.  33.  98.  89.  95. 142. 109.  25.  25.  45. 129.  97. 100. 142.\n",
      "    0.   0.   0.   0.   0.   0.   0.   0.   0.   0.   0.   0.   0.   0.\n",
      "    0.   0. 142.  15.  14.  63. 142.  53.  41. 142.  87.  28.  37.  85.\n",
      "  142.  59.  41. 106.   0.   0.   0.   0.   0.   0.   0.   0.   0.   0.\n",
      "    0.   0.   0.   0.   0.   0.   0.   0.   0.   0.   0.   0.   0.   0.\n",
      "    0.   0.   0.   0.   0.   0.   0.   0.   0.   0.   0.   0.   0.   0.\n",
      "    0.   0.]]\n",
      "-1.0\n",
      "256\n"
     ]
    }
   ],
   "source": [
    "# setting a keypoint manually as the centre of the patch, with size (diameter) patch size\n",
    "\n",
    "keypoint_patch_image2 = cv.KeyPoint((patch_image_size - 1) / 2, (patch_image_size - 1) / 2, _size=patch_image_size, _octave=256)\n",
    "keypoints_patch_image2 = [keypoint_patch_image2]\n",
    "_, desc_patch_image2 = sift.compute(patch_image, keypoints_patch_image2)\n",
    "print(desc_patch_image2.shape)\n",
    "print(desc_patch_image2)\n",
    "print(keypoint_patch_image2.angle)\n",
    "print(keypoint_patch_image2.octave)"
   ]
  },
  {
   "cell_type": "code",
   "execution_count": 9,
   "metadata": {},
   "outputs": [
    {
     "data": {
      "text/plain": [
       "array([[1.        , 0.99035713],\n",
       "       [0.99035713, 1.        ]])"
      ]
     },
     "execution_count": 9,
     "metadata": {},
     "output_type": "execute_result"
    }
   ],
   "source": [
    "# correlation between two keypoints with only difference in octave (octave 0 layer 0 vs octave 0 layer 1)\n",
    "np.corrcoef(desc_patch_image1.reshape(128), desc_patch_image2.reshape(128))"
   ]
  },
  {
   "cell_type": "code",
   "execution_count": null,
   "metadata": {},
   "outputs": [],
   "source": []
  },
  {
   "cell_type": "code",
   "execution_count": null,
   "metadata": {},
   "outputs": [],
   "source": []
  },
  {
   "cell_type": "code",
   "execution_count": null,
   "metadata": {},
   "outputs": [],
   "source": []
  },
  {
   "cell_type": "code",
   "execution_count": null,
   "metadata": {},
   "outputs": [],
   "source": []
  },
  {
   "cell_type": "code",
   "execution_count": 10,
   "metadata": {},
   "outputs": [],
   "source": [
    "image = imageio.imread('box.png')"
   ]
  },
  {
   "cell_type": "code",
   "execution_count": 11,
   "metadata": {},
   "outputs": [],
   "source": [
    "keypoint_index = 292\n",
    "# keypoint, descriptor = unpickle_keypoint_with_descriptor('zimnica/pickled_keypoint' + str(keypoint_index) + '_with_descriptor20200323_163005.pickle')\n",
    "# keypoint, descriptor = unpickle_keypoint_with_descriptor('zimnica/pickled_keypoint538_with_descriptor20200323_162855.pickle')\n",
    "keypoint = cv.KeyPoint(x=164.63192749023438, y=108.07417297363281, _size=14.915456771850586, _angle=216.53689575195312, _response=0.04516986012458801, _octave=2687234)\n",
    "keypoint1 = cv.KeyPoint(x=164, y=108, _size=14.915456771850586, _angle=216.53689575195312, _octave=258)"
   ]
  },
  {
   "cell_type": "code",
   "execution_count": 12,
   "metadata": {},
   "outputs": [
    {
     "name": "stdout",
     "output_type": "stream",
     "text": [
      "(1, 128)\n",
      "[[  4.   9.   3.  13.  30.  68.  16.   6.   2.  13.  38.   8.   1.  42.\n",
      "   60.   5.  31.  55.  23.   3.   0.  15.  28.  14.  55. 124.   8.   0.\n",
      "    0.   0.   0.   3.  24.  12.   4.  16.  61.  26.   7.  13.  84.  12.\n",
      "    1.   0.   5.  50. 114.  94.  10.   3.   3.   3.  71. 124.  80.  22.\n",
      "   51.  82.  16.   4.  14.  18.   5.  10.  47.  40.  14.  67. 120.   8.\n",
      "    0.   1. 124.  99.  13.  21.  19.  10.   6.  25.  26.  16.  11.  57.\n",
      "  124. 117.  19.   8.  32.   5.   1.   2.  14.  65.  61.  56.  42.   9.\n",
      "    6.  65.  66.   0.   2.  28. 124.  88.  65.  27.   2.   0.   1.  12.\n",
      "   39.  45.  59.  68.   8.   5.   3.   3.  20.  33.  17.  27.   3.  12.\n",
      "   13.  12.]]\n"
     ]
    }
   ],
   "source": [
    "keypoints = [keypoint]\n",
    "_, desc = sift.compute(image, keypoints)\n",
    "print(desc.shape)\n",
    "print(desc)"
   ]
  },
  {
   "cell_type": "code",
   "execution_count": 13,
   "metadata": {},
   "outputs": [
    {
     "name": "stdout",
     "output_type": "stream",
     "text": [
      "(1, 128)\n",
      "[[  4.   9.   3.  13.  30.  68.  16.   6.   2.  13.  38.   8.   1.  42.\n",
      "   60.   5.  31.  55.  23.   3.   0.  15.  28.  14.  55. 124.   8.   0.\n",
      "    0.   0.   0.   3.  24.  12.   4.  16.  61.  26.   7.  13.  84.  12.\n",
      "    1.   0.   5.  50. 114.  94.  10.   3.   3.   3.  71. 124.  80.  22.\n",
      "   51.  82.  16.   4.  14.  18.   5.  10.  47.  40.  14.  67. 120.   8.\n",
      "    0.   1. 124.  99.  13.  21.  19.  10.   6.  25.  26.  16.  11.  57.\n",
      "  124. 117.  19.   8.  32.   5.   1.   2.  14.  65.  61.  56.  42.   9.\n",
      "    6.  65.  66.   0.   2.  28. 124.  88.  65.  27.   2.   0.   1.  12.\n",
      "   39.  45.  59.  68.   8.   5.   3.   3.  20.  33.  17.  27.   3.  12.\n",
      "   13.  12.]]\n"
     ]
    }
   ],
   "source": [
    "keypoints = [keypoint1]\n",
    "_, desc1 = sift.compute(image, keypoints)\n",
    "print(desc1.shape)\n",
    "print(desc1)"
   ]
  },
  {
   "cell_type": "code",
   "execution_count": 14,
   "metadata": {},
   "outputs": [
    {
     "data": {
      "text/plain": [
       "array([[1., 1.],\n",
       "       [1., 1.]])"
      ]
     },
     "execution_count": 14,
     "metadata": {},
     "output_type": "execute_result"
    }
   ],
   "source": [
    "np.corrcoef(desc.reshape(128), desc1.reshape(128))"
   ]
  },
  {
   "cell_type": "code",
   "execution_count": null,
   "metadata": {},
   "outputs": [],
   "source": []
  },
  {
   "cell_type": "code",
   "execution_count": null,
   "metadata": {},
   "outputs": [],
   "source": []
  },
  {
   "cell_type": "code",
   "execution_count": null,
   "metadata": {},
   "outputs": [],
   "source": []
  },
  {
   "cell_type": "code",
   "execution_count": null,
   "metadata": {},
   "outputs": [],
   "source": []
  },
  {
   "cell_type": "code",
   "execution_count": 15,
   "metadata": {},
   "outputs": [
    {
     "name": "stdout",
     "output_type": "stream",
     "text": [
      "(1, 128)\n",
      "[[  4.   7.  11.  32.  65.  15.  10.   3.  66.  47.  15.  12.  29.   2.\n",
      "    3.   6.  12.   4.   1.   2. 100.   6.   0.   1.   2.   1.   0.   0.\n",
      "  151.  23.   0.   0.  13.   3.   1.  14. 151.  10.   1.   1. 151.  18.\n",
      "    1.   6.  52.   4.   1.   6.  30.   1.   0.   0. 117.  11.   0.   2.\n",
      "    5.   0.   0.   0. 151.  29.   0.   0.  20.   2.   0.  66. 128.   7.\n",
      "    1.   6. 151.  10.   0.  12.  36.   3.   1.  36.  30.   1.   0.   1.\n",
      "  111.   9.   0.   4.   7.   0.   0.   0. 151.  38.   0.   1.   9.   1.\n",
      "    5.  13.  50.  45.  38.   9.  68.   9.   6.   5.  12.   5.  33.  39.\n",
      "   18.   2.   2.   8.  69.   5.   0.   4.   8.   0.   0.   0. 151.  29.\n",
      "    0.   1.]]\n"
     ]
    }
   ],
   "source": [
    "keypoint = cv.KeyPoint(x=308.783996582, y=192.533889771, _size=4.49870252609, _angle=3.31573486328, _octave=16253184)\n",
    "keypoints = [keypoint]\n",
    "_, desc = sift.compute(image, keypoints)\n",
    "print(desc.shape)\n",
    "print(desc)"
   ]
  },
  {
   "cell_type": "code",
   "execution_count": 17,
   "metadata": {},
   "outputs": [
    {
     "data": {
      "text/plain": [
       "256"
      ]
     },
     "execution_count": 17,
     "metadata": {},
     "output_type": "execute_result"
    }
   ],
   "source": [
    "keypoint_octave_simplified(16253184)"
   ]
  },
  {
   "cell_type": "code",
   "execution_count": 18,
   "metadata": {},
   "outputs": [
    {
     "name": "stdout",
     "output_type": "stream",
     "text": [
      "(1, 128)\n",
      "[[  4.   7.  11.  32.  65.  15.  10.   3.  66.  47.  15.  12.  29.   2.\n",
      "    3.   6.  12.   4.   1.   2. 100.   6.   0.   1.   2.   1.   0.   0.\n",
      "  151.  23.   0.   0.  13.   3.   1.  14. 151.  10.   1.   1. 151.  18.\n",
      "    1.   6.  52.   4.   1.   6.  30.   1.   0.   0. 117.  11.   0.   2.\n",
      "    5.   0.   0.   0. 151.  29.   0.   0.  20.   2.   0.  66. 128.   7.\n",
      "    1.   6. 151.  10.   0.  12.  36.   3.   1.  36.  30.   1.   0.   1.\n",
      "  111.   9.   0.   4.   7.   0.   0.   0. 151.  38.   0.   1.   9.   1.\n",
      "    5.  13.  50.  45.  38.   9.  68.   9.   6.   5.  12.   5.  33.  39.\n",
      "   18.   2.   2.   8.  69.   5.   0.   4.   8.   0.   0.   0. 151.  29.\n",
      "    0.   1.]]\n"
     ]
    }
   ],
   "source": [
    "keypoint = cv.KeyPoint(x=308.783996582, y=192.533889771, _size=4.49870252609, _angle=3.31573486328, _octave=256)\n",
    "keypoints = [keypoint]\n",
    "_, desc = sift.compute(image, keypoints)\n",
    "print(desc.shape)\n",
    "print(desc)"
   ]
  },
  {
   "cell_type": "code",
   "execution_count": 19,
   "metadata": {},
   "outputs": [
    {
     "name": "stdout",
     "output_type": "stream",
     "text": [
      "(1, 128)\n",
      "[[  5.   6.  15.  37.  55.  15.  17.   3.  68.  43.  22.  13.  29.   3.\n",
      "    6.  10.  32.   6.   0.   1. 104.   7.   0.   1.  11.   1.   0.   0.\n",
      "  146.  23.   0.   0.  12.   4.   1.  21. 137.  21.   1.   3. 146.  26.\n",
      "    2.  10.  50.   8.   2.  16.  53.   2.   0.   0. 127.  11.   0.   2.\n",
      "   18.   0.   0.   0. 146.  26.   0.   1.  16.   5.   1.  72. 115.  10.\n",
      "    2.  11. 143.  27.   2.  15.  35.   4.   2.  55.  50.   3.   0.   2.\n",
      "  122.   9.   0.   4.  22.   1.   0.   0. 146.  34.   0.   1.   7.   4.\n",
      "    5.  15.  49.  38.  48.   7.  54.  26.   8.   4.  11.   4.  45.  37.\n",
      "   32.   3.   3.   6.  77.   5.   0.   3.  19.   0.   0.   0. 146.  25.\n",
      "    0.   2.]]\n"
     ]
    }
   ],
   "source": [
    "keypoint = cv.KeyPoint(x=308.783996582, y=192.533889771, _size=4.49870252609, _angle=3.31573486328, _octave=0)\n",
    "keypoints = [keypoint]\n",
    "_, desc = sift.compute(image, keypoints)\n",
    "print(desc.shape)\n",
    "print(desc)"
   ]
  },
  {
   "cell_type": "code",
   "execution_count": null,
   "metadata": {},
   "outputs": [],
   "source": []
  },
  {
   "cell_type": "code",
   "execution_count": null,
   "metadata": {},
   "outputs": [],
   "source": []
  },
  {
   "cell_type": "code",
   "execution_count": null,
   "metadata": {},
   "outputs": [],
   "source": []
  },
  {
   "cell_type": "code",
   "execution_count": null,
   "metadata": {},
   "outputs": [],
   "source": []
  },
  {
   "cell_type": "code",
   "execution_count": 20,
   "metadata": {},
   "outputs": [],
   "source": [
    "patch_centre_x = int(keypoint.pt[1])\n",
    "patch_centre_y = int(keypoint.pt[0])\n",
    "patch_diameter = int(2 * math.floor(keypoint.size / 2) + 1)  # rounding it to the nearest odd number\n",
    "patch_radius = (patch_diameter - 1) // 2"
   ]
  },
  {
   "cell_type": "code",
   "execution_count": null,
   "metadata": {},
   "outputs": [],
   "source": []
  },
  {
   "cell_type": "code",
   "execution_count": null,
   "metadata": {},
   "outputs": [],
   "source": []
  },
  {
   "cell_type": "code",
   "execution_count": 21,
   "metadata": {},
   "outputs": [
    {
     "name": "stdout",
     "output_type": "stream",
     "text": [
      "(223, 324)\n",
      "187\n",
      "197\n",
      "303\n",
      "313\n",
      "(10, 10)\n"
     ]
    }
   ],
   "source": [
    "patch = image[patch_centre_x - patch_diameter: patch_centre_x + patch_diameter, patch_centre_y - patch_diameter: patch_centre_y + patch_diameter]  # using the diameter and not the radius to get a larger patch\n",
    "print(image.shape)\n",
    "print(patch_centre_x - patch_diameter)  # TODO this could go out of the border and create an error!\n",
    "print(patch_centre_x + patch_diameter)\n",
    "print(patch_centre_y - patch_diameter)\n",
    "print(patch_centre_y + patch_diameter)\n",
    "print(patch.shape)"
   ]
  },
  {
   "cell_type": "code",
   "execution_count": 22,
   "metadata": {},
   "outputs": [
    {
     "name": "stdout",
     "output_type": "stream",
     "text": [
      "(1, 128)\n",
      "[[0. 0. 0. 0. 0. 0. 0. 0. 0. 0. 0. 0. 0. 0. 0. 0. 0. 0. 0. 0. 0. 0. 0. 0.\n",
      "  0. 0. 0. 0. 0. 0. 0. 0. 0. 0. 0. 0. 0. 0. 0. 0. 0. 0. 0. 0. 0. 0. 0. 0.\n",
      "  0. 0. 0. 0. 0. 0. 0. 0. 0. 0. 0. 0. 0. 0. 0. 0. 0. 0. 0. 0. 0. 0. 0. 0.\n",
      "  0. 0. 0. 0. 0. 0. 0. 0. 0. 0. 0. 0. 0. 0. 0. 0. 0. 0. 0. 0. 0. 0. 0. 0.\n",
      "  0. 0. 0. 0. 0. 0. 0. 0. 0. 0. 0. 0. 0. 0. 0. 0. 0. 0. 0. 0. 0. 0. 0. 0.\n",
      "  0. 0. 0. 0. 0. 0. 0. 0.]]\n"
     ]
    }
   ],
   "source": [
    "keypoint_patch = cv.KeyPoint((patch_diameter - 1) / 2, (patch_diameter - 1) / 2, _size=patch_diameter, _angle = 3.31573486328, _octave=256)\n",
    "keypoints = [keypoint]\n",
    "_, desc = sift.compute(patch, keypoints)\n",
    "print(desc.shape)\n",
    "print(desc)"
   ]
  },
  {
   "cell_type": "code",
   "execution_count": 23,
   "metadata": {},
   "outputs": [
    {
     "name": "stdout",
     "output_type": "stream",
     "text": [
      "WTF\n"
     ]
    }
   ],
   "source": [
    "print \"WTF\""
   ]
  },
  {
   "cell_type": "code",
   "execution_count": null,
   "metadata": {},
   "outputs": [],
   "source": []
  },
  {
   "cell_type": "code",
   "execution_count": null,
   "metadata": {},
   "outputs": [],
   "source": []
  },
  {
   "cell_type": "code",
   "execution_count": null,
   "metadata": {},
   "outputs": [],
   "source": []
  },
  {
   "cell_type": "code",
   "execution_count": null,
   "metadata": {},
   "outputs": [],
   "source": []
  },
  {
   "cell_type": "code",
   "execution_count": null,
   "metadata": {},
   "outputs": [],
   "source": []
  },
  {
   "cell_type": "code",
   "execution_count": 18,
   "metadata": {},
   "outputs": [
    {
     "name": "stdout",
     "output_type": "stream",
     "text": [
      "(30, 30)\n"
     ]
    }
   ],
   "source": [
    "patch_rotated = rotate_image_without_resize(patch, 360 - keypoint.angle)\n",
    "print(patch_rotated.shape)\n",
    "\n",
    "patch_rotated_cropped = patch_rotated[patch_rotated.shape[0] // 2 - patch_radius: patch_rotated.shape[0] // 2 + patch_radius + 1,\n",
    "                                      patch_rotated.shape[1] // 2 - patch_radius: patch_rotated.shape[1] // 2 + patch_radius + 1]\n"
   ]
  },
  {
   "cell_type": "code",
   "execution_count": null,
   "metadata": {},
   "outputs": [],
   "source": []
  },
  {
   "cell_type": "code",
   "execution_count": null,
   "metadata": {},
   "outputs": [],
   "source": []
  },
  {
   "cell_type": "code",
   "execution_count": 28,
   "metadata": {},
   "outputs": [
    {
     "name": "stdout",
     "output_type": "stream",
     "text": [
      "(1, 128)\n",
      "[[  0.   0.   0.   0.   0.   0.   0.   0.   0.   0.   0.   0.   0.   2.\n",
      "    0.   0.   0.   0.   0.   0.   0.   1.   0.   0.   0.   0.   0.   0.\n",
      "    0.   0.   0.   0.   1.   0.   0.   0.   0.   0.   5.  15.   2.   0.\n",
      "    0.   0. 132. 198. 116.  66.   0.   0.   0.   0. 118. 198.   3.   0.\n",
      "    0.   0.   0.   0.   0.   0.   0.   0.   1.   0.   0.   0.   0.   0.\n",
      "    4.  11.   2.   0.   0.   0. 157. 198. 107.  56.   0.   0.   0.   0.\n",
      "  129. 198.   2.   0.   0.   0.   0.   0.   0.   0.   0.   0.   0.   0.\n",
      "    0.   0.   0.   0.   0.   0.   0.   0.   0.   0.   0.   0.   0.   0.\n",
      "    0.   0.   0.   0.   0.   0.   0.   0.   0.   0.   0.   0.   0.   0.\n",
      "    0.   0.]]\n"
     ]
    }
   ],
   "source": [
    "keypoint = cv.KeyPoint((patch_diameter - 1) / 2, (patch_diameter - 1) / 2, _size=patch_diameter, _angle = 216.53689575195312, _response=0.04516986012458801, _octave=2687234)\n",
    "keypoints = [keypoint]\n",
    "_, desc = sift.compute(patch, keypoints)\n",
    "print(desc.shape)\n",
    "print(desc)"
   ]
  },
  {
   "cell_type": "code",
   "execution_count": 23,
   "metadata": {},
   "outputs": [
    {
     "name": "stdout",
     "output_type": "stream",
     "text": [
      "(1, 128)\n",
      "[[  0.   0.   0.   0.   0.   0.   1.   0.   2.   7.   0.   0.  13.  34.\n",
      "    5.   3.   0.   0.   0.   0.   3.   7.   0.   0.   0.   0.   0.   0.\n",
      "    0.   0.   0.   0. 139.  17.   2.   6.  17.   6.  28.  49. 149. 102.\n",
      "   33.  29. 149. 149. 149. 117.   3.  23.   5.   7.  73. 149.   3.   0.\n",
      "    0.   0.   0.   0.   0.   0.   0.   0.  76.   9.   3.   8.  11.   3.\n",
      "    9.  41. 103.  71.  44.  63. 108. 149.  54.  80.   3.  31.   7.  11.\n",
      "   62. 134.   2.   1.   0.   0.   0.   0.   0.   0.   0.   0.   0.   0.\n",
      "    0.   0.   0.   0.   0.   0.   2.   3.   0.   0.   0.   1.   1.   1.\n",
      "    0.   0.   0.   0.   0.   0.   0.   0.   0.   0.   0.   0.   0.   0.\n",
      "    0.   0.]]\n"
     ]
    }
   ],
   "source": [
    "keypoint = cv.KeyPoint((patch_diameter - 1) / 2, (patch_diameter - 1) / 2, _size=patch_diameter, _angle = 216.53689575195312)\n",
    "keypoints = [keypoint]\n",
    "_, desc = sift.compute(patch, keypoints)\n",
    "print(desc.shape)\n",
    "print(desc)"
   ]
  },
  {
   "cell_type": "code",
   "execution_count": 24,
   "metadata": {},
   "outputs": [
    {
     "name": "stdout",
     "output_type": "stream",
     "text": [
      "(1, 128)\n",
      "[[  0.   0.   0.   0.   0.   0.   0.   0.   4.   3.  17.   9.  12.  28.\n",
      "  139.  48.   4.   1.   8.  14.  27.  38.  73.  44.   0.   0.   0.   1.\n",
      "    0.   0.   0.   0.   2.   1.   2.   2.   2.   5.   2.   5.  64.  61.\n",
      "   89. 154. 107.  93. 154. 115.  42.  19.  36. 154. 154.  98.  96. 109.\n",
      "    0.   0.   0.  21.   2.   0.   0.   1.   0.   0.   0.   1.   1.   1.\n",
      "    0.   1.  17.  11.  36. 141.  36.   6.   2.  23.  12.   6.  18. 154.\n",
      "   55.   1.   1.  19.   0.   0.   0.   0.   0.   0.   0.   0.   0.   0.\n",
      "    0.   0.   0.   0.   0.   0.   0.   0.   0.   0.   0.   0.   0.   0.\n",
      "    0.   0.   0.   0.   0.   0.   0.   0.   0.   0.   0.   0.   0.   0.\n",
      "    0.   0.]]\n"
     ]
    }
   ],
   "source": [
    "keypoint = cv.KeyPoint((patch_diameter - 1) / 2, (patch_diameter - 1) / 2, _size=patch_diameter, _angle = 360-216.53689575195312)\n",
    "keypoints = [keypoint]\n",
    "_, desc = sift.compute(patch, keypoints)\n",
    "print(desc.shape)\n",
    "print(desc)"
   ]
  },
  {
   "cell_type": "code",
   "execution_count": null,
   "metadata": {},
   "outputs": [],
   "source": []
  },
  {
   "cell_type": "code",
   "execution_count": null,
   "metadata": {},
   "outputs": [],
   "source": []
  },
  {
   "cell_type": "code",
   "execution_count": null,
   "metadata": {},
   "outputs": [],
   "source": []
  },
  {
   "cell_type": "code",
   "execution_count": null,
   "metadata": {},
   "outputs": [],
   "source": []
  },
  {
   "cell_type": "code",
   "execution_count": null,
   "metadata": {},
   "outputs": [],
   "source": []
  },
  {
   "cell_type": "code",
   "execution_count": null,
   "metadata": {},
   "outputs": [],
   "source": []
  },
  {
   "cell_type": "code",
   "execution_count": 28,
   "metadata": {},
   "outputs": [],
   "source": [
    "keypoint_index = 292\n",
    "# keypoint, descriptor = unpickle_keypoint_with_descriptor('zimnica/pickled_keypoint' + str(keypoint_index) + '_with_descriptor20200323_163005.pickle')\n",
    "# keypoint, descriptor = unpickle_keypoint_with_descriptor('zimnica/pickled_keypoint538_with_descriptor20200323_162855.pickle')\n",
    "keypoint = cv.KeyPoint(x=164.63192749023438, y=108.07417297363281, _size=14.915456771850586, _angle=216.53689575195312, _response=0.04516986012458801, _octave=0)\n",
    "keypoint1 = cv.KeyPoint(x=164, y=108, _size=14.915456771850586, _angle=216.53689575195312)"
   ]
  },
  {
   "cell_type": "code",
   "execution_count": 29,
   "metadata": {},
   "outputs": [
    {
     "name": "stdout",
     "output_type": "stream",
     "text": [
      "(1, 128)\n",
      "[[ 23.  26.  18.  16.  31.  51.  17.  12.  63. 105.  10.   9.  61. 109.\n",
      "   17.   9.  50.  77.  20.  38.  54.  58.  35.  40.  27.  87.  15.  18.\n",
      "   21.  23.  29.  16.  53.  24.  25.  33.  70.  34.   9.  47. 109.  42.\n",
      "   18.  28.  62.  69.  39.  49.  49.  66.  26.  27.  58. 109.  35.  31.\n",
      "   49.  72.  25.  40.  37.  54.  37.  18.  32.  32.  21.  38.  71.  35.\n",
      "   11.  11. 109.  39.  19.  33.  43.  17.  15.  31.  47.  45.  20.  60.\n",
      "   92.  89.  12.  27.  41.  66.  22.  33.  24. 104.  36.  41.  32.   5.\n",
      "    7.  41.  47.  12.   5.  33.  84.  26.  19.  36.  22.  12.   7.  21.\n",
      "   60.  23.  21.  61.  59.  12.   8.  48.  16.  30.  33.  29.  25.  29.\n",
      "   23.  34.]]\n"
     ]
    }
   ],
   "source": [
    "keypoints = [keypoint]\n",
    "_, desc = sift.compute(image, keypoints)\n",
    "print(desc.shape)\n",
    "print(desc)"
   ]
  },
  {
   "cell_type": "code",
   "execution_count": 30,
   "metadata": {},
   "outputs": [
    {
     "name": "stdout",
     "output_type": "stream",
     "text": [
      "(1, 128)\n",
      "[[ 23.  29.  18.  15.  30.  54.  17.  11.  64. 106.  10.  10.  62. 108.\n",
      "   16.   9.  48.  78.  19.  38.  54.  56.  35.  40.  27.  88.  14.  17.\n",
      "   20.  22.  27.  15.  53.  23.  25.  33.  67.  32.   9.  47. 108.  44.\n",
      "   17.  26.  61.  75.  40.  48.  48.  68.  27.  28.  57. 108.  35.  31.\n",
      "   48.  72.  24.  39.  36.  51.  37.  17.  36.  33.  21.  37.  69.  33.\n",
      "   10.  11. 108.  38.  19.  34.  44.  19.  16.  31.  45.  46.  19.  58.\n",
      "   89.  96.  12.  26.  40.  66.  22.  34.  24.  99.  38.  43.  33.   6.\n",
      "    7.  38.  45.  12.   5.  32.  84.  27.  19.  37.  23.  11.   7.  20.\n",
      "   59.  23.  21.  60.  59.  13.   9.  49.  15.  32.  34.  29.  24.  31.\n",
      "   24.  34.]]\n"
     ]
    }
   ],
   "source": [
    "keypoints = [keypoint1]\n",
    "_, desc1 = sift.compute(image, keypoints)\n",
    "print(desc1.shape)\n",
    "print(desc1)"
   ]
  },
  {
   "cell_type": "code",
   "execution_count": null,
   "metadata": {},
   "outputs": [],
   "source": []
  }
 ],
 "metadata": {
  "kernelspec": {
   "display_name": "Python [conda env:cv]",
   "language": "python",
   "name": "conda-env-cv-py"
  },
  "language_info": {
   "codemirror_mode": {
    "name": "ipython",
    "version": 2
   },
   "file_extension": ".py",
   "mimetype": "text/x-python",
   "name": "python",
   "nbconvert_exporter": "python",
   "pygments_lexer": "ipython2",
   "version": "2.7.15"
  }
 },
 "nbformat": 4,
 "nbformat_minor": 2
}
