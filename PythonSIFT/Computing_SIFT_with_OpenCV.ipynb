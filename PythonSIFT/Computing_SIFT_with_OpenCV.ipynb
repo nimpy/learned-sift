{
 "cells": [
  {
   "cell_type": "code",
   "execution_count": 1,
   "metadata": {},
   "outputs": [],
   "source": [
    "import cv2 as cv\n",
    "import imageio\n",
    "import pickle\n",
    "import math\n",
    "import numpy as np"
   ]
  },
  {
   "cell_type": "code",
   "execution_count": 2,
   "metadata": {},
   "outputs": [],
   "source": [
    "sift = cv.xfeatures2d.SIFT_create()"
   ]
  },
  {
   "cell_type": "code",
   "execution_count": 11,
   "metadata": {},
   "outputs": [],
   "source": [
    "patch = imageio.imread('images/patch_rotated_cropped.png')\n",
    "patch_size = patch.shape[0]\n",
    "# patch_size = 16\n",
    "# patch = img[0 : patch_size, 0 : patch_size, 0]"
   ]
  },
  {
   "cell_type": "code",
   "execution_count": 12,
   "metadata": {},
   "outputs": [],
   "source": [
    "# # with detection of key points\n",
    "# keypoints, desc = sift.detectAndCompute(patch, None)\n",
    "# try:\n",
    "#     print(desc.shape)\n",
    "#     print(desc)\n",
    "# except AttributeError:\n",
    "#     print(\"Sift didn\\'t detect any key points in this patch!\")"
   ]
  },
  {
   "cell_type": "code",
   "execution_count": 13,
   "metadata": {},
   "outputs": [
    {
     "name": "stdout",
     "output_type": "stream",
     "text": [
      "(1, 128)\n",
      "[[  0.   0.   0.   0.   0.   0.   0.   0.   0.   0.   0.   0.   0.   0.\n",
      "    0.   0.   0.   0.   0.   0.   0.   0.   0.   0.   0.   0.   0.   0.\n",
      "    0.   0.   0.   0.   0.   0.   0.   0.   0.   0.   0.   0. 139.  22.\n",
      "    7.  27.  88.  97.  94. 139. 138.  47.  17.  37. 117. 106.  97. 139.\n",
      "    0.   0.   0.   0.   0.   0.   0.   0.   0.   0.   0.   0.   0.   0.\n",
      "    0.   0. 139.  32.  11.  55. 139.  62.  38. 139. 106.  55.  26.  73.\n",
      "  139.  72.  38.  83.   0.   0.   0.   0.   0.   0.   0.   0.   0.   0.\n",
      "    0.   0.   0.   0.   0.   0.   0.   0.   0.   0.   0.   0.   0.   0.\n",
      "    0.   0.   0.   0.   0.   0.   0.   0.   0.   0.   0.   0.   0.   0.\n",
      "    0.   0.]]\n"
     ]
    }
   ],
   "source": [
    "# setting a keypoint manually as the centre of the patch, with size (diameter) patch size\n",
    "\n",
    "keypoint = cv.KeyPoint((patch_size - 1) / 2, (patch_size - 1) / 2, _size=patch_size, _angle = 0)\n",
    "keypoints = [keypoint]\n",
    "_, desc = sift.compute(patch, keypoints)\n",
    "print(desc.shape)\n",
    "print(desc)"
   ]
  },
  {
   "cell_type": "code",
   "execution_count": 14,
   "metadata": {},
   "outputs": [
    {
     "name": "stdout",
     "output_type": "stream",
     "text": [
      "(1, 128)\n",
      "[[  0.   0.   0.   0.   0.   0.   0.   0.   0.   0.   0.   0.   0.   0.\n",
      "    0.   0.   0.   0.   0.   0.   0.   0.   0.   0.   0.   0.   0.   0.\n",
      "    0.   0.   0.   0.   0.   0.   0.   0.   0.   0.   0.   0. 138.  22.\n",
      "    7.  29.  88.  97.  93. 138. 136.  46.  16.  39. 117. 106.  98. 138.\n",
      "    0.   0.   0.   0.   0.   0.   0.   0.   0.   0.   0.   0.   0.   0.\n",
      "    0.   0. 138.  32.  11.  59. 138.  61.  38. 138. 103.  56.  25.  77.\n",
      "  138.  71.  39.  86.   0.   0.   0.   0.   0.   0.   0.   0.   0.   0.\n",
      "    0.   0.   0.   0.   0.   0.   0.   0.   0.   0.   0.   0.   0.   0.\n",
      "    0.   0.   0.   0.   0.   0.   0.   0.   0.   0.   0.   0.   0.   0.\n",
      "    0.   0.]]\n"
     ]
    }
   ],
   "source": [
    "# setting a keypoint manually as the centre of the patch, with size (diameter) patch size\n",
    "\n",
    "keypoint = cv.KeyPoint((patch_size - 1) / 2, (patch_size - 1) / 2, _size=patch_size)\n",
    "keypoints = [keypoint]\n",
    "_, desc = sift.compute(patch, keypoints)\n",
    "print(desc.shape)\n",
    "print(desc)"
   ]
  },
  {
   "cell_type": "code",
   "execution_count": 15,
   "metadata": {},
   "outputs": [
    {
     "data": {
      "text/plain": [
       "-1.0"
      ]
     },
     "execution_count": 15,
     "metadata": {},
     "output_type": "execute_result"
    }
   ],
   "source": [
    "keypoint.angle"
   ]
  },
  {
   "cell_type": "code",
   "execution_count": null,
   "metadata": {},
   "outputs": [],
   "source": []
  },
  {
   "cell_type": "code",
   "execution_count": null,
   "metadata": {},
   "outputs": [],
   "source": []
  },
  {
   "cell_type": "code",
   "execution_count": null,
   "metadata": {},
   "outputs": [],
   "source": []
  },
  {
   "cell_type": "code",
   "execution_count": null,
   "metadata": {},
   "outputs": [],
   "source": []
  },
  {
   "cell_type": "code",
   "execution_count": null,
   "metadata": {},
   "outputs": [],
   "source": []
  },
  {
   "cell_type": "code",
   "execution_count": null,
   "metadata": {},
   "outputs": [],
   "source": []
  },
  {
   "cell_type": "code",
   "execution_count": null,
   "metadata": {},
   "outputs": [],
   "source": []
  },
  {
   "cell_type": "code",
   "execution_count": null,
   "metadata": {},
   "outputs": [],
   "source": []
  },
  {
   "cell_type": "code",
   "execution_count": null,
   "metadata": {},
   "outputs": [],
   "source": []
  },
  {
   "cell_type": "code",
   "execution_count": 16,
   "metadata": {},
   "outputs": [],
   "source": [
    "def rotate_image_without_resize(image, angle):\n",
    "    image_center = tuple(np.array(image.shape[1::-1]) / 2)\n",
    "    rot_mat = cv.getRotationMatrix2D(image_center, angle, 1.0)\n",
    "    result = cv.warpAffine(image, rot_mat, image.shape[1::-1], flags=cv.INTER_LINEAR)\n",
    "    return result\n"
   ]
  },
  {
   "cell_type": "code",
   "execution_count": 17,
   "metadata": {},
   "outputs": [],
   "source": [
    "image = imageio.imread('box.png')"
   ]
  },
  {
   "cell_type": "code",
   "execution_count": 18,
   "metadata": {},
   "outputs": [],
   "source": [
    "keypoint_index = 292\n",
    "# keypoint, descriptor = unpickle_keypoint_with_descriptor('zimnica/pickled_keypoint' + str(keypoint_index) + '_with_descriptor20200323_163005.pickle')\n",
    "# keypoint, descriptor = unpickle_keypoint_with_descriptor('zimnica/pickled_keypoint538_with_descriptor20200323_162855.pickle')\n",
    "keypoint = cv.KeyPoint(x=164.63192749023438, y=108.07417297363281, _size=14.915456771850586, _angle=216.53689575195312, _response=0.04516986012458801, _octave=2687234)\n",
    "keypoint1 = cv.KeyPoint(x=164, y=108, _size=14.915456771850586, _angle=216.53689575195312, _octave=2687234)"
   ]
  },
  {
   "cell_type": "code",
   "execution_count": 51,
   "metadata": {},
   "outputs": [
    {
     "name": "stdout",
     "output_type": "stream",
     "text": [
      "(1, 128)\n",
      "[[  4.   9.   3.  13.  30.  68.  16.   6.   2.  13.  38.   8.   1.  42.\n",
      "   60.   5.  31.  55.  23.   3.   0.  15.  28.  14.  55. 124.   8.   0.\n",
      "    0.   0.   0.   3.  24.  12.   4.  16.  61.  26.   7.  13.  84.  12.\n",
      "    1.   0.   5.  50. 114.  94.  10.   3.   3.   3.  71. 124.  80.  22.\n",
      "   51.  82.  16.   4.  14.  18.   5.  10.  47.  40.  14.  67. 120.   8.\n",
      "    0.   1. 124.  99.  13.  21.  19.  10.   6.  25.  26.  16.  11.  57.\n",
      "  124. 117.  19.   8.  32.   5.   1.   2.  14.  65.  61.  56.  42.   9.\n",
      "    6.  65.  66.   0.   2.  28. 124.  88.  65.  27.   2.   0.   1.  12.\n",
      "   39.  45.  59.  68.   8.   5.   3.   3.  20.  33.  17.  27.   3.  12.\n",
      "   13.  12.]]\n"
     ]
    }
   ],
   "source": [
    "keypoints = [keypoint]\n",
    "_, desc = sift.compute(image, keypoints)\n",
    "print(desc.shape)\n",
    "print(desc)"
   ]
  },
  {
   "cell_type": "code",
   "execution_count": 52,
   "metadata": {},
   "outputs": [
    {
     "name": "stdout",
     "output_type": "stream",
     "text": [
      "(1, 128)\n",
      "[[  4.   9.   3.  13.  30.  68.  16.   6.   2.  13.  38.   8.   1.  42.\n",
      "   60.   5.  31.  55.  23.   3.   0.  15.  28.  14.  55. 124.   8.   0.\n",
      "    0.   0.   0.   3.  24.  12.   4.  16.  61.  26.   7.  13.  84.  12.\n",
      "    1.   0.   5.  50. 114.  94.  10.   3.   3.   3.  71. 124.  80.  22.\n",
      "   51.  82.  16.   4.  14.  18.   5.  10.  47.  40.  14.  67. 120.   8.\n",
      "    0.   1. 124.  99.  13.  21.  19.  10.   6.  25.  26.  16.  11.  57.\n",
      "  124. 117.  19.   8.  32.   5.   1.   2.  14.  65.  61.  56.  42.   9.\n",
      "    6.  65.  66.   0.   2.  28. 124.  88.  65.  27.   2.   0.   1.  12.\n",
      "   39.  45.  59.  68.   8.   5.   3.   3.  20.  33.  17.  27.   3.  12.\n",
      "   13.  12.]]\n"
     ]
    }
   ],
   "source": [
    "keypoints = [keypoint1]\n",
    "_, desc1 = sift.compute(image, keypoints)\n",
    "print(desc1.shape)\n",
    "print(desc1)"
   ]
  },
  {
   "cell_type": "code",
   "execution_count": 43,
   "metadata": {},
   "outputs": [
    {
     "data": {
      "text/plain": [
       "array([[1.        , 0.59566936],\n",
       "       [0.59566936, 1.        ]])"
      ]
     },
     "execution_count": 43,
     "metadata": {},
     "output_type": "execute_result"
    }
   ],
   "source": [
    "np.corrcoef(desc.reshape(128), desc1.reshape(128))"
   ]
  },
  {
   "cell_type": "code",
   "execution_count": null,
   "metadata": {},
   "outputs": [],
   "source": []
  },
  {
   "cell_type": "code",
   "execution_count": null,
   "metadata": {},
   "outputs": [],
   "source": []
  },
  {
   "cell_type": "code",
   "execution_count": 37,
   "metadata": {},
   "outputs": [],
   "source": [
    "patch_centre_x = int(keypoint.pt[1])\n",
    "patch_centre_y = int(keypoint.pt[0])\n",
    "patch_diameter = int(2 * math.floor(keypoint.size / 2) + 1)\n",
    "patch_radius = (patch_diameter - 1) // 2"
   ]
  },
  {
   "cell_type": "code",
   "execution_count": null,
   "metadata": {},
   "outputs": [],
   "source": []
  },
  {
   "cell_type": "code",
   "execution_count": null,
   "metadata": {},
   "outputs": [],
   "source": []
  },
  {
   "cell_type": "code",
   "execution_count": 38,
   "metadata": {},
   "outputs": [
    {
     "name": "stdout",
     "output_type": "stream",
     "text": [
      "(223, 324)\n",
      "93\n",
      "123\n",
      "149\n",
      "179\n",
      "(30, 30)\n"
     ]
    }
   ],
   "source": [
    "patch = image[patch_centre_x - patch_diameter: patch_centre_x + patch_diameter, patch_centre_y - patch_diameter: patch_centre_y + patch_diameter]\n",
    "print(image.shape)\n",
    "print(patch_centre_x - patch_diameter)  # TODO this could go out of the border and create an error!\n",
    "print(patch_centre_x + patch_diameter)\n",
    "print(patch_centre_y - patch_diameter)\n",
    "print(patch_centre_y + patch_diameter)\n",
    "print(patch.shape)"
   ]
  },
  {
   "cell_type": "code",
   "execution_count": null,
   "metadata": {},
   "outputs": [],
   "source": [
    "keypoint_patch = cv.KeyPoint((patch_diameter - 1) / 2, (patch_diameter - 1) / 2, _size=patch_diameter, _angle = 216.53689575195312, _response=0.04516986012458801, _octave=2687234)\n",
    "keypoints = [keypoint]\n",
    "_, desc = sift.compute(patch, keypoints)\n",
    "print(desc.shape)\n",
    "print(desc)"
   ]
  },
  {
   "cell_type": "code",
   "execution_count": null,
   "metadata": {},
   "outputs": [],
   "source": []
  },
  {
   "cell_type": "code",
   "execution_count": null,
   "metadata": {},
   "outputs": [],
   "source": []
  },
  {
   "cell_type": "code",
   "execution_count": null,
   "metadata": {},
   "outputs": [],
   "source": []
  },
  {
   "cell_type": "code",
   "execution_count": null,
   "metadata": {},
   "outputs": [],
   "source": []
  },
  {
   "cell_type": "code",
   "execution_count": null,
   "metadata": {},
   "outputs": [],
   "source": []
  },
  {
   "cell_type": "code",
   "execution_count": null,
   "metadata": {},
   "outputs": [],
   "source": []
  },
  {
   "cell_type": "code",
   "execution_count": 18,
   "metadata": {},
   "outputs": [
    {
     "name": "stdout",
     "output_type": "stream",
     "text": [
      "(30, 30)\n"
     ]
    }
   ],
   "source": [
    "patch_rotated = rotate_image_without_resize(patch, 360 - keypoint.angle)\n",
    "print(patch_rotated.shape)\n",
    "\n",
    "patch_rotated_cropped = patch_rotated[patch_rotated.shape[0] // 2 - patch_radius: patch_rotated.shape[0] // 2 + patch_radius + 1,\n",
    "                                      patch_rotated.shape[1] // 2 - patch_radius: patch_rotated.shape[1] // 2 + patch_radius + 1]\n"
   ]
  },
  {
   "cell_type": "code",
   "execution_count": null,
   "metadata": {},
   "outputs": [],
   "source": []
  },
  {
   "cell_type": "code",
   "execution_count": null,
   "metadata": {},
   "outputs": [],
   "source": []
  },
  {
   "cell_type": "code",
   "execution_count": 28,
   "metadata": {},
   "outputs": [
    {
     "name": "stdout",
     "output_type": "stream",
     "text": [
      "(1, 128)\n",
      "[[  0.   0.   0.   0.   0.   0.   0.   0.   0.   0.   0.   0.   0.   2.\n",
      "    0.   0.   0.   0.   0.   0.   0.   1.   0.   0.   0.   0.   0.   0.\n",
      "    0.   0.   0.   0.   1.   0.   0.   0.   0.   0.   5.  15.   2.   0.\n",
      "    0.   0. 132. 198. 116.  66.   0.   0.   0.   0. 118. 198.   3.   0.\n",
      "    0.   0.   0.   0.   0.   0.   0.   0.   1.   0.   0.   0.   0.   0.\n",
      "    4.  11.   2.   0.   0.   0. 157. 198. 107.  56.   0.   0.   0.   0.\n",
      "  129. 198.   2.   0.   0.   0.   0.   0.   0.   0.   0.   0.   0.   0.\n",
      "    0.   0.   0.   0.   0.   0.   0.   0.   0.   0.   0.   0.   0.   0.\n",
      "    0.   0.   0.   0.   0.   0.   0.   0.   0.   0.   0.   0.   0.   0.\n",
      "    0.   0.]]\n"
     ]
    }
   ],
   "source": [
    "keypoint = cv.KeyPoint((patch_diameter - 1) / 2, (patch_diameter - 1) / 2, _size=patch_diameter, _angle = 216.53689575195312, _response=0.04516986012458801, _octave=2687234)\n",
    "keypoints = [keypoint]\n",
    "_, desc = sift.compute(patch, keypoints)\n",
    "print(desc.shape)\n",
    "print(desc)"
   ]
  },
  {
   "cell_type": "code",
   "execution_count": 23,
   "metadata": {},
   "outputs": [
    {
     "name": "stdout",
     "output_type": "stream",
     "text": [
      "(1, 128)\n",
      "[[  0.   0.   0.   0.   0.   0.   1.   0.   2.   7.   0.   0.  13.  34.\n",
      "    5.   3.   0.   0.   0.   0.   3.   7.   0.   0.   0.   0.   0.   0.\n",
      "    0.   0.   0.   0. 139.  17.   2.   6.  17.   6.  28.  49. 149. 102.\n",
      "   33.  29. 149. 149. 149. 117.   3.  23.   5.   7.  73. 149.   3.   0.\n",
      "    0.   0.   0.   0.   0.   0.   0.   0.  76.   9.   3.   8.  11.   3.\n",
      "    9.  41. 103.  71.  44.  63. 108. 149.  54.  80.   3.  31.   7.  11.\n",
      "   62. 134.   2.   1.   0.   0.   0.   0.   0.   0.   0.   0.   0.   0.\n",
      "    0.   0.   0.   0.   0.   0.   2.   3.   0.   0.   0.   1.   1.   1.\n",
      "    0.   0.   0.   0.   0.   0.   0.   0.   0.   0.   0.   0.   0.   0.\n",
      "    0.   0.]]\n"
     ]
    }
   ],
   "source": [
    "keypoint = cv.KeyPoint((patch_diameter - 1) / 2, (patch_diameter - 1) / 2, _size=patch_diameter, _angle = 216.53689575195312)\n",
    "keypoints = [keypoint]\n",
    "_, desc = sift.compute(patch, keypoints)\n",
    "print(desc.shape)\n",
    "print(desc)"
   ]
  },
  {
   "cell_type": "code",
   "execution_count": 24,
   "metadata": {},
   "outputs": [
    {
     "name": "stdout",
     "output_type": "stream",
     "text": [
      "(1, 128)\n",
      "[[  0.   0.   0.   0.   0.   0.   0.   0.   4.   3.  17.   9.  12.  28.\n",
      "  139.  48.   4.   1.   8.  14.  27.  38.  73.  44.   0.   0.   0.   1.\n",
      "    0.   0.   0.   0.   2.   1.   2.   2.   2.   5.   2.   5.  64.  61.\n",
      "   89. 154. 107.  93. 154. 115.  42.  19.  36. 154. 154.  98.  96. 109.\n",
      "    0.   0.   0.  21.   2.   0.   0.   1.   0.   0.   0.   1.   1.   1.\n",
      "    0.   1.  17.  11.  36. 141.  36.   6.   2.  23.  12.   6.  18. 154.\n",
      "   55.   1.   1.  19.   0.   0.   0.   0.   0.   0.   0.   0.   0.   0.\n",
      "    0.   0.   0.   0.   0.   0.   0.   0.   0.   0.   0.   0.   0.   0.\n",
      "    0.   0.   0.   0.   0.   0.   0.   0.   0.   0.   0.   0.   0.   0.\n",
      "    0.   0.]]\n"
     ]
    }
   ],
   "source": [
    "keypoint = cv.KeyPoint((patch_diameter - 1) / 2, (patch_diameter - 1) / 2, _size=patch_diameter, _angle = 360-216.53689575195312)\n",
    "keypoints = [keypoint]\n",
    "_, desc = sift.compute(patch, keypoints)\n",
    "print(desc.shape)\n",
    "print(desc)"
   ]
  },
  {
   "cell_type": "code",
   "execution_count": null,
   "metadata": {},
   "outputs": [],
   "source": []
  }
 ],
 "metadata": {
  "kernelspec": {
   "display_name": "Python [conda env:cv]",
   "language": "python",
   "name": "conda-env-cv-py"
  },
  "language_info": {
   "codemirror_mode": {
    "name": "ipython",
    "version": 2
   },
   "file_extension": ".py",
   "mimetype": "text/x-python",
   "name": "python",
   "nbconvert_exporter": "python",
   "pygments_lexer": "ipython2",
   "version": "2.7.15"
  }
 },
 "nbformat": 4,
 "nbformat_minor": 2
}
