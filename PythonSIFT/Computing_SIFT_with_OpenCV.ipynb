{
 "cells": [
  {
   "cell_type": "code",
   "execution_count": 1,
   "metadata": {},
   "outputs": [],
   "source": [
    "import cv2 as cv\n",
    "import imageio"
   ]
  },
  {
   "cell_type": "code",
   "execution_count": 2,
   "metadata": {},
   "outputs": [],
   "source": [
    "sift = cv.xfeatures2d.SIFT_create()"
   ]
  },
  {
   "cell_type": "code",
   "execution_count": 3,
   "metadata": {},
   "outputs": [],
   "source": [
    "img = imageio.imread('/home/niaki/Downloads/Lenna.png')\n",
    "patch_size = 16\n",
    "patch = img[0 : patch_size, 0 : patch_size, 0]"
   ]
  },
  {
   "cell_type": "code",
   "execution_count": 4,
   "metadata": {},
   "outputs": [
    {
     "name": "stdout",
     "output_type": "stream",
     "text": [
      "Sift didn't detect any key points in this patch!\n"
     ]
    }
   ],
   "source": [
    "# with detection of key points\n",
    "keypoints, desc = sift.detectAndCompute(patch, None)\n",
    "try:\n",
    "    print(desc.shape)\n",
    "    print(desc)\n",
    "except AttributeError:\n",
    "    print(\"Sift didn\\'t detect any key points in this patch!\")"
   ]
  },
  {
   "cell_type": "code",
   "execution_count": 6,
   "metadata": {},
   "outputs": [
    {
     "name": "stdout",
     "output_type": "stream",
     "text": [
      "(1, 128)\n",
      "[[  0.   0.   0.   0.   0.   0.   0.   0.   0.   0.   0.   0.   0.   0.\n",
      "    0.   0.   0.   0.   0.   0.   0.   0.   0.   0.   0.   0.   0.   0.\n",
      "    0.   0.   0.   0.   0.   0.   0.   0.   0.   0.   0.   0. 129.  46.\n",
      "   37.  64. 129.  81.  47.  92. 129.  31.  23.  78. 129. 115.  42.  78.\n",
      "    0.   0.   0.   0.   0.   0.   0.   0.   0.   0.   0.   0.   0.   0.\n",
      "    0.   0. 129.  49.  40.  70. 127.  81.  95. 126. 129.  33.  25.  86.\n",
      "  129.  88.  67. 116.   0.   0.   0.   0.   0.   0.   0.   0.   0.   0.\n",
      "    0.   0.   0.   0.   0.   0.   0.   0.   0.   0.   0.   0.   0.   0.\n",
      "    0.   0.   0.   0.   0.   0.   0.   0.   0.   0.   0.   0.   0.   0.\n",
      "    0.   0.]]\n"
     ]
    }
   ],
   "source": [
    "# setting a keypoint manually as the centre of the patch, with size (diameter) patch size\n",
    "\n",
    "keypoint = cv.KeyPoint((patch_size - 1) / 2, (patch_size - 1) / 2, _size=patch_size)\n",
    "keypoints = [keypoint]\n",
    "_, desc = sift.compute(patch, keypoints)\n",
    "print(desc.shape)\n",
    "print(desc)"
   ]
  },
  {
   "cell_type": "code",
   "execution_count": null,
   "metadata": {},
   "outputs": [],
   "source": []
  }
 ],
 "metadata": {
  "kernelspec": {
   "display_name": "Python [conda env:cv]",
   "language": "python",
   "name": "conda-env-cv-py"
  },
  "language_info": {
   "codemirror_mode": {
    "name": "ipython",
    "version": 2
   },
   "file_extension": ".py",
   "mimetype": "text/x-python",
   "name": "python",
   "nbconvert_exporter": "python",
   "pygments_lexer": "ipython2",
   "version": "2.7.15"
  }
 },
 "nbformat": 4,
 "nbformat_minor": 2
}
