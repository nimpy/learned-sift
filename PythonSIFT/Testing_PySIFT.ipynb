{
 "cells": [
  {
   "cell_type": "code",
   "execution_count": 1,
   "metadata": {},
   "outputs": [],
   "source": [
    "import numpy as np\n",
    "import cv2\n",
    "from matplotlib import pyplot as plt\n",
    "from functools import cmp_to_key\n",
    "import pickle\n",
    "import datetime\n",
    "from scipy import ndimage\n",
    "import math\n",
    "import imageio\n",
    "\n",
    "from pysift import generateBaseImage, computeNumberOfOctaves, generateGaussianKernels, generateGaussianImages, \\\n",
    "    generateDoGImages, findScaleSpaceExtrema, removeDuplicateKeypoints, convertKeypointsToInputImageSize, generateDescriptors, \\\n",
    "    computeKeypointsWithOrientations, isPixelAnExtremum, localizeExtremumViaQuadraticFit, compareKeypoints, unpackOctave\n",
    "\n",
    "from testing_pysift_utils import rotate_image_without_resize, pickle_keypoint_with_descriptor, unpickle_keypoint_with_descriptor, \\\n",
    "    get_gaussian_images_from_image"
   ]
  },
  {
   "cell_type": "code",
   "execution_count": 2,
   "metadata": {},
   "outputs": [],
   "source": [
    "# default params\n",
    "sigma = 1.6\n",
    "num_intervals = 3\n",
    "assumed_blur = 0.5\n",
    "image_border_width = 5\n",
    "contrast_threshold = 0.04"
   ]
  },
  {
   "cell_type": "code",
   "execution_count": 3,
   "metadata": {},
   "outputs": [],
   "source": [
    "image = cv2.imread('box.png', 0)\n",
    "keypoint_index = 587  # 587 here is 459 for sift\n",
    "use_pickled = True"
   ]
  },
  {
   "cell_type": "code",
   "execution_count": null,
   "metadata": {},
   "outputs": [],
   "source": []
  },
  {
   "cell_type": "code",
   "execution_count": 4,
   "metadata": {},
   "outputs": [],
   "source": [
    "image = image.astype('float32')\n",
    "base_image = generateBaseImage(image, sigma, assumed_blur)\n",
    "num_octaves = computeNumberOfOctaves(base_image.shape)\n",
    "gaussian_kernels = generateGaussianKernels(sigma, num_intervals)\n",
    "gaussian_images = generateGaussianImages(base_image, num_octaves, gaussian_kernels)\n",
    "dog_images = generateDoGImages(gaussian_images)"
   ]
  },
  {
   "cell_type": "code",
   "execution_count": null,
   "metadata": {},
   "outputs": [],
   "source": []
  },
  {
   "cell_type": "code",
   "execution_count": null,
   "metadata": {},
   "outputs": [],
   "source": []
  },
  {
   "cell_type": "code",
   "execution_count": 5,
   "metadata": {},
   "outputs": [
    {
     "name": "stdout",
     "output_type": "stream",
     "text": [
      "308.7840270996094 192.53421020507812 4.498647689819336 3.3157284259796143 0.017142852768301964 16253184 -1\n",
      "[  3.   5.  10.  32.  64.  18.  11.   3.  64.  48.  17.  14.  28.   2.\n",
      "   4.   6.  12.   5.   0.   3.  98.   6.   0.   0.   2.   1.   0.   0.\n",
      " 150.  23.   0.   0.  10.   3.   1.  14. 150.  10.   0.   1. 150.  20.\n",
      "   1.   7.  57.   5.   0.   5.  32.   2.   0.   0. 115.  10.   1.   1.\n",
      "   4.   0.   0.   0. 150.  28.   1.   0.  16.   1.   1.  66. 134.   7.\n",
      "   1.   5. 150.   9.   1.  13.  39.   3.   1.  34.  31.   1.   0.   1.\n",
      " 109.   8.   1.   5.   6.   0.   0.   0. 150.  36.   1.   1.   8.   0.\n",
      "   4.  15.  57.  46.  34.   8.  74.   9.   5.   5.  12.   7.  34.  42.\n",
      "  18.   2.   2.   8.  69.   4.   1.   4.   7.   0.   0.   0. 150.  27.\n",
      "   1.   2.]\n",
      "3.3157284259796143 4.498647689819336\n",
      "\n"
     ]
    }
   ],
   "source": [
    "keypoint, descriptor = unpickle_keypoint_with_descriptor('zimnica/pickled_keypoint' + str(keypoint_index) + '_with_descriptor20200327_121004.pickle')\n",
    "print(keypoint.angle, keypoint.size)\n",
    "print()"
   ]
  },
  {
   "cell_type": "code",
   "execution_count": null,
   "metadata": {},
   "outputs": [],
   "source": []
  },
  {
   "cell_type": "code",
   "execution_count": null,
   "metadata": {},
   "outputs": [],
   "source": []
  },
  {
   "cell_type": "code",
   "execution_count": 6,
   "metadata": {},
   "outputs": [],
   "source": [
    "# TODO keep in mind that in opencv the order is reversed!!\n",
    "patch_centre_x = int(keypoint.pt[1])\n",
    "patch_centre_y = int(keypoint.pt[0])\n",
    "patch_diameter = int(2 * math.floor(keypoint.size / 2) + 1)  # rounding it to the nearest odd number\n",
    "patch_radius = (patch_diameter - 1) // 2\n",
    "\n",
    "# TODO check the +1 part\n",
    "patch = image[patch_centre_x - patch_diameter: patch_centre_x + patch_diameter + 1, patch_centre_y - patch_diameter: patch_centre_y + patch_diameter + 1]  # using the diameter and not the radius to get a larger patch"
   ]
  },
  {
   "cell_type": "code",
   "execution_count": 7,
   "metadata": {},
   "outputs": [
    {
     "name": "stdout",
     "output_type": "stream",
     "text": [
      "image shape (223, 324)\n",
      "patch shape (11, 11)\n",
      "patch diameter 5\n",
      "patch radius 2\n",
      "187 197\n",
      "303 313\n"
     ]
    },
    {
     "data": {
      "image/png": "[encoded data removed]",
      "text/plain": [
       "<Figure size 432x288 with 1 Axes>"
      ]
     },
     "metadata": {
      "needs_background": "light"
     },
     "output_type": "display_data"
    }
   ],
   "source": [
    "# just printing\n",
    "print(\"image shape\", image.shape)\n",
    "print(\"patch shape\", patch.shape)\n",
    "print(\"patch diameter\", patch_diameter)\n",
    "print(\"patch radius\", patch_radius)\n",
    "# TODO this could go out of the border and create an error!\n",
    "print(patch_centre_x - patch_diameter, patch_centre_x + patch_diameter)\n",
    "print(patch_centre_y - patch_diameter, patch_centre_y + patch_diameter)\n",
    "plt.imshow(patch, cmap=\"gray\")\n",
    "plt.show()"
   ]
  },
  {
   "cell_type": "code",
   "execution_count": 8,
   "metadata": {},
   "outputs": [],
   "source": [
    "keypoint = cv2.KeyPoint(patch.shape[1] // 2, patch.shape[0] // 2, _size=4.49870252609, _angle=3.31573486328, _octave=256)\n",
    "keypoints = [keypoint]\n",
    "\n",
    "patch_gaussian_images = get_gaussian_images_from_image(patch)"
   ]
  },
  {
   "cell_type": "code",
   "execution_count": null,
   "metadata": {},
   "outputs": [],
   "source": []
  },
  {
   "cell_type": "code",
   "execution_count": null,
   "metadata": {},
   "outputs": [],
   "source": []
  },
  {
   "cell_type": "code",
   "execution_count": 10,
   "metadata": {},
   "outputs": [],
   "source": [
    "# gaussian_images_cropped = []\n",
    "\n",
    "# for octave_index in range(num_octaves):\n",
    "#     gaussian_images_in_octave = []\n",
    "#     gaussian_images_in_octave.append(image)  # first image in octave already has the correct blur\n",
    "#     for gaussian_kernel in gaussian_kernels[1:]:\n",
    "#         image = GaussianBlur(image, (0, 0), sigmaX=gaussian_kernel, sigmaY=gaussian_kernel)\n",
    "#         gaussian_images_in_octave.append(image)\n",
    "#     gaussian_images.append(gaussian_images_in_octave)\n",
    "#     octave_base = gaussian_images_in_octave[-3]\n",
    "#     image = cv2.resize(octave_base, (int(octave_base.shape[1] / 2), int(octave_base.shape[0] / 2)), interpolation=INTER_NEAREST)\n",
    "# gaussian_images_cropped = np.array(gaussian_images_cropped)"
   ]
  },
  {
   "cell_type": "code",
   "execution_count": 19,
   "metadata": {},
   "outputs": [
    {
     "name": "stdout",
     "output_type": "stream",
     "text": [
      "(223, 324)\n"
     ]
    }
   ],
   "source": [
    "# gaussian_images_cropped = []\n",
    "\n",
    "# for octave in range(gaussian_images.shape[0]):\n",
    "#     gaussian_images_in_octave = []\n",
    "#     for layer in range(gaussian_images.shape[1]):\n",
    "#         #todo check\n",
    "#         if octave == 1 and layer == 1:\n",
    "#             print(gaussian_images[octave, layer].shape)\n",
    "#             gaussian_image_cropped = gaussian_images[octave, layer][patch_centre_x - patch_diameter: patch_centre_x + patch_diameter + 1, patch_centre_y - patch_diameter: patch_centre_y + patch_diameter + 1]\n",
    "#         else:\n",
    "#             gaussian_images_in_octave.append(gaussian_images[octave, layer])\n",
    "#     gaussian_images_in_octave = np.array(gaussian_images_in_octave)\n",
    "#     gaussian_images_cropped.append(gaussian_images_in_octave)\n",
    "# gaussian_images_cropped = np.array(gaussian_images_cropped)"
   ]
  },
  {
   "cell_type": "code",
   "execution_count": null,
   "metadata": {},
   "outputs": [],
   "source": []
  },
  {
   "cell_type": "code",
   "execution_count": null,
   "metadata": {},
   "outputs": [],
   "source": []
  },
  {
   "cell_type": "code",
   "execution_count": null,
   "metadata": {},
   "outputs": [],
   "source": []
  },
  {
   "cell_type": "code",
   "execution_count": 54,
   "metadata": {},
   "outputs": [],
   "source": [
    "gaussian_image_cropped = gaussian_images.copy()"
   ]
  },
  {
   "cell_type": "code",
   "execution_count": 68,
   "metadata": {},
   "outputs": [
    {
     "name": "stdout",
     "output_type": "stream",
     "text": [
      "(223, 324)\n",
      "(223, 324)\n",
      "(223, 324)\n",
      "(223, 324)\n",
      "(223, 324)\n",
      "(223, 324)\n"
     ]
    }
   ],
   "source": [
    "for i in range(gaussian_images_cropped[1].shape[0]):\n",
    "    print(gaussian_images[1, i].shape)\n",
    "    gaussian_image_cropped = gaussian_images[1, i][patch_centre_x - patch_diameter: patch_centre_x + patch_diameter + 1, patch_centre_y - patch_diameter: patch_centre_y + patch_diameter + 1]"
   ]
  },
  {
   "cell_type": "code",
   "execution_count": 55,
   "metadata": {},
   "outputs": [
    {
     "data": {
      "text/plain": [
       "(223, 324)"
      ]
     },
     "execution_count": 55,
     "metadata": {},
     "output_type": "execute_result"
    }
   ],
   "source": [
    "gaussian_images_cropped[1, 1].shape"
   ]
  },
  {
   "cell_type": "code",
   "execution_count": 58,
   "metadata": {},
   "outputs": [],
   "source": [
    "gaussian_image_cropped = gaussian_images[1, 1][patch_centre_x - patch_diameter: patch_centre_x + patch_diameter + 1, patch_centre_y - patch_diameter: patch_centre_y + patch_diameter + 1]"
   ]
  },
  {
   "cell_type": "code",
   "execution_count": 60,
   "metadata": {},
   "outputs": [
    {
     "data": {
      "text/plain": [
       "(11, 11)"
      ]
     },
     "execution_count": 60,
     "metadata": {},
     "output_type": "execute_result"
    }
   ],
   "source": [
    "gaussian_image_cropped.shape"
   ]
  },
  {
   "cell_type": "code",
   "execution_count": 61,
   "metadata": {},
   "outputs": [],
   "source": [
    "gaussian_images_cropped[1, 1] = gaussian_image_cropped"
   ]
  },
  {
   "cell_type": "code",
   "execution_count": 62,
   "metadata": {},
   "outputs": [
    {
     "data": {
      "text/plain": [
       "(11, 11)"
      ]
     },
     "execution_count": 62,
     "metadata": {},
     "output_type": "execute_result"
    }
   ],
   "source": [
    "gaussian_images_cropped[1, 1].shape"
   ]
  },
  {
   "cell_type": "code",
   "execution_count": 67,
   "metadata": {},
   "outputs": [
    {
     "ename": "ValueError",
     "evalue": "not enough values to unpack (expected 2, got 0)",
     "output_type": "error",
     "traceback": [
      "\u001b[0;31m---------------------------------------------------------------------------\u001b[0m",
      "\u001b[0;31mValueError\u001b[0m                                Traceback (most recent call last)",
      "\u001b[0;32m<ipython-input-67-1236ffaaba2f>\u001b[0m in \u001b[0;36m<module>\u001b[0;34m\u001b[0m\n\u001b[0;32m----> 1\u001b[0;31m \u001b[0mdescriptors\u001b[0m \u001b[0;34m=\u001b[0m \u001b[0mgenerateDescriptors\u001b[0m\u001b[0;34m(\u001b[0m\u001b[0mkeypoints\u001b[0m\u001b[0;34m,\u001b[0m \u001b[0mgaussian_image_cropped\u001b[0m\u001b[0;34m)\u001b[0m\u001b[0;34m\u001b[0m\u001b[0;34m\u001b[0m\u001b[0m\n\u001b[0m",
      "\u001b[0;32m~/PycharmProjects/learned-sift/PythonSIFT/pysift.py\u001b[0m in \u001b[0;36mgenerateDescriptors\u001b[0;34m(keypoints, gaussian_images, window_width, num_bins, scale_multiplier, descriptor_max_value)\u001b[0m\n\u001b[1;32m    343\u001b[0m         \u001b[0moctave\u001b[0m\u001b[0;34m,\u001b[0m \u001b[0mlayer\u001b[0m\u001b[0;34m,\u001b[0m \u001b[0mscale\u001b[0m \u001b[0;34m=\u001b[0m \u001b[0munpackOctave\u001b[0m\u001b[0;34m(\u001b[0m\u001b[0mkeypoint\u001b[0m\u001b[0;34m)\u001b[0m\u001b[0;34m\u001b[0m\u001b[0;34m\u001b[0m\u001b[0m\n\u001b[1;32m    344\u001b[0m         \u001b[0mgaussian_image\u001b[0m \u001b[0;34m=\u001b[0m \u001b[0mgaussian_images\u001b[0m\u001b[0;34m[\u001b[0m\u001b[0moctave\u001b[0m \u001b[0;34m+\u001b[0m \u001b[0;36m1\u001b[0m\u001b[0;34m,\u001b[0m \u001b[0mlayer\u001b[0m\u001b[0;34m]\u001b[0m\u001b[0;34m\u001b[0m\u001b[0;34m\u001b[0m\u001b[0m\n\u001b[0;32m--> 345\u001b[0;31m         \u001b[0mnum_rows\u001b[0m\u001b[0;34m,\u001b[0m \u001b[0mnum_cols\u001b[0m \u001b[0;34m=\u001b[0m \u001b[0mgaussian_image\u001b[0m\u001b[0;34m.\u001b[0m\u001b[0mshape\u001b[0m\u001b[0;34m\u001b[0m\u001b[0;34m\u001b[0m\u001b[0m\n\u001b[0m\u001b[1;32m    346\u001b[0m         \u001b[0mpoint\u001b[0m \u001b[0;34m=\u001b[0m \u001b[0mround\u001b[0m\u001b[0;34m(\u001b[0m\u001b[0mscale\u001b[0m \u001b[0;34m*\u001b[0m \u001b[0marray\u001b[0m\u001b[0;34m(\u001b[0m\u001b[0mkeypoint\u001b[0m\u001b[0;34m.\u001b[0m\u001b[0mpt\u001b[0m\u001b[0;34m)\u001b[0m\u001b[0;34m)\u001b[0m\u001b[0;34m.\u001b[0m\u001b[0mastype\u001b[0m\u001b[0;34m(\u001b[0m\u001b[0;34m'int'\u001b[0m\u001b[0;34m)\u001b[0m\u001b[0;34m\u001b[0m\u001b[0;34m\u001b[0m\u001b[0m\n\u001b[1;32m    347\u001b[0m         \u001b[0mbins_per_degree\u001b[0m \u001b[0;34m=\u001b[0m \u001b[0mnum_bins\u001b[0m \u001b[0;34m/\u001b[0m \u001b[0;36m360.\u001b[0m\u001b[0;34m\u001b[0m\u001b[0;34m\u001b[0m\u001b[0m\n",
      "\u001b[0;31mValueError\u001b[0m: not enough values to unpack (expected 2, got 0)"
     ]
    }
   ],
   "source": [
    "descriptors = generateDescriptors(keypoints, gaussian_image_cropped)"
   ]
  },
  {
   "cell_type": "code",
   "execution_count": 64,
   "metadata": {},
   "outputs": [
    {
     "data": {
      "text/plain": [
       "array([[  0.,   0.,   0.,   0.,   0.,   0.,   0.,   0.,  10.,   2.,   0.,\n",
       "          0.,   1.,   0.,   0.,   0.,   3.,   0.,   0.,   0.,   8.,   0.,\n",
       "          0.,   0.,   0.,   0.,   0.,   0.,   0.,   0.,   0.,   0.,   7.,\n",
       "          3.,   0.,   0.,   0.,   0.,   0.,   1., 206.,  70.,   0.,   0.,\n",
       "         23.,   2.,   0.,  21., 194.,  15.,   0.,   0., 206.,  20.,   0.,\n",
       "          2.,   0.,   0.,   0.,   0.,  11.,   1.,   0.,   0.,   8.,   1.,\n",
       "          0.,   0.,   0.,   0.,   0.,   1., 206.,  27.,   0.,   0.,  16.,\n",
       "          2.,   0.,  53., 206.,   4.,   0.,   0., 206.,  29.,   0.,  15.,\n",
       "          0.,   0.,   0.,   0.,  13.,   1.,   0.,   0.,   0.,   0.,   0.,\n",
       "          0.,   0.,   0.,   0.,   0.,  15.,   0.,   0.,   0.,   0.,   0.,\n",
       "          0.,   4.,   4.,   0.,   0.,   0.,   4.,   0.,   0.,   1.,   0.,\n",
       "          0.,   0.,   0.,   0.,   0.,   0.,   0.]], dtype=float32)"
      ]
     },
     "execution_count": 64,
     "metadata": {},
     "output_type": "execute_result"
    }
   ],
   "source": [
    "descriptors"
   ]
  },
  {
   "cell_type": "code",
   "execution_count": null,
   "metadata": {},
   "outputs": [],
   "source": []
  }
 ],
 "metadata": {
  "kernelspec": {
   "display_name": "Python [conda env:sift]",
   "language": "python",
   "name": "conda-env-sift-py"
  },
  "language_info": {
   "codemirror_mode": {
    "name": "ipython",
    "version": 3
   },
   "file_extension": ".py",
   "mimetype": "text/x-python",
   "name": "python",
   "nbconvert_exporter": "python",
   "pygments_lexer": "ipython3",
   "version": "3.6.8"
  }
 },
 "nbformat": 4,
 "nbformat_minor": 2
}
