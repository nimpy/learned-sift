{
 "cells": [
  {
   "cell_type": "code",
   "execution_count": 1,
   "metadata": {},
   "outputs": [
    {
     "name": "stderr",
     "output_type": "stream",
     "text": [
      "Using TensorFlow backend.\n"
     ]
    }
   ],
   "source": [
    "from keras.layers import Input, Dense, Convolution2D, MaxPooling2D, UpSampling2D, Conv2D, Flatten, Dense\n",
    "from keras.models import Model, load_model\n",
    "from keras.preprocessing.image import ImageDataGenerator, img_to_array, load_img\n",
    "from keras import backend as K\n",
    "import keras\n",
    "\n",
    "import numpy as np\n",
    "import matplotlib.pyplot as plt\n",
    "\n",
    "from os import listdir\n",
    "from os import system\n",
    "import os\n",
    "import random\n",
    "\n",
    "import imageio"
   ]
  },
  {
   "cell_type": "code",
   "execution_count": 2,
   "metadata": {},
   "outputs": [],
   "source": [
    "img_width, img_height = 31, 31\n",
    "\n",
    "nb_epoch = 50\n",
    "batch_size = 16"
   ]
  },
  {
   "cell_type": "code",
   "execution_count": 3,
   "metadata": {},
   "outputs": [],
   "source": [
    "base_dir = '/scratch/image_datasets/1_for_learned_sift/ridiculously_small'\n",
    "\n",
    "train_data_dir      = base_dir + '/patches/train'\n",
    "validation_data_dir = base_dir + '/patches/validation'\n",
    "# test_data_dir       = base_dir + '/patches/test'\n",
    "\n",
    "train_descrs_dir      = base_dir + '/descriptors_angles/train'\n",
    "validation_descrs_dir = base_dir + '/descriptors_angles/validation'\n",
    "# test_descrs_dir       = base_dir + '/descriptors_angles/test'"
   ]
  },
  {
   "cell_type": "code",
   "execution_count": null,
   "metadata": {},
   "outputs": [],
   "source": []
  },
  {
   "cell_type": "code",
   "execution_count": 4,
   "metadata": {},
   "outputs": [],
   "source": [
    "def loading_data(dir_patches, dir_descrs):\n",
    "    files_patches = listdir(dir_patches + '/class0')\n",
    "    files_patches.sort()\n",
    "    \n",
    "    files_descrs = listdir(dir_descrs + '/class0')\n",
    "    files_descrs.sort()\n",
    "    \n",
    "    assert len(files_patches) == len(files_descrs), \"The number of patches doesn't match the number of descriptors.\"\n",
    "\n",
    "    patches = []\n",
    "    descrs = []\n",
    "\n",
    "    \n",
    "    for file_patch, file_descr in zip(files_patches, files_descrs):\n",
    "        patch = imageio.imread(dir_patches + '/class0/' + file_patch)\n",
    "#         print(patch.shape)\n",
    "        if patch.shape[0] == 31:\n",
    "            patches.append(patch)\n",
    "            descr = np.load(dir_descrs + '/class0/' + file_descr)\n",
    "            descrs.append(descr)\n",
    "#         elif image.shape[0] == 19:\n",
    "#             temp_count19 += 1\n",
    "        \n",
    "        \n",
    "\n",
    "    patches = np.array(patches)\n",
    "    patches = patches.astype(np.float64) / 255\n",
    "    \n",
    "    descrs = np.array(descrs)\n",
    "    descrs = descrs.astype(np.float64) / 255\n",
    "    print(\"patches\", patches.shape, \"  descrs\", descrs.shape)\n",
    "    \n",
    "    return patches, descrs"
   ]
  },
  {
   "cell_type": "code",
   "execution_count": 5,
   "metadata": {
    "scrolled": true
   },
   "outputs": [
    {
     "name": "stdout",
     "output_type": "stream",
     "text": [
      "patches (35, 31, 31)   descrs (35, 129)\n",
      "patches (25, 31, 31)   descrs (25, 129)\n"
     ]
    }
   ],
   "source": [
    "x_train, y_train = loading_data(train_data_dir, train_descrs_dir)\n",
    "x_validation, y_validation = loading_data(validation_data_dir, validation_descrs_dir)"
   ]
  },
  {
   "cell_type": "code",
   "execution_count": 6,
   "metadata": {},
   "outputs": [],
   "source": [
    "x_train = x_train.reshape((x_train.shape[0], x_train.shape[2], x_train.shape[2], 1))\n",
    "x_validation = x_validation.reshape((x_validation.shape[0], x_validation.shape[2], x_validation.shape[2], 1))"
   ]
  },
  {
   "cell_type": "code",
   "execution_count": 7,
   "metadata": {},
   "outputs": [
    {
     "data": {
      "text/plain": [
       "(25, 31, 31, 1)"
      ]
     },
     "execution_count": 7,
     "metadata": {},
     "output_type": "execute_result"
    }
   ],
   "source": [
    "x_validation.shape"
   ]
  },
  {
   "cell_type": "code",
   "execution_count": null,
   "metadata": {},
   "outputs": [],
   "source": []
  },
  {
   "cell_type": "code",
   "execution_count": 26,
   "metadata": {},
   "outputs": [],
   "source": [
    "def MSLE_plus_plus(y_true, y_pred):\n",
    "    if not K.is_tensor(y_pred):\n",
    "        y_pred = K.constant(y_pred)\n",
    "    y_true = K.cast(y_true, y_pred.dtype)\n",
    "    first_log = K.log(K.clip(y_pred, K.epsilon(), None) + 1.)\n",
    "    second_log = K.log(K.clip(y_true, K.epsilon(), None) + 1.)\n",
    "    custom_loss_log = K.log(K.clip(y_true + y_pred, K.epsilon(), None) + 1.)\n",
    "    custom_loss_denominator = (y_true * y_pred + 0.005) * 256  # parameters to be further adjusted\n",
    "    return K.mean(K.square(first_log - second_log) + custom_loss_log / custom_loss_denominator, axis=-1)"
   ]
  },
  {
   "cell_type": "code",
   "execution_count": null,
   "metadata": {},
   "outputs": [],
   "source": []
  },
  {
   "cell_type": "code",
   "execution_count": 8,
   "metadata": {},
   "outputs": [
    {
     "name": "stdout",
     "output_type": "stream",
     "text": [
      "Model: \"model_1\"\n",
      "_________________________________________________________________\n",
      "Layer (type)                 Output Shape              Param #   \n",
      "=================================================================\n",
      "input_1 (InputLayer)         (None, 31, 31, 1)         0         \n",
      "_________________________________________________________________\n",
      "conv2d_1 (Conv2D)            (None, 29, 29, 32)        320       \n",
      "_________________________________________________________________\n",
      "conv2d_2 (Conv2D)            (None, 27, 27, 32)        9248      \n",
      "_________________________________________________________________\n",
      "conv2d_3 (Conv2D)            (None, 25, 25, 32)        9248      \n",
      "_________________________________________________________________\n",
      "conv2d_4 (Conv2D)            (None, 23, 23, 32)        9248      \n",
      "_________________________________________________________________\n",
      "conv2d_5 (Conv2D)            (None, 21, 21, 16)        4624      \n",
      "_________________________________________________________________\n",
      "max_pooling2d_1 (MaxPooling2 (None, 5, 5, 16)          0         \n",
      "_________________________________________________________________\n",
      "flatten_1 (Flatten)          (None, 400)               0         \n",
      "_________________________________________________________________\n",
      "dense_1 (Dense)              (None, 129)               51729     \n",
      "=================================================================\n",
      "Total params: 84,417\n",
      "Trainable params: 84,417\n",
      "Non-trainable params: 0\n",
      "_________________________________________________________________\n"
     ]
    }
   ],
   "source": [
    "input_shape = (img_width, img_height, 1)\n",
    "input_img = Input(shape=input_shape)\n",
    "\n",
    "x = Conv2D(32, (3, 3), activation=\"relu\", padding=\"valid\")(input_img)\n",
    "x = Conv2D(32, (3, 3), activation=\"relu\", padding=\"valid\")(x)\n",
    "x = Conv2D(32, (3, 3), activation=\"relu\", padding=\"valid\")(x)\n",
    "x = Conv2D(32, (3, 3), activation=\"relu\", padding=\"valid\")(x)\n",
    "x = Conv2D(16, (3, 3), activation=\"relu\", padding=\"valid\")(x)\n",
    "x = MaxPooling2D((4, 4), padding=\"valid\")(x)\n",
    "x = Flatten(data_format=\"channels_last\")(x)\n",
    "encoded = Dense(129, activation=\"sigmoid\")(x)\n",
    "\n",
    "encoder = Model(input_img, encoded)\n",
    "\n",
    "encoder.compile(optimizer='adadelta', loss=\"binary_crossentropy\")\n",
    "#next up: encoder.compile(optimizer='sgd', metrics=['categorical_accuracy'], loss='categorical_crossentropy')\n",
    "\n",
    "\n",
    "encoder.summary()"
   ]
  },
  {
   "cell_type": "code",
   "execution_count": 10,
   "metadata": {},
   "outputs": [],
   "source": [
    "def fixed_generator(x_train, y_train, batch_size):\n",
    "    while True:\n",
    "        batch_list_x = []\n",
    "        batch_list_y = []\n",
    "        \n",
    "        for i in range(x_train.shape[0]):\n",
    "            batch_list_x.append(x_train[i])\n",
    "            batch_list_y.append(y_train[i])\n",
    "            if len(batch_list_x) == batch_size:\n",
    "                yield (np.array(batch_list_x),np.array(batch_list_y))\n",
    "                batch_list_x = []\n",
    "                batch_list_y = []\n"
   ]
  },
  {
   "cell_type": "code",
   "execution_count": 22,
   "metadata": {
    "scrolled": true
   },
   "outputs": [
    {
     "name": "stdout",
     "output_type": "stream",
     "text": [
      "Epoch 1/100\n",
      "35/35 [==============================] - 1s 15ms/step - loss: 0.2481 - val_loss: 0.4967\n",
      "Epoch 2/100\n",
      "35/35 [==============================] - 1s 15ms/step - loss: 0.2494 - val_loss: 0.4949\n",
      "Epoch 3/100\n",
      "35/35 [==============================] - 1s 15ms/step - loss: 0.2481 - val_loss: 0.4982\n",
      "Epoch 4/100\n",
      "35/35 [==============================] - 1s 15ms/step - loss: 0.2494 - val_loss: 0.5012\n",
      "Epoch 5/100\n",
      "35/35 [==============================] - 1s 15ms/step - loss: 0.2482 - val_loss: 0.4975\n",
      "Epoch 6/100\n",
      "35/35 [==============================] - 1s 15ms/step - loss: 0.2494 - val_loss: 0.5014\n",
      "Epoch 7/100\n",
      "35/35 [==============================] - 1s 15ms/step - loss: 0.2481 - val_loss: 0.5006\n",
      "Epoch 8/100\n",
      "35/35 [==============================] - 1s 15ms/step - loss: 0.2494 - val_loss: 0.5020\n",
      "Epoch 9/100\n",
      "35/35 [==============================] - 1s 15ms/step - loss: 0.2482 - val_loss: 0.5030\n",
      "Epoch 10/100\n",
      "35/35 [==============================] - 1s 15ms/step - loss: 0.2497 - val_loss: 0.4992\n",
      "Epoch 11/100\n",
      "35/35 [==============================] - 1s 16ms/step - loss: 0.2483 - val_loss: 0.4987\n",
      "Epoch 12/100\n",
      "35/35 [==============================] - 1s 15ms/step - loss: 0.2494 - val_loss: 0.4988\n",
      "Epoch 13/100\n",
      "35/35 [==============================] - 1s 16ms/step - loss: 0.2481 - val_loss: 0.4996\n",
      "Epoch 14/100\n",
      "35/35 [==============================] - 1s 15ms/step - loss: 0.2494 - val_loss: 0.4978\n",
      "Epoch 15/100\n",
      "35/35 [==============================] - 1s 15ms/step - loss: 0.2481 - val_loss: 0.5006\n",
      "Epoch 16/100\n",
      "35/35 [==============================] - 1s 15ms/step - loss: 0.2494 - val_loss: 0.4983\n",
      "Epoch 17/100\n",
      "35/35 [==============================] - 1s 15ms/step - loss: 0.2482 - val_loss: 0.4974\n",
      "Epoch 18/100\n",
      "35/35 [==============================] - 1s 15ms/step - loss: 0.2494 - val_loss: 0.4986\n",
      "Epoch 19/100\n",
      "35/35 [==============================] - 1s 15ms/step - loss: 0.2481 - val_loss: 0.4981\n",
      "Epoch 20/100\n",
      "35/35 [==============================] - 1s 15ms/step - loss: 0.2494 - val_loss: 0.4984\n",
      "Epoch 21/100\n",
      "35/35 [==============================] - 1s 15ms/step - loss: 0.2482 - val_loss: 0.4952\n",
      "Epoch 22/100\n",
      "35/35 [==============================] - 1s 15ms/step - loss: 0.2494 - val_loss: 0.4979\n",
      "Epoch 23/100\n",
      "35/35 [==============================] - 1s 15ms/step - loss: 0.2481 - val_loss: 0.5004\n",
      "Epoch 24/100\n",
      "35/35 [==============================] - 1s 16ms/step - loss: 0.2494 - val_loss: 0.5048\n",
      "Epoch 25/100\n",
      "35/35 [==============================] - 1s 15ms/step - loss: 0.2482 - val_loss: 0.4973\n",
      "Epoch 26/100\n",
      "35/35 [==============================] - 1s 15ms/step - loss: 0.2494 - val_loss: 0.5013\n",
      "Epoch 27/100\n",
      "35/35 [==============================] - 1s 15ms/step - loss: 0.2481 - val_loss: 0.5002\n",
      "Epoch 28/100\n",
      "35/35 [==============================] - 1s 15ms/step - loss: 0.2494 - val_loss: 0.5010\n",
      "Epoch 29/100\n",
      "35/35 [==============================] - 1s 15ms/step - loss: 0.2481 - val_loss: 0.5016\n",
      "Epoch 30/100\n",
      "35/35 [==============================] - 1s 15ms/step - loss: 0.2494 - val_loss: 0.4984\n",
      "Epoch 31/100\n",
      "35/35 [==============================] - 1s 15ms/step - loss: 0.2481 - val_loss: 0.5004\n",
      "Epoch 32/100\n",
      "35/35 [==============================] - 1s 15ms/step - loss: 0.2494 - val_loss: 0.5003\n",
      "Epoch 33/100\n",
      "35/35 [==============================] - 1s 15ms/step - loss: 0.2481 - val_loss: 0.4980\n",
      "Epoch 34/100\n",
      "35/35 [==============================] - 1s 15ms/step - loss: 0.2495 - val_loss: 0.5015\n",
      "Epoch 35/100\n",
      "35/35 [==============================] - 1s 16ms/step - loss: 0.2481 - val_loss: 0.4990\n",
      "Epoch 36/100\n",
      "35/35 [==============================] - 1s 15ms/step - loss: 0.2494 - val_loss: 0.4997\n",
      "Epoch 37/100\n",
      "35/35 [==============================] - 1s 15ms/step - loss: 0.2481 - val_loss: 0.5012\n",
      "Epoch 38/100\n",
      "35/35 [==============================] - 1s 15ms/step - loss: 0.2495 - val_loss: 0.5005\n",
      "Epoch 39/100\n",
      "35/35 [==============================] - 1s 15ms/step - loss: 0.2481 - val_loss: 0.5011\n",
      "Epoch 40/100\n",
      "35/35 [==============================] - 1s 15ms/step - loss: 0.2494 - val_loss: 0.5002\n",
      "Epoch 41/100\n",
      "35/35 [==============================] - 1s 15ms/step - loss: 0.2481 - val_loss: 0.4989\n",
      "Epoch 42/100\n",
      "35/35 [==============================] - 1s 15ms/step - loss: 0.2494 - val_loss: 0.5022\n",
      "Epoch 43/100\n",
      "35/35 [==============================] - 1s 15ms/step - loss: 0.2482 - val_loss: 0.4972\n",
      "Epoch 44/100\n",
      "35/35 [==============================] - 1s 15ms/step - loss: 0.2494 - val_loss: 0.4987\n",
      "Epoch 45/100\n",
      "35/35 [==============================] - 1s 15ms/step - loss: 0.2481 - val_loss: 0.4975\n",
      "Epoch 46/100\n",
      "35/35 [==============================] - 1s 15ms/step - loss: 0.2494 - val_loss: 0.5026\n",
      "Epoch 47/100\n",
      "35/35 [==============================] - 1s 15ms/step - loss: 0.2481 - val_loss: 0.5020\n",
      "Epoch 48/100\n",
      "35/35 [==============================] - 1s 15ms/step - loss: 0.2494 - val_loss: 0.4999\n",
      "Epoch 49/100\n",
      "35/35 [==============================] - 1s 15ms/step - loss: 0.2481 - val_loss: 0.5004\n",
      "Epoch 50/100\n",
      "35/35 [==============================] - 1s 16ms/step - loss: 0.2494 - val_loss: 0.5024\n",
      "Epoch 51/100\n",
      "35/35 [==============================] - 1s 15ms/step - loss: 0.2482 - val_loss: 0.5046\n",
      "Epoch 52/100\n",
      "35/35 [==============================] - 1s 15ms/step - loss: 0.2494 - val_loss: 0.5030\n",
      "Epoch 53/100\n",
      "35/35 [==============================] - 1s 15ms/step - loss: 0.2481 - val_loss: 0.5020\n",
      "Epoch 54/100\n",
      "35/35 [==============================] - 1s 15ms/step - loss: 0.2494 - val_loss: 0.5002\n",
      "Epoch 55/100\n",
      "35/35 [==============================] - 1s 15ms/step - loss: 0.2481 - val_loss: 0.5003\n",
      "Epoch 56/100\n",
      "35/35 [==============================] - 1s 15ms/step - loss: 0.2494 - val_loss: 0.4961\n",
      "Epoch 57/100\n",
      "35/35 [==============================] - 1s 15ms/step - loss: 0.2481 - val_loss: 0.4981\n",
      "Epoch 58/100\n",
      "35/35 [==============================] - 1s 15ms/step - loss: 0.2494 - val_loss: 0.4986\n",
      "Epoch 59/100\n",
      "35/35 [==============================] - 1s 15ms/step - loss: 0.2481 - val_loss: 0.5034\n",
      "Epoch 60/100\n",
      "35/35 [==============================] - 1s 15ms/step - loss: 0.2494 - val_loss: 0.5000\n",
      "Epoch 61/100\n",
      "35/35 [==============================] - 1s 15ms/step - loss: 0.2481 - val_loss: 0.5015\n",
      "Epoch 62/100\n",
      "35/35 [==============================] - 1s 15ms/step - loss: 0.2494 - val_loss: 0.5010\n",
      "Epoch 63/100\n",
      "35/35 [==============================] - 1s 15ms/step - loss: 0.2481 - val_loss: 0.5004\n",
      "Epoch 64/100\n",
      "35/35 [==============================] - 1s 15ms/step - loss: 0.2495 - val_loss: 0.5018\n",
      "Epoch 65/100\n",
      "35/35 [==============================] - 1s 15ms/step - loss: 0.2482 - val_loss: 0.5014\n",
      "Epoch 66/100\n",
      "35/35 [==============================] - 1s 15ms/step - loss: 0.2494 - val_loss: 0.5035\n",
      "Epoch 67/100\n",
      "35/35 [==============================] - 1s 15ms/step - loss: 0.2481 - val_loss: 0.5028\n",
      "Epoch 68/100\n",
      "35/35 [==============================] - 1s 15ms/step - loss: 0.2494 - val_loss: 0.5024\n",
      "Epoch 69/100\n",
      "35/35 [==============================] - 1s 15ms/step - loss: 0.2481 - val_loss: 0.5028\n",
      "Epoch 70/100\n",
      "35/35 [==============================] - 1s 15ms/step - loss: 0.2494 - val_loss: 0.4987\n",
      "Epoch 71/100\n",
      "35/35 [==============================] - 1s 15ms/step - loss: 0.2481 - val_loss: 0.5019\n",
      "Epoch 72/100\n",
      "35/35 [==============================] - 1s 15ms/step - loss: 0.2494 - val_loss: 0.5039\n",
      "Epoch 73/100\n",
      "35/35 [==============================] - 1s 15ms/step - loss: 0.2481 - val_loss: 0.5037\n",
      "Epoch 74/100\n",
      "35/35 [==============================] - 1s 15ms/step - loss: 0.2494 - val_loss: 0.4967\n",
      "Epoch 75/100\n",
      "35/35 [==============================] - 1s 15ms/step - loss: 0.2481 - val_loss: 0.5004\n",
      "Epoch 76/100\n",
      "35/35 [==============================] - 1s 15ms/step - loss: 0.2494 - val_loss: 0.5002\n",
      "Epoch 77/100\n",
      "35/35 [==============================] - 1s 15ms/step - loss: 0.2481 - val_loss: 0.5033\n",
      "Epoch 78/100\n",
      "35/35 [==============================] - 1s 15ms/step - loss: 0.2494 - val_loss: 0.5042\n",
      "Epoch 79/100\n",
      "35/35 [==============================] - 1s 15ms/step - loss: 0.2482 - val_loss: 0.5020\n",
      "Epoch 80/100\n",
      "35/35 [==============================] - 1s 15ms/step - loss: 0.2497 - val_loss: 0.5014\n",
      "Epoch 81/100\n",
      "35/35 [==============================] - 1s 15ms/step - loss: 0.2481 - val_loss: 0.5011\n",
      "Epoch 82/100\n"
     ]
    },
    {
     "name": "stdout",
     "output_type": "stream",
     "text": [
      "35/35 [==============================] - 1s 15ms/step - loss: 0.2494 - val_loss: 0.5020\n",
      "Epoch 83/100\n",
      "35/35 [==============================] - 1s 15ms/step - loss: 0.2481 - val_loss: 0.5025\n",
      "Epoch 84/100\n",
      "35/35 [==============================] - 1s 16ms/step - loss: 0.2494 - val_loss: 0.5024\n",
      "Epoch 85/100\n",
      "35/35 [==============================] - 1s 16ms/step - loss: 0.2481 - val_loss: 0.5062\n",
      "Epoch 86/100\n",
      "35/35 [==============================] - 1s 17ms/step - loss: 0.2494 - val_loss: 0.5016\n",
      "Epoch 87/100\n",
      "35/35 [==============================] - 1s 16ms/step - loss: 0.2481 - val_loss: 0.5015\n",
      "Epoch 88/100\n",
      "35/35 [==============================] - 1s 16ms/step - loss: 0.2494 - val_loss: 0.5022\n",
      "Epoch 89/100\n",
      "35/35 [==============================] - 1s 16ms/step - loss: 0.2481 - val_loss: 0.5029\n",
      "Epoch 90/100\n",
      "35/35 [==============================] - 1s 15ms/step - loss: 0.2494 - val_loss: 0.5022\n",
      "Epoch 91/100\n",
      "35/35 [==============================] - 1s 16ms/step - loss: 0.2482 - val_loss: 0.5060\n",
      "Epoch 92/100\n",
      "35/35 [==============================] - 1s 15ms/step - loss: 0.2494 - val_loss: 0.5041\n",
      "Epoch 93/100\n",
      "35/35 [==============================] - 1s 15ms/step - loss: 0.2481 - val_loss: 0.5052\n",
      "Epoch 94/100\n",
      "35/35 [==============================] - 1s 17ms/step - loss: 0.2494 - val_loss: 0.5011\n",
      "Epoch 95/100\n",
      "35/35 [==============================] - 1s 16ms/step - loss: 0.2481 - val_loss: 0.5046\n",
      "Epoch 96/100\n",
      "35/35 [==============================] - 1s 15ms/step - loss: 0.2494 - val_loss: 0.5013\n",
      "Epoch 97/100\n",
      "35/35 [==============================] - 1s 15ms/step - loss: 0.2481 - val_loss: 0.5036\n",
      "Epoch 98/100\n",
      "35/35 [==============================] - 1s 15ms/step - loss: 0.2494 - val_loss: 0.5034\n",
      "Epoch 99/100\n",
      "35/35 [==============================] - 1s 16ms/step - loss: 0.2481 - val_loss: 0.5061\n",
      "Epoch 100/100\n",
      "35/35 [==============================] - 1s 16ms/step - loss: 0.2494 - val_loss: 0.5040\n"
     ]
    }
   ],
   "source": [
    "model_version = '2.0.0.0.0_encoder_lastsigmoid_bce_adadelta_ridiculouslysmall'\n",
    "\n",
    "os.system('mkdir ' + base_dir + '/weights' + model_version)\n",
    "checkpointer = keras.callbacks.ModelCheckpoint(base_dir + '/weights' + model_version + '/weights.{epoch:02d}-{val_loss:.2f}.hdf5', monitor='val_loss', verbose=0, save_best_only=False, save_weights_only=False, mode='auto', period=1)\n",
    "\n",
    "encoder.fit_generator(fixed_generator(x_train, y_train, batch_size),\n",
    "                steps_per_epoch=x_train.shape[0],\n",
    "                epochs=100,\n",
    "                validation_data=fixed_generator(x_validation, y_validation, batch_size),\n",
    "                validation_steps=x_validation.shape[0],\n",
    "                callbacks=[checkpointer]\n",
    "                )\n",
    "encoder.save(base_dir + '/ae' + model_version + '.h5')\n",
    "\n",
    "# import keras.losses\n",
    "# keras.losses.MSLE_plus_plus = MSLE_plus_plus\n",
    "# encoder = load_model(base_dir + '/ae' + model_version + '.h5')"
   ]
  },
  {
   "cell_type": "code",
   "execution_count": null,
   "metadata": {},
   "outputs": [],
   "source": []
  },
  {
   "cell_type": "code",
   "execution_count": 23,
   "metadata": {},
   "outputs": [
    {
     "data": {
      "text/plain": [
       "array([[  0.,   0.,   0.,   0.,   0., 255.,   0.,   0.,   0.,   0.,   0.,\n",
       "          0.,   0.,   0.,   0.,   0.,   0., 255.,   0.,   0.,   0.,   0.,\n",
       "          0.,   0.,   0.,   0.,   0.,   0.,   0.,   0.,   0.,   0.,   0.,\n",
       "          0.,   0.,   0.,   0.,   0.,   0.,   0., 255.,   0.,   0.,   0.,\n",
       "          0.,   0.,   0.,   0., 255., 255.,   0.,   0.,   0.,   0.,   0.,\n",
       "          0.,   0.,   0.,   0., 255.,   0.,   0.,   0.,   0.,   0.,   0.,\n",
       "          0.,   0.,   0.,   0.,   0.,   0.,   0.,   0.,   0.,   0.,   0.,\n",
       "          0.,   0.,   0.,   0.,   0.,   0.,   0.,   0.,   0.,   0.,   0.,\n",
       "          0.,   0.,   0.,   0.,   0.,   0.,   0.,   0.,   0.,   0.,   0.,\n",
       "          0.,   0.,   0.,   0.,   0.,   0.,   0.,   0.,   0.,   0.,   0.,\n",
       "          0., 255., 255.,   0.,   0.,   0.,   0.,   0.,   0.,   0.,   0.,\n",
       "          0.,   0.,   0., 255., 255.,   0.,   0., 255.]], dtype=float32)"
      ]
     },
     "execution_count": 23,
     "metadata": {},
     "output_type": "execute_result"
    }
   ],
   "source": [
    "np.around(encoder.predict(imageio.imread(train_data_dir + \"/class0/patch000001.bmp\").reshape(1,31,31,1))*255)"
   ]
  },
  {
   "cell_type": "code",
   "execution_count": 21,
   "metadata": {},
   "outputs": [
    {
     "data": {
      "text/plain": [
       "array([  4,   1,   0,   0, 137,  42,   1,   3,  55,   7,   0,   0,  71,\n",
       "        32,   1,   3, 137,  39,   0,   0,   3,   2,   0,   5,  40,  10,\n",
       "         1,  13,  81,   1,   0,   1,  11,   2,   0,   0, 137,  64,   1,\n",
       "         1,  54,   2,   0,   0, 109,  23,   1,   4, 137,  33,   4,   2,\n",
       "         8,   2,   0,   8,  40,  16,  12,  83,  83,   0,   0,   1,  27,\n",
       "         9,   0,   1, 137,  58,   2,   0,  23,   0,   0,   0,  54,  62,\n",
       "        17,  18, 137,  36,  12,   8,   5,  10,   9,  34,  10,  16,  22,\n",
       "       137,  76,   2,   0,   0,  50,   8,   0,   1, 137,  57,   1,   1,\n",
       "        26,   1,   0,   0,  31,  26,  18,  19,  19,   2,   4,   4,  10,\n",
       "        10,  17,  47,   1,   1,   2,  27, 137,  25,   2,   3,  19],\n",
       "      dtype=uint8)"
      ]
     },
     "execution_count": 21,
     "metadata": {},
     "output_type": "execute_result"
    }
   ],
   "source": [
    "np.load(train_descrs_dir + \"/class0/descr_angle_000001.npy\")"
   ]
  },
  {
   "cell_type": "code",
   "execution_count": null,
   "metadata": {},
   "outputs": [],
   "source": []
  },
  {
   "cell_type": "code",
   "execution_count": null,
   "metadata": {},
   "outputs": [],
   "source": []
  },
  {
   "cell_type": "code",
   "execution_count": null,
   "metadata": {},
   "outputs": [],
   "source": []
  },
  {
   "cell_type": "code",
   "execution_count": 13,
   "metadata": {},
   "outputs": [
    {
     "data": {
      "text/plain": [
       "array([[0., 0., 0., 0., 0., 0., 0., 0., 0., 0., 0., 0., 0., 0., 0., 0.,\n",
       "        0., 0., 0., 0., 0., 0., 0., 0., 0., 0., 0., 0., 0., 0., 0., 0.,\n",
       "        0., 0., 0., 0., 0., 0., 0., 0., 1., 0., 0., 0., 0., 0., 0., 0.,\n",
       "        1., 0., 0., 0., 1., 1., 0., 0., 0., 0., 0., 0., 0., 0., 0., 0.,\n",
       "        0., 0., 0., 0., 0., 0., 0., 0., 1., 0., 0., 0., 0., 0., 0., 0.,\n",
       "        1., 0., 1., 0., 1., 1., 0., 0., 0., 0., 0., 0., 0., 0., 0., 0.,\n",
       "        0., 0., 0., 0., 0., 0., 0., 0., 0., 0., 0., 0., 0., 0., 0., 0.,\n",
       "        0., 0., 0., 0., 0., 0., 0., 0., 0., 0., 0., 0., 0., 0., 0., 0.]],\n",
       "      dtype=float32)"
      ]
     },
     "execution_count": 13,
     "metadata": {},
     "output_type": "execute_result"
    }
   ],
   "source": [
    "encoder.predict(imageio.imread(\"/home/niaki/Code/ImageNet/tiny-imagenet-200/tiny_test16/class0/patch000026.png\").reshape(1,16,16,3))"
   ]
  },
  {
   "cell_type": "code",
   "execution_count": null,
   "metadata": {},
   "outputs": [],
   "source": []
  },
  {
   "cell_type": "code",
   "execution_count": 45,
   "metadata": {},
   "outputs": [],
   "source": [
    "temp_y_prime = encoder.predict(imageio.imread(\"/home/niaki/Code/ImageNet/tiny-imagenet-200/tiny_train16/class0/patch000012.png\").reshape(1,16,16,3))"
   ]
  },
  {
   "cell_type": "code",
   "execution_count": 46,
   "metadata": {},
   "outputs": [],
   "source": [
    "temp_y = np.load(\"/home/niaki/Code/ImageNet/tiny-imagenet-200/tiny_sifts/tiny_train16/class0/patch000012.npy\")"
   ]
  },
  {
   "cell_type": "code",
   "execution_count": 47,
   "metadata": {
    "scrolled": true
   },
   "outputs": [
    {
     "name": "stdout",
     "output_type": "stream",
     "text": [
      "0.6393183138370047 \n",
      "\n",
      "    0.000000    0.000000\n",
      "    0.000000    0.000000\n",
      "    0.000000    0.000000\n",
      "    0.000000    0.000000\n",
      "    0.000000    0.000000\n",
      "    0.000000    0.000000\n",
      "    0.000000    0.000000\n",
      "    0.000000    0.000000\n",
      "    0.000000    0.000000\n",
      "    0.000000    0.000000\n",
      "    0.000000    0.000000\n",
      "    0.000000    0.000000\n",
      "    0.000000    0.000000\n",
      "    0.000000    0.000000\n",
      "    0.000000    0.000000\n",
      "    0.000000    0.000000\n",
      "    0.000000    0.000000\n",
      "    0.000000    0.000000\n",
      "    0.000000    0.000000\n",
      "    0.000000    0.000000\n",
      "    0.000000    0.000000\n",
      "    0.000000    0.000000\n",
      "    0.000000    0.000000\n",
      "    0.000000    0.000000\n",
      "    0.000000    0.000000\n",
      "    0.000000    0.000000\n",
      "    0.000000    0.000000\n",
      "    0.000000    0.000000\n",
      "    0.000000    0.000000\n",
      "    0.000000    0.000000\n",
      "    0.000000    0.000000\n",
      "    0.000000    0.000000\n",
      "    0.000000    0.000000\n",
      "    0.000000    0.000000\n",
      "    0.000000    0.000000\n",
      "    0.000000    0.000000\n",
      "    0.000000    0.000000\n",
      "    0.000000    0.000000\n",
      "    0.000000    0.000000\n",
      "    0.000000    0.000000\n",
      "   91.000000    1.000000\n",
      "   18.000000    0.000000\n",
      "    1.000000    1.000000\n",
      "    1.000000    0.000000\n",
      "    7.000000    1.000000\n",
      "   56.000000    0.000000\n",
      "  157.000000    0.000000\n",
      "  157.000000    1.000000\n",
      "  103.000000    1.000000\n",
      "   21.000000    0.000000\n",
      "    2.000000    1.000000\n",
      "    3.000000    0.000000\n",
      "   16.000000    1.000000\n",
      "   96.000000    1.000000\n",
      "  157.000000    1.000000\n",
      "  157.000000    1.000000\n",
      "    0.000000    0.000000\n",
      "    0.000000    0.000000\n",
      "    0.000000    0.000000\n",
      "    0.000000    0.000000\n",
      "    0.000000    0.000000\n",
      "    0.000000    0.000000\n",
      "    0.000000    0.000000\n",
      "    0.000000    0.000000\n",
      "    0.000000    0.000000\n",
      "    0.000000    0.000000\n",
      "    0.000000    0.000000\n",
      "    0.000000    0.000000\n",
      "    0.000000    0.000000\n",
      "    0.000000    0.000000\n",
      "    0.000000    0.000000\n",
      "    0.000000    0.000000\n",
      "  110.000000    1.000000\n",
      "   14.000000    0.000000\n",
      "    1.000000    1.000000\n",
      "    3.000000    0.000000\n",
      "    9.000000    0.984089\n",
      "   33.000000    0.000000\n",
      "  157.000000    0.000000\n",
      "  157.000000    1.000000\n",
      "  125.000000    1.000000\n",
      "   15.000000    0.000000\n",
      "    1.000000    1.000000\n",
      "    9.000000    0.000000\n",
      "   25.000000    1.000000\n",
      "   48.000000    1.000000\n",
      "  157.000000    1.000000\n",
      "  157.000000    1.000000\n",
      "    0.000000    0.000000\n",
      "    0.000000    0.000000\n",
      "    0.000000    0.000000\n",
      "    0.000000    0.000000\n",
      "    0.000000    0.000000\n",
      "    0.000000    0.000000\n",
      "    0.000000    0.000000\n",
      "    0.000000    0.000000\n",
      "    0.000000    0.000000\n",
      "    0.000000    0.000000\n",
      "    0.000000    0.000000\n",
      "    0.000000    0.000000\n",
      "    0.000000    0.000000\n",
      "    0.000000    0.000000\n",
      "    0.000000    0.000000\n",
      "    0.000000    0.000000\n",
      "    0.000000    0.000000\n",
      "    0.000000    0.000000\n",
      "    0.000000    0.000000\n",
      "    0.000000    0.000000\n",
      "    0.000000    0.000000\n",
      "    0.000000    0.000000\n",
      "    0.000000    0.000000\n",
      "    0.000000    0.000000\n",
      "    0.000000    0.000000\n",
      "    0.000000    0.000000\n",
      "    0.000000    0.000000\n",
      "    0.000000    0.000000\n",
      "    0.000000    0.000000\n",
      "    0.000000    0.000000\n",
      "    0.000000    0.000000\n",
      "    0.000000    0.000000\n",
      "    0.000000    0.000000\n",
      "    0.000000    0.000000\n",
      "    0.000000    0.000000\n",
      "    0.000000    0.000000\n",
      "    0.000000    0.000000\n",
      "    0.000000    0.000000\n",
      "    0.000000    0.000000\n",
      "    0.000000    0.000000\n"
     ]
    }
   ],
   "source": [
    "print(np.corrcoef(temp_y, temp_y_prime[0])[1,0], \"\\n\")\n",
    "for i in range(temp_y_prime.shape[1]):\n",
    "    print('{:>12f}{:>12f}'.format(temp_y[i], temp_y_prime[0, i]))      \n",
    "#     print(temp_y_prime[0, i], temp_y[i])"
   ]
  },
  {
   "cell_type": "code",
   "execution_count": null,
   "metadata": {},
   "outputs": [],
   "source": []
  },
  {
   "cell_type": "code",
   "execution_count": null,
   "metadata": {},
   "outputs": [],
   "source": []
  },
  {
   "cell_type": "code",
   "execution_count": null,
   "metadata": {},
   "outputs": [],
   "source": []
  },
  {
   "cell_type": "code",
   "execution_count": null,
   "metadata": {},
   "outputs": [],
   "source": []
  },
  {
   "cell_type": "code",
   "execution_count": null,
   "metadata": {},
   "outputs": [],
   "source": []
  },
  {
   "cell_type": "code",
   "execution_count": null,
   "metadata": {},
   "outputs": [],
   "source": []
  },
  {
   "cell_type": "code",
   "execution_count": 21,
   "metadata": {},
   "outputs": [
    {
     "data": {
      "text/plain": [
       "array([[0.000e+00, 0.000e+00, 0.000e+00, 0.000e+00, 0.000e+00, 0.000e+00,\n",
       "        0.000e+00, 0.000e+00, 0.000e+00, 0.000e+00, 0.000e+00, 0.000e+00,\n",
       "        0.000e+00, 0.000e+00, 0.000e+00, 0.000e+00, 0.000e+00, 0.000e+00,\n",
       "        0.000e+00, 0.000e+00, 0.000e+00, 0.000e+00, 0.000e+00, 0.000e+00,\n",
       "        0.000e+00, 0.000e+00, 0.000e+00, 0.000e+00, 0.000e+00, 0.000e+00,\n",
       "        0.000e+00, 0.000e+00, 0.000e+00, 0.000e+00, 0.000e+00, 0.000e+00,\n",
       "        0.000e+00, 0.000e+00, 0.000e+00, 0.000e+00, 1.000e+00, 0.000e+00,\n",
       "        0.000e+00, 0.000e+00, 0.000e+00, 0.000e+00, 0.000e+00, 0.000e+00,\n",
       "        0.000e+00, 0.000e+00, 3.427e-06, 0.000e+00, 0.000e+00, 0.000e+00,\n",
       "        0.000e+00, 0.000e+00, 0.000e+00, 0.000e+00, 0.000e+00, 0.000e+00,\n",
       "        0.000e+00, 0.000e+00, 0.000e+00, 0.000e+00, 0.000e+00, 0.000e+00,\n",
       "        0.000e+00, 0.000e+00, 0.000e+00, 0.000e+00, 0.000e+00, 0.000e+00,\n",
       "        0.000e+00, 0.000e+00, 0.000e+00, 0.000e+00, 0.000e+00, 0.000e+00,\n",
       "        0.000e+00, 0.000e+00, 0.000e+00, 0.000e+00, 0.000e+00, 0.000e+00,\n",
       "        0.000e+00, 0.000e+00, 0.000e+00, 0.000e+00, 0.000e+00, 0.000e+00,\n",
       "        0.000e+00, 0.000e+00, 0.000e+00, 0.000e+00, 0.000e+00, 0.000e+00,\n",
       "        0.000e+00, 0.000e+00, 0.000e+00, 0.000e+00, 0.000e+00, 0.000e+00,\n",
       "        0.000e+00, 0.000e+00, 0.000e+00, 0.000e+00, 0.000e+00, 0.000e+00,\n",
       "        0.000e+00, 0.000e+00, 0.000e+00, 0.000e+00, 0.000e+00, 0.000e+00,\n",
       "        0.000e+00, 0.000e+00, 0.000e+00, 0.000e+00, 0.000e+00, 0.000e+00,\n",
       "        0.000e+00, 0.000e+00, 0.000e+00, 0.000e+00, 0.000e+00, 0.000e+00,\n",
       "        0.000e+00, 0.000e+00]], dtype=float32)"
      ]
     },
     "execution_count": 21,
     "metadata": {},
     "output_type": "execute_result"
    }
   ],
   "source": [
    "np.round(temp, decimals=9)"
   ]
  },
  {
   "cell_type": "code",
   "execution_count": null,
   "metadata": {},
   "outputs": [],
   "source": []
  },
  {
   "cell_type": "code",
   "execution_count": null,
   "metadata": {},
   "outputs": [],
   "source": []
  },
  {
   "cell_type": "code",
   "execution_count": null,
   "metadata": {},
   "outputs": [],
   "source": []
  },
  {
   "cell_type": "code",
   "execution_count": 14,
   "metadata": {},
   "outputs": [
    {
     "name": "stdout",
     "output_type": "stream",
     "text": [
      "1.14.0\n"
     ]
    }
   ],
   "source": [
    "import tensorflow as tf\n",
    "\n",
    "print(tf.__version__)"
   ]
  },
  {
   "cell_type": "code",
   "execution_count": 19,
   "metadata": {},
   "outputs": [
    {
     "name": "stderr",
     "output_type": "stream",
     "text": [
      "W0122 20:00:43.071549 140376228677440 deprecation.py:323] From /scratch/tensorflow/lib/python3.6/site-packages/tensorflow/python/compat/v2_compat.py:61: disable_resource_variables (from tensorflow.python.ops.variable_scope) is deprecated and will be removed in a future version.\n",
      "Instructions for updating:\n",
      "non-resource variables are not supported in the long term\n"
     ]
    }
   ],
   "source": [
    "tf.disable_v2_behavior()"
   ]
  },
  {
   "cell_type": "code",
   "execution_count": 21,
   "metadata": {},
   "outputs": [],
   "source": [
    "config = tf.ConfigProto()\n",
    "config.gpu_options.allow_growth = True\n",
    "sess = tf.Session(config=config)"
   ]
  },
  {
   "cell_type": "code",
   "execution_count": null,
   "metadata": {},
   "outputs": [],
   "source": []
  }
 ],
 "metadata": {
  "kernelspec": {
   "display_name": "tf_2",
   "language": "python",
   "name": "tensorflow"
  },
  "language_info": {
   "codemirror_mode": {
    "name": "ipython",
    "version": 3
   },
   "file_extension": ".py",
   "mimetype": "text/x-python",
   "name": "python",
   "nbconvert_exporter": "python",
   "pygments_lexer": "ipython3",
   "version": "3.7.3"
  }
 },
 "nbformat": 4,
 "nbformat_minor": 2
}
