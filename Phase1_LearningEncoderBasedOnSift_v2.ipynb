{
 "cells": [
  {
   "cell_type": "code",
   "execution_count": 17,
   "metadata": {},
   "outputs": [],
   "source": [
    "from keras.layers import Input, Dense, Convolution2D, MaxPooling2D, UpSampling2D, Conv2D, Flatten, Dense\n",
    "from keras.models import Model, load_model\n",
    "from keras.preprocessing.image import ImageDataGenerator, img_to_array, load_img\n",
    "from keras import backend as K\n",
    "from keras import initializers\n",
    "import keras\n",
    "\n",
    "import numpy as np\n",
    "import matplotlib.pyplot as plt\n",
    "\n",
    "from os import listdir\n",
    "from os import system\n",
    "import os\n",
    "import random\n",
    "\n",
    "import imageio"
   ]
  },
  {
   "cell_type": "code",
   "execution_count": 22,
   "metadata": {},
   "outputs": [],
   "source": [
    "np.set_printoptions(suppress=True)\n",
    "\n",
    "img_width, img_height = 31, 31\n",
    "\n",
    "nb_epoch = 50\n",
    "batch_size = 32"
   ]
  },
  {
   "cell_type": "code",
   "execution_count": 3,
   "metadata": {},
   "outputs": [],
   "source": [
    "base_dir = '/scratch/image_datasets/1_for_learned_sift/ready'\n",
    "\n",
    "train_data_dir      = base_dir + '/patches/train'\n",
    "validation_data_dir = base_dir + '/patches/validation'\n",
    "test_data_dir       = base_dir + '/patches/test'\n",
    "\n",
    "train_descrs_dir      = base_dir + '/descriptors_angles/train'\n",
    "validation_descrs_dir = base_dir + '/descriptors_angles/validation'\n",
    "test_descrs_dir       = base_dir + '/descriptors_angles/test'"
   ]
  },
  {
   "cell_type": "code",
   "execution_count": null,
   "metadata": {},
   "outputs": [],
   "source": []
  },
  {
   "cell_type": "code",
   "execution_count": 4,
   "metadata": {},
   "outputs": [],
   "source": [
    "def loading_data(dir_patches, dir_descrs):\n",
    "    files_patches = listdir(dir_patches + '/class0')\n",
    "    files_patches.sort()\n",
    "    \n",
    "    files_descrs = listdir(dir_descrs + '/class0')\n",
    "    files_descrs.sort()\n",
    "    \n",
    "    assert len(files_patches) == len(files_descrs), \"The number of patches doesn't match the number of descriptors.\"\n",
    "\n",
    "    patches = []\n",
    "    descrs = []\n",
    "\n",
    "    \n",
    "    for file_patch, file_descr in zip(files_patches, files_descrs):\n",
    "        patch = imageio.imread(dir_patches + '/class0/' + file_patch)\n",
    "#         print(patch.shape)\n",
    "        if patch.shape[0] == 31:\n",
    "            patches.append(patch)\n",
    "            descr = np.load(dir_descrs + '/class0/' + file_descr)\n",
    "            descrs.append(descr)\n",
    "#         elif image.shape[0] == 19:\n",
    "#             temp_count19 += 1\n",
    "        \n",
    "        \n",
    "\n",
    "    patches = np.array(patches)\n",
    "    patches = patches.astype(np.float64) / 255\n",
    "    \n",
    "    descrs = np.array(descrs)\n",
    "    descrs = descrs.astype(np.float64) / 255\n",
    "    print(\"patches\", patches.shape, \"  descrs\", descrs.shape)\n",
    "    \n",
    "    return patches, descrs"
   ]
  },
  {
   "cell_type": "code",
   "execution_count": 5,
   "metadata": {
    "scrolled": true
   },
   "outputs": [
    {
     "name": "stdout",
     "output_type": "stream",
     "text": [
      "patches (3382, 31, 31)   descrs (3382, 129)\n",
      "patches (409, 31, 31)   descrs (409, 129)\n"
     ]
    }
   ],
   "source": [
    "x_train, y_train = loading_data(train_data_dir, train_descrs_dir)\n",
    "x_validation, y_validation = loading_data(validation_data_dir, validation_descrs_dir)"
   ]
  },
  {
   "cell_type": "code",
   "execution_count": 6,
   "metadata": {},
   "outputs": [],
   "source": [
    "x_train = x_train.reshape((x_train.shape[0], x_train.shape[2], x_train.shape[2], 1))\n",
    "x_validation = x_validation.reshape((x_validation.shape[0], x_validation.shape[2], x_validation.shape[2], 1))"
   ]
  },
  {
   "cell_type": "code",
   "execution_count": 7,
   "metadata": {},
   "outputs": [
    {
     "data": {
      "text/plain": [
       "(409, 31, 31, 1)"
      ]
     },
     "execution_count": 7,
     "metadata": {},
     "output_type": "execute_result"
    }
   ],
   "source": [
    "x_validation.shape"
   ]
  },
  {
   "cell_type": "code",
   "execution_count": null,
   "metadata": {},
   "outputs": [],
   "source": []
  },
  {
   "cell_type": "code",
   "execution_count": 15,
   "metadata": {},
   "outputs": [],
   "source": [
    "last_layer_bias = np.median(y_train)"
   ]
  },
  {
   "cell_type": "code",
   "execution_count": 27,
   "metadata": {},
   "outputs": [
    {
     "data": {
      "text/plain": [
       "0.058823529411764705"
      ]
     },
     "execution_count": 27,
     "metadata": {},
     "output_type": "execute_result"
    }
   ],
   "source": [
    "last_layer_bias"
   ]
  },
  {
   "cell_type": "code",
   "execution_count": null,
   "metadata": {},
   "outputs": [],
   "source": []
  },
  {
   "cell_type": "code",
   "execution_count": null,
   "metadata": {},
   "outputs": [],
   "source": []
  },
  {
   "cell_type": "code",
   "execution_count": 26,
   "metadata": {},
   "outputs": [],
   "source": [
    "def MSLE_plus_plus(y_true, y_pred):\n",
    "    if not K.is_tensor(y_pred):\n",
    "        y_pred = K.constant(y_pred)\n",
    "    y_true = K.cast(y_true, y_pred.dtype)\n",
    "    first_log = K.log(K.clip(y_pred, K.epsilon(), None) + 1.)\n",
    "    second_log = K.log(K.clip(y_true, K.epsilon(), None) + 1.)\n",
    "    custom_loss_log = K.log(K.clip(y_true + y_pred, K.epsilon(), None) + 1.)\n",
    "    custom_loss_denominator = (y_true * y_pred + 0.005) * 256  # parameters to be further adjusted\n",
    "    return K.mean(K.square(first_log - second_log) + custom_loss_log / custom_loss_denominator, axis=-1)"
   ]
  },
  {
   "cell_type": "code",
   "execution_count": null,
   "metadata": {},
   "outputs": [],
   "source": []
  },
  {
   "cell_type": "code",
   "execution_count": 29,
   "metadata": {},
   "outputs": [
    {
     "name": "stdout",
     "output_type": "stream",
     "text": [
      "Model: \"model_2\"\n",
      "_________________________________________________________________\n",
      "Layer (type)                 Output Shape              Param #   \n",
      "=================================================================\n",
      "input_3 (InputLayer)         (None, 31, 31, 1)         0         \n",
      "_________________________________________________________________\n",
      "conv2d_11 (Conv2D)           (None, 29, 29, 32)        320       \n",
      "_________________________________________________________________\n",
      "conv2d_12 (Conv2D)           (None, 27, 27, 32)        9248      \n",
      "_________________________________________________________________\n",
      "conv2d_13 (Conv2D)           (None, 25, 25, 32)        9248      \n",
      "_________________________________________________________________\n",
      "max_pooling2d_3 (MaxPooling2 (None, 12, 12, 32)        0         \n",
      "_________________________________________________________________\n",
      "conv2d_14 (Conv2D)           (None, 10, 10, 32)        9248      \n",
      "_________________________________________________________________\n",
      "conv2d_15 (Conv2D)           (None, 8, 8, 32)          9248      \n",
      "_________________________________________________________________\n",
      "conv2d_16 (Conv2D)           (None, 6, 6, 32)          9248      \n",
      "_________________________________________________________________\n",
      "max_pooling2d_4 (MaxPooling2 (None, 3, 3, 32)          0         \n",
      "_________________________________________________________________\n",
      "flatten_3 (Flatten)          (None, 288)               0         \n",
      "_________________________________________________________________\n",
      "dense_2 (Dense)              (None, 129)               37281     \n",
      "=================================================================\n",
      "Total params: 83,841\n",
      "Trainable params: 83,841\n",
      "Non-trainable params: 0\n",
      "_________________________________________________________________\n"
     ]
    }
   ],
   "source": [
    "input_shape = (img_width, img_height, 1)\n",
    "input_img = Input(shape=input_shape)\n",
    "\n",
    "x = Conv2D(32, (3, 3), activation=\"elu\", padding=\"valid\")(input_img)\n",
    "x = Conv2D(32, (3, 3), activation=\"elu\", padding=\"valid\")(x)\n",
    "x = Conv2D(32, (3, 3), activation=\"elu\", padding=\"valid\")(x)\n",
    "x = MaxPooling2D((2, 2), padding=\"valid\")(x)\n",
    "x = Conv2D(32, (3, 3), activation=\"elu\", padding=\"valid\")(x)\n",
    "x = Conv2D(32, (3, 3), activation=\"elu\", padding=\"valid\")(x)\n",
    "x = Conv2D(32, (3, 3), activation=\"elu\", padding=\"valid\")(x)\n",
    "x = MaxPooling2D((2, 2), padding=\"valid\")(x)\n",
    "x = Flatten(data_format=\"channels_last\")(x)\n",
    "encoded = Dense(129, activation=\"elu\", bias_initializer=initializers.Constant(last_layer_bias))(x)\n",
    "\n",
    "encoder = Model(input_img, encoded)\n",
    "\n",
    "encoder.compile(optimizer='adadelta', loss=\"binary_crossentropy\")\n",
    "encoder.summary()"
   ]
  },
  {
   "cell_type": "code",
   "execution_count": 19,
   "metadata": {},
   "outputs": [],
   "source": [
    "def fixed_generator(x_train, y_train, batch_size):\n",
    "    while True:\n",
    "        batch_list_x = []\n",
    "        batch_list_y = []\n",
    "        \n",
    "        for i in range(x_train.shape[0]):\n",
    "            batch_list_x.append(x_train[i])\n",
    "            batch_list_y.append(y_train[i])\n",
    "            if len(batch_list_x) == batch_size:\n",
    "                yield (np.array(batch_list_x),np.array(batch_list_y))\n",
    "                batch_list_x = []\n",
    "                batch_list_y = []\n"
   ]
  },
  {
   "cell_type": "code",
   "execution_count": null,
   "metadata": {},
   "outputs": [],
   "source": [
    "# model_version = '2.0.0.0_encoder_lastsigmoid_bce_adadelta'\n",
    "# encoder = load_model(base_dir + '/ae' + model_version + '.h5')"
   ]
  },
  {
   "cell_type": "code",
   "execution_count": null,
   "metadata": {},
   "outputs": [],
   "source": []
  },
  {
   "cell_type": "code",
   "execution_count": 31,
   "metadata": {
    "scrolled": true
   },
   "outputs": [
    {
     "name": "stdout",
     "output_type": "stream",
     "text": [
      "Epoch 1/100\n",
      "3382/3382 [==============================] - 61s 18ms/step - loss: 0.3339 - val_loss: 0.3345\n",
      "Epoch 2/100\n",
      "3382/3382 [==============================] - 61s 18ms/step - loss: 0.3322 - val_loss: 0.3348\n",
      "Epoch 3/100\n",
      "3382/3382 [==============================] - 61s 18ms/step - loss: 0.3307 - val_loss: 0.3453\n",
      "Epoch 4/100\n",
      "3382/3382 [==============================] - 61s 18ms/step - loss: 0.3297 - val_loss: 0.3473\n",
      "Epoch 5/100\n",
      "3382/3382 [==============================] - 61s 18ms/step - loss: 0.3286 - val_loss: 0.3416\n",
      "Epoch 6/100\n",
      "3382/3382 [==============================] - 61s 18ms/step - loss: 0.3280 - val_loss: 0.3333\n",
      "Epoch 7/100\n",
      "3382/3382 [==============================] - 61s 18ms/step - loss: 0.3270 - val_loss: 0.3405\n",
      "Epoch 8/100\n",
      "3382/3382 [==============================] - 61s 18ms/step - loss: 0.3263 - val_loss: 0.3615\n",
      "Epoch 9/100\n",
      "3382/3382 [==============================] - 61s 18ms/step - loss: 0.3257 - val_loss: 0.3337\n",
      "Epoch 10/100\n",
      "3382/3382 [==============================] - 61s 18ms/step - loss: 0.3251 - val_loss: 0.3668\n",
      "Epoch 11/100\n",
      "3382/3382 [==============================] - 61s 18ms/step - loss: 0.3244 - val_loss: 0.3804\n",
      "Epoch 12/100\n",
      "3382/3382 [==============================] - 61s 18ms/step - loss: 0.3240 - val_loss: 0.3735\n",
      "Epoch 13/100\n",
      "3382/3382 [==============================] - 61s 18ms/step - loss: 0.3235 - val_loss: 0.3460\n",
      "Epoch 14/100\n",
      "3382/3382 [==============================] - 61s 18ms/step - loss: 0.3236 - val_loss: 0.3644\n",
      "Epoch 15/100\n",
      "3382/3382 [==============================] - 61s 18ms/step - loss: 0.3233 - val_loss: 0.4207\n",
      "Epoch 16/100\n",
      "3382/3382 [==============================] - 61s 18ms/step - loss: 0.3226 - val_loss: 0.3697\n",
      "Epoch 17/100\n",
      "3382/3382 [==============================] - 61s 18ms/step - loss: 0.3229 - val_loss: 0.3702\n",
      "Epoch 18/100\n",
      "3382/3382 [==============================] - 61s 18ms/step - loss: 0.3227 - val_loss: 0.3515\n",
      "Epoch 19/100\n",
      "3382/3382 [==============================] - 61s 18ms/step - loss: 0.3229 - val_loss: 0.3628\n",
      "Epoch 20/100\n",
      "3382/3382 [==============================] - 61s 18ms/step - loss: 0.3219 - val_loss: 0.3786\n",
      "Epoch 21/100\n",
      "3382/3382 [==============================] - 61s 18ms/step - loss: 0.3224 - val_loss: 0.3412\n",
      "Epoch 22/100\n",
      "3382/3382 [==============================] - 61s 18ms/step - loss: 0.3214 - val_loss: 0.3904\n",
      "Epoch 23/100\n",
      "3382/3382 [==============================] - 61s 18ms/step - loss: 0.3216 - val_loss: 0.3885\n",
      "Epoch 24/100\n",
      "3382/3382 [==============================] - 61s 18ms/step - loss: 0.3211 - val_loss: 0.3837\n",
      "Epoch 25/100\n",
      "3382/3382 [==============================] - 61s 18ms/step - loss: 0.3207 - val_loss: 0.3854\n",
      "Epoch 26/100\n",
      "3382/3382 [==============================] - 61s 18ms/step - loss: 0.3214 - val_loss: 0.3806\n",
      "Epoch 27/100\n",
      "3382/3382 [==============================] - 61s 18ms/step - loss: 0.3205 - val_loss: 0.4241\n",
      "Epoch 28/100\n",
      "3382/3382 [==============================] - 61s 18ms/step - loss: 0.3207 - val_loss: 0.3743\n",
      "Epoch 29/100\n",
      "3382/3382 [==============================] - 61s 18ms/step - loss: 0.3203 - val_loss: 0.3695\n",
      "Epoch 30/100\n",
      "3382/3382 [==============================] - 61s 18ms/step - loss: 0.3202 - val_loss: 0.3560\n",
      "Epoch 31/100\n",
      "3382/3382 [==============================] - 61s 18ms/step - loss: 0.3201 - val_loss: 0.3813\n",
      "Epoch 32/100\n",
      "3382/3382 [==============================] - 61s 18ms/step - loss: 0.3199 - val_loss: 0.4171\n",
      "Epoch 33/100\n",
      "3382/3382 [==============================] - 61s 18ms/step - loss: 0.3197 - val_loss: 0.3507\n",
      "Epoch 34/100\n",
      "3382/3382 [==============================] - 61s 18ms/step - loss: 0.3195 - val_loss: 0.4128\n",
      "Epoch 35/100\n",
      "3382/3382 [==============================] - 61s 18ms/step - loss: 0.3194 - val_loss: 0.4027\n",
      "Epoch 36/100\n",
      "3382/3382 [==============================] - 61s 18ms/step - loss: 0.3195 - val_loss: 0.4169\n",
      "Epoch 37/100\n",
      "3382/3382 [==============================] - 61s 18ms/step - loss: 0.3191 - val_loss: 0.3910\n",
      "Epoch 38/100\n",
      "3382/3382 [==============================] - 61s 18ms/step - loss: 0.3192 - val_loss: 0.3811\n",
      "Epoch 39/100\n",
      "3382/3382 [==============================] - 61s 18ms/step - loss: 0.3191 - val_loss: 0.4360\n",
      "Epoch 40/100\n",
      "3382/3382 [==============================] - 61s 18ms/step - loss: 0.3190 - val_loss: 0.3875\n",
      "Epoch 41/100\n",
      "3382/3382 [==============================] - 60s 18ms/step - loss: 0.3190 - val_loss: 0.3760\n",
      "Epoch 42/100\n",
      "3382/3382 [==============================] - 60s 18ms/step - loss: 0.3188 - val_loss: 0.3646\n",
      "Epoch 43/100\n",
      "3382/3382 [==============================] - 61s 18ms/step - loss: 0.3191 - val_loss: 0.3628\n",
      "Epoch 44/100\n",
      "3382/3382 [==============================] - 61s 18ms/step - loss: 0.3187 - val_loss: 0.4227\n",
      "Epoch 45/100\n",
      "3382/3382 [==============================] - 61s 18ms/step - loss: 0.3186 - val_loss: 0.3525\n",
      "Epoch 46/100\n",
      "3382/3382 [==============================] - 61s 18ms/step - loss: 0.3187 - val_loss: 0.4164\n",
      "Epoch 47/100\n",
      "3382/3382 [==============================] - 61s 18ms/step - loss: 0.3185 - val_loss: 0.4326\n",
      "Epoch 48/100\n",
      "3382/3382 [==============================] - 61s 18ms/step - loss: 0.3185 - val_loss: 0.4086\n",
      "Epoch 49/100\n",
      "3382/3382 [==============================] - 61s 18ms/step - loss: 0.3190 - val_loss: 0.3932\n",
      "Epoch 50/100\n",
      "3382/3382 [==============================] - 61s 18ms/step - loss: 0.3201 - val_loss: 0.3793\n",
      "Epoch 51/100\n",
      "3382/3382 [==============================] - 61s 18ms/step - loss: 0.3184 - val_loss: 0.4752\n",
      "Epoch 52/100\n",
      "3382/3382 [==============================] - 61s 18ms/step - loss: 0.3187 - val_loss: 0.3959\n",
      "Epoch 53/100\n",
      "3382/3382 [==============================] - 61s 18ms/step - loss: 0.3186 - val_loss: 0.3627\n",
      "Epoch 54/100\n",
      "3382/3382 [==============================] - 61s 18ms/step - loss: 0.3184 - val_loss: 0.3748\n",
      "Epoch 55/100\n",
      "3382/3382 [==============================] - 61s 18ms/step - loss: 0.3190 - val_loss: 0.3728\n",
      "Epoch 56/100\n",
      "3382/3382 [==============================] - 61s 18ms/step - loss: 0.3182 - val_loss: 0.4195\n",
      "Epoch 57/100\n",
      "3382/3382 [==============================] - 61s 18ms/step - loss: 0.3189 - val_loss: 0.3502\n",
      "Epoch 58/100\n",
      "3382/3382 [==============================] - 61s 18ms/step - loss: 0.3185 - val_loss: 0.4319\n",
      "Epoch 59/100\n",
      "3382/3382 [==============================] - 61s 18ms/step - loss: 0.3187 - val_loss: 0.4256\n",
      "Epoch 60/100\n",
      "3382/3382 [==============================] - 61s 18ms/step - loss: 0.3187 - val_loss: 0.4195\n",
      "Epoch 61/100\n",
      "3382/3382 [==============================] - 61s 18ms/step - loss: 0.3192 - val_loss: 0.3913\n",
      "Epoch 62/100\n",
      "3382/3382 [==============================] - 61s 18ms/step - loss: 0.3189 - val_loss: 0.3815\n",
      "Epoch 63/100\n",
      "3382/3382 [==============================] - 61s 18ms/step - loss: 0.3184 - val_loss: 0.4662\n",
      "Epoch 64/100\n",
      "3382/3382 [==============================] - 61s 18ms/step - loss: 0.3197 - val_loss: 0.4034\n",
      "Epoch 65/100\n",
      "3382/3382 [==============================] - 61s 18ms/step - loss: 0.3190 - val_loss: 0.3701\n",
      "Epoch 66/100\n",
      "3382/3382 [==============================] - 61s 18ms/step - loss: 0.3186 - val_loss: 0.3738\n",
      "Epoch 67/100\n",
      "3382/3382 [==============================] - 61s 18ms/step - loss: 0.3185 - val_loss: 0.3600\n",
      "Epoch 68/100\n",
      "3382/3382 [==============================] - 61s 18ms/step - loss: 0.3191 - val_loss: 0.4318\n",
      "Epoch 69/100\n",
      "3382/3382 [==============================] - 61s 18ms/step - loss: 0.3185 - val_loss: 0.3550\n",
      "Epoch 70/100\n",
      "3382/3382 [==============================] - 61s 18ms/step - loss: 0.3188 - val_loss: 0.4316\n",
      "Epoch 71/100\n",
      "3382/3382 [==============================] - 61s 18ms/step - loss: 0.3184 - val_loss: 0.4254\n",
      "Epoch 72/100\n",
      "3382/3382 [==============================] - 61s 18ms/step - loss: 0.3191 - val_loss: 0.4181\n",
      "Epoch 73/100\n",
      "3382/3382 [==============================] - 61s 18ms/step - loss: 0.3187 - val_loss: 0.3842\n",
      "Epoch 74/100\n",
      "3382/3382 [==============================] - 61s 18ms/step - loss: 0.3184 - val_loss: 0.4315\n",
      "Epoch 75/100\n",
      "3382/3382 [==============================] - 61s 18ms/step - loss: 0.3184 - val_loss: 0.4547\n",
      "Epoch 76/100\n",
      "3382/3382 [==============================] - 61s 18ms/step - loss: 0.3181 - val_loss: 0.4015\n",
      "Epoch 77/100\n",
      "3382/3382 [==============================] - 61s 18ms/step - loss: 0.3182 - val_loss: 0.3855\n",
      "Epoch 78/100\n"
     ]
    },
    {
     "name": "stdout",
     "output_type": "stream",
     "text": [
      "3382/3382 [==============================] - 60s 18ms/step - loss: 0.3188 - val_loss: 0.3840\n",
      "Epoch 79/100\n",
      "3382/3382 [==============================] - 60s 18ms/step - loss: 0.3186 - val_loss: 0.3804\n",
      "Epoch 80/100\n",
      "3382/3382 [==============================] - 60s 18ms/step - loss: 0.3182 - val_loss: 0.4312\n",
      "Epoch 81/100\n",
      "3382/3382 [==============================] - 60s 18ms/step - loss: 0.3187 - val_loss: 0.3506\n",
      "Epoch 82/100\n",
      "3382/3382 [==============================] - 60s 18ms/step - loss: 0.3184 - val_loss: 0.4327\n",
      "Epoch 83/100\n",
      "3382/3382 [==============================] - 60s 18ms/step - loss: 0.3185 - val_loss: 0.4227\n",
      "Epoch 84/100\n",
      "3382/3382 [==============================] - 60s 18ms/step - loss: 0.3192 - val_loss: 0.4073\n",
      "Epoch 85/100\n",
      "3382/3382 [==============================] - 60s 18ms/step - loss: 0.3190 - val_loss: 0.3936\n",
      "Epoch 86/100\n",
      "3382/3382 [==============================] - 60s 18ms/step - loss: 0.3192 - val_loss: 0.3859\n",
      "Epoch 87/100\n",
      "3382/3382 [==============================] - 60s 18ms/step - loss: 0.3191 - val_loss: 0.4487\n",
      "Epoch 88/100\n",
      "3382/3382 [==============================] - 60s 18ms/step - loss: 0.3182 - val_loss: 0.4068\n",
      "Epoch 89/100\n",
      "3382/3382 [==============================] - 60s 18ms/step - loss: 0.3189 - val_loss: 0.3907\n",
      "Epoch 90/100\n",
      "3382/3382 [==============================] - 60s 18ms/step - loss: 0.3186 - val_loss: 0.3869\n",
      "Epoch 91/100\n",
      "3382/3382 [==============================] - 60s 18ms/step - loss: 0.3187 - val_loss: 0.3864\n",
      "Epoch 92/100\n",
      "3382/3382 [==============================] - 60s 18ms/step - loss: 0.3185 - val_loss: 0.4146\n",
      "Epoch 93/100\n",
      "3382/3382 [==============================] - 60s 18ms/step - loss: 0.3184 - val_loss: 0.3601\n",
      "Epoch 94/100\n",
      "3382/3382 [==============================] - 60s 18ms/step - loss: 0.3191 - val_loss: 0.4290\n",
      "Epoch 95/100\n",
      "3382/3382 [==============================] - 60s 18ms/step - loss: 0.3188 - val_loss: 0.4378\n",
      "Epoch 96/100\n",
      "3382/3382 [==============================] - 60s 18ms/step - loss: 0.3187 - val_loss: 0.4177\n",
      "Epoch 97/100\n",
      "3382/3382 [==============================] - 60s 18ms/step - loss: 0.3189 - val_loss: 0.3793\n",
      "Epoch 98/100\n",
      "3382/3382 [==============================] - 60s 18ms/step - loss: 0.3192 - val_loss: 0.3839\n",
      "Epoch 99/100\n",
      "3382/3382 [==============================] - 60s 18ms/step - loss: 0.3189 - val_loss: 0.4667\n",
      "Epoch 100/100\n",
      "3382/3382 [==============================] - 60s 18ms/step - loss: 0.3192 - val_loss: 0.3821\n"
     ]
    }
   ],
   "source": [
    "model_version = '2.0.0.4_encoder_elueverywhere_bce_adadelta_initbiasYmed_3c1p3c1pd'\n",
    "\n",
    "os.system('mkdir ' + base_dir + '/weights' + model_version)\n",
    "checkpointer = keras.callbacks.ModelCheckpoint(base_dir + '/weights' + model_version + '/weights.{epoch:02d}-{val_loss:.2f}.hdf5', monitor='val_loss', verbose=0, save_best_only=False, save_weights_only=False, mode='auto', period=1)\n",
    "\n",
    "encoder.fit_generator(fixed_generator(x_train, y_train, batch_size),\n",
    "                steps_per_epoch=x_train.shape[0],\n",
    "                epochs=100,\n",
    "                validation_data=fixed_generator(x_validation, y_validation, batch_size),\n",
    "                validation_steps=x_validation.shape[0],\n",
    "                callbacks=[checkpointer]\n",
    "                )\n",
    "encoder.save(base_dir + '/ae' + model_version + '.h5')"
   ]
  },
  {
   "cell_type": "code",
   "execution_count": null,
   "metadata": {},
   "outputs": [],
   "source": []
  },
  {
   "cell_type": "code",
   "execution_count": null,
   "metadata": {},
   "outputs": [],
   "source": []
  },
  {
   "cell_type": "code",
   "execution_count": null,
   "metadata": {},
   "outputs": [],
   "source": []
  },
  {
   "cell_type": "code",
   "execution_count": null,
   "metadata": {},
   "outputs": [],
   "source": []
  },
  {
   "cell_type": "code",
   "execution_count": null,
   "metadata": {},
   "outputs": [],
   "source": []
  },
  {
   "cell_type": "code",
   "execution_count": 22,
   "metadata": {
    "scrolled": false
   },
   "outputs": [
    {
     "data": {
      "text/plain": [
       "array([[255., 255., 255.,   0.,   0.,   0., 255., 255., 255., 255., 195.,\n",
       "          0.,   0.,   0., 255.,   0., 255., 255.,   0., 255.,   0.,   0.,\n",
       "          0.,   0.,   0.,   0.,   0., 255., 255., 255.,   0.,   0.,   0.,\n",
       "          0.,   0.,   0.,   0.,   0., 255., 255., 255., 255.,   0.,   0.,\n",
       "          0.,   0., 255.,   0., 255.,   6.,   0.,   0., 255.,   0.,   0.,\n",
       "          0.,   0.,   0.,   0., 255., 255.,   0.,   0.,   0.,   0.,   0.,\n",
       "          0.,   0.,   0.,   0., 255., 255.,   0.,   0.,   0.,   0.,   0.,\n",
       "          0., 255., 255., 255.,   0.,   0.,   0.,   0., 255., 255., 255.,\n",
       "        255.,   0.,   0.,   0., 255., 255., 255., 255.,   0.,   0., 255.,\n",
       "        255.,   0.,   0.,   0.,   0.,   0., 255., 255., 255.,   0.,   0.,\n",
       "          0.,   0., 255., 255., 255.,   0.,   0.,   0.,   0.,   0.,   0.,\n",
       "          0.,   0., 255.,   0.,   0., 255.,   0., 255.]], dtype=float32)"
      ]
     },
     "execution_count": 22,
     "metadata": {},
     "output_type": "execute_result"
    }
   ],
   "source": [
    "np.around(encoder.predict(imageio.imread(test_data_dir + \"/class0/patch000013.bmp\").reshape(1,31,31,1))*255)"
   ]
  },
  {
   "cell_type": "code",
   "execution_count": 32,
   "metadata": {
    "scrolled": true
   },
   "outputs": [
    {
     "data": {
      "text/plain": [
       "array([[ 532.,  832.,  222.,  -11.,  375.,   12., -219., -204., 1102.,\n",
       "         999.,  396.,  116.,  386.,  -95., -190., -198., 1321.,  842.,\n",
       "         220.,  -10.,  -29., -208., -232., -159.,  361.,   93.,  -10.,\n",
       "         109.,  134., -234., -246., -224.,  316.,  613.,  506.,  169.,\n",
       "         213., -140., -244., -237., 1235., 1202.,  498.,  -14.,   -5.,\n",
       "        -129., -214.,   25.,  646.,  407.,  122.,   -4.,  122., -177.,\n",
       "        -225., -237.,  234.,  242.,  112.,  397.,  266., -247., -251.,\n",
       "        -230.,  468.,  258.,  442.,  210., -162., -232., -250., -203.,\n",
       "        1548.,  908.,  405., -168., -205., -239., -236.,  292.,  298.,\n",
       "         -91.,  179.,  383.,  104.,  -93., -158.,  273.,   14., -158.,\n",
       "        -142.,  250.,  295., -196., -180.,   64.,  989.,  356.,   67.,\n",
       "        -174., -232., -232., -159.,  424., 1862.,  688., -218., -245.,\n",
       "        -240., -163.,  105., 1209.,  797., -179., -236., -197.,  -54.,\n",
       "         325.,  372.,  734.,   84., -231., -244., -149.,  278.,  514.,\n",
       "         377.,  178.,  744.]], dtype=float32)"
      ]
     },
     "execution_count": 32,
     "metadata": {},
     "output_type": "execute_result"
    }
   ],
   "source": [
    "np.around(encoder.predict(imageio.imread(train_data_dir + \"/class0/patch000001.bmp\").reshape(1,31,31,1))*255)"
   ]
  },
  {
   "cell_type": "code",
   "execution_count": 24,
   "metadata": {},
   "outputs": [
    {
     "data": {
      "text/plain": [
       "array([  4,   1,   0,   0, 137,  42,   1,   3,  55,   7,   0,   0,  71,\n",
       "        32,   1,   3, 137,  39,   0,   0,   3,   2,   0,   5,  40,  10,\n",
       "         1,  13,  81,   1,   0,   1,  11,   2,   0,   0, 137,  64,   1,\n",
       "         1,  54,   2,   0,   0, 109,  23,   1,   4, 137,  33,   4,   2,\n",
       "         8,   2,   0,   8,  40,  16,  12,  83,  83,   0,   0,   1,  27,\n",
       "         9,   0,   1, 137,  58,   2,   0,  23,   0,   0,   0,  54,  62,\n",
       "        17,  18, 137,  36,  12,   8,   5,  10,   9,  34,  10,  16,  22,\n",
       "       137,  76,   2,   0,   0,  50,   8,   0,   1, 137,  57,   1,   1,\n",
       "        26,   1,   0,   0,  31,  26,  18,  19,  19,   2,   4,   4,  10,\n",
       "        10,  17,  47,   1,   1,   2,  27, 137,  25,   2,   3,  19],\n",
       "      dtype=uint8)"
      ]
     },
     "execution_count": 24,
     "metadata": {},
     "output_type": "execute_result"
    }
   ],
   "source": [
    "np.load(train_descrs_dir + \"/class0/descr_angle_000001.npy\")"
   ]
  },
  {
   "cell_type": "code",
   "execution_count": 33,
   "metadata": {},
   "outputs": [],
   "source": [
    "temp_y_p1 = np.load(train_descrs_dir + \"/class0/descr_angle_000001.npy\")\n",
    "temp_x_p1 = np.around(encoder.predict(imageio.imread(train_data_dir + \"/class0/patch000001.bmp\").reshape(1,31,31,1))*255)\n",
    "temp_x_p1 = temp_x_p1.reshape(129)"
   ]
  },
  {
   "cell_type": "code",
   "execution_count": 34,
   "metadata": {},
   "outputs": [
    {
     "data": {
      "text/plain": [
       "0.1900397385062676"
      ]
     },
     "execution_count": 34,
     "metadata": {},
     "output_type": "execute_result"
    }
   ],
   "source": [
    "np.corrcoef(temp_x_p1, temp_y_p1)[0,1]"
   ]
  },
  {
   "cell_type": "code",
   "execution_count": 35,
   "metadata": {},
   "outputs": [
    {
     "name": "stdout",
     "output_type": "stream",
     "text": [
      "0.2225113365009303\n"
     ]
    }
   ],
   "source": [
    "corr_coefs = []\n",
    "for i in range(103):\n",
    "    try:\n",
    "        temp_y_p1 = np.load(train_descrs_dir + \"/class0/descr_angle_\" + str(i).zfill(6) + \".npy\")\n",
    "        temp_x_p1 = np.around(encoder.predict(imageio.imread(train_data_dir + \"/class0/patch\" + str(i).zfill(6) + \".bmp\").reshape(1,31,31,1))*255)\n",
    "        temp_x_p1 = temp_x_p1.reshape(129)\n",
    "        corr_coefs.append(np.corrcoef(temp_x_p1, temp_y_p1)[0,1])\n",
    "    except:\n",
    "        continue\n",
    "corr_coefs = np.array(corr_coefs)\n",
    "print(np.median(corr_coefs))"
   ]
  },
  {
   "cell_type": "code",
   "execution_count": null,
   "metadata": {},
   "outputs": [],
   "source": []
  },
  {
   "cell_type": "code",
   "execution_count": null,
   "metadata": {},
   "outputs": [],
   "source": []
  },
  {
   "cell_type": "code",
   "execution_count": 45,
   "metadata": {},
   "outputs": [],
   "source": [
    "temp_y_prime = encoder.predict(imageio.imread(\"/home/niaki/Code/ImageNet/tiny-imagenet-200/tiny_train16/class0/patch000012.png\").reshape(1,16,16,3))"
   ]
  },
  {
   "cell_type": "code",
   "execution_count": 46,
   "metadata": {},
   "outputs": [],
   "source": [
    "temp_y = np.load(\"/home/niaki/Code/ImageNet/tiny-imagenet-200/tiny_sifts/tiny_train16/class0/patch000012.npy\")"
   ]
  },
  {
   "cell_type": "code",
   "execution_count": 47,
   "metadata": {
    "scrolled": true
   },
   "outputs": [
    {
     "name": "stdout",
     "output_type": "stream",
     "text": [
      "0.6393183138370047 \n",
      "\n",
      "    0.000000    0.000000\n",
      "    0.000000    0.000000\n",
      "    0.000000    0.000000\n",
      "    0.000000    0.000000\n",
      "    0.000000    0.000000\n",
      "    0.000000    0.000000\n",
      "    0.000000    0.000000\n",
      "    0.000000    0.000000\n",
      "    0.000000    0.000000\n",
      "    0.000000    0.000000\n",
      "    0.000000    0.000000\n",
      "    0.000000    0.000000\n",
      "    0.000000    0.000000\n",
      "    0.000000    0.000000\n",
      "    0.000000    0.000000\n",
      "    0.000000    0.000000\n",
      "    0.000000    0.000000\n",
      "    0.000000    0.000000\n",
      "    0.000000    0.000000\n",
      "    0.000000    0.000000\n",
      "    0.000000    0.000000\n",
      "    0.000000    0.000000\n",
      "    0.000000    0.000000\n",
      "    0.000000    0.000000\n",
      "    0.000000    0.000000\n",
      "    0.000000    0.000000\n",
      "    0.000000    0.000000\n",
      "    0.000000    0.000000\n",
      "    0.000000    0.000000\n",
      "    0.000000    0.000000\n",
      "    0.000000    0.000000\n",
      "    0.000000    0.000000\n",
      "    0.000000    0.000000\n",
      "    0.000000    0.000000\n",
      "    0.000000    0.000000\n",
      "    0.000000    0.000000\n",
      "    0.000000    0.000000\n",
      "    0.000000    0.000000\n",
      "    0.000000    0.000000\n",
      "    0.000000    0.000000\n",
      "   91.000000    1.000000\n",
      "   18.000000    0.000000\n",
      "    1.000000    1.000000\n",
      "    1.000000    0.000000\n",
      "    7.000000    1.000000\n",
      "   56.000000    0.000000\n",
      "  157.000000    0.000000\n",
      "  157.000000    1.000000\n",
      "  103.000000    1.000000\n",
      "   21.000000    0.000000\n",
      "    2.000000    1.000000\n",
      "    3.000000    0.000000\n",
      "   16.000000    1.000000\n",
      "   96.000000    1.000000\n",
      "  157.000000    1.000000\n",
      "  157.000000    1.000000\n",
      "    0.000000    0.000000\n",
      "    0.000000    0.000000\n",
      "    0.000000    0.000000\n",
      "    0.000000    0.000000\n",
      "    0.000000    0.000000\n",
      "    0.000000    0.000000\n",
      "    0.000000    0.000000\n",
      "    0.000000    0.000000\n",
      "    0.000000    0.000000\n",
      "    0.000000    0.000000\n",
      "    0.000000    0.000000\n",
      "    0.000000    0.000000\n",
      "    0.000000    0.000000\n",
      "    0.000000    0.000000\n",
      "    0.000000    0.000000\n",
      "    0.000000    0.000000\n",
      "  110.000000    1.000000\n",
      "   14.000000    0.000000\n",
      "    1.000000    1.000000\n",
      "    3.000000    0.000000\n",
      "    9.000000    0.984089\n",
      "   33.000000    0.000000\n",
      "  157.000000    0.000000\n",
      "  157.000000    1.000000\n",
      "  125.000000    1.000000\n",
      "   15.000000    0.000000\n",
      "    1.000000    1.000000\n",
      "    9.000000    0.000000\n",
      "   25.000000    1.000000\n",
      "   48.000000    1.000000\n",
      "  157.000000    1.000000\n",
      "  157.000000    1.000000\n",
      "    0.000000    0.000000\n",
      "    0.000000    0.000000\n",
      "    0.000000    0.000000\n",
      "    0.000000    0.000000\n",
      "    0.000000    0.000000\n",
      "    0.000000    0.000000\n",
      "    0.000000    0.000000\n",
      "    0.000000    0.000000\n",
      "    0.000000    0.000000\n",
      "    0.000000    0.000000\n",
      "    0.000000    0.000000\n",
      "    0.000000    0.000000\n",
      "    0.000000    0.000000\n",
      "    0.000000    0.000000\n",
      "    0.000000    0.000000\n",
      "    0.000000    0.000000\n",
      "    0.000000    0.000000\n",
      "    0.000000    0.000000\n",
      "    0.000000    0.000000\n",
      "    0.000000    0.000000\n",
      "    0.000000    0.000000\n",
      "    0.000000    0.000000\n",
      "    0.000000    0.000000\n",
      "    0.000000    0.000000\n",
      "    0.000000    0.000000\n",
      "    0.000000    0.000000\n",
      "    0.000000    0.000000\n",
      "    0.000000    0.000000\n",
      "    0.000000    0.000000\n",
      "    0.000000    0.000000\n",
      "    0.000000    0.000000\n",
      "    0.000000    0.000000\n",
      "    0.000000    0.000000\n",
      "    0.000000    0.000000\n",
      "    0.000000    0.000000\n",
      "    0.000000    0.000000\n",
      "    0.000000    0.000000\n",
      "    0.000000    0.000000\n",
      "    0.000000    0.000000\n",
      "    0.000000    0.000000\n"
     ]
    }
   ],
   "source": [
    "print(np.corrcoef(temp_y, temp_y_prime[0])[1,0], \"\\n\")\n",
    "for i in range(temp_y_prime.shape[1]):\n",
    "    print('{:>12f}{:>12f}'.format(temp_y[i], temp_y_prime[0, i]))      \n",
    "#     print(temp_y_prime[0, i], temp_y[i])"
   ]
  },
  {
   "cell_type": "code",
   "execution_count": null,
   "metadata": {},
   "outputs": [],
   "source": []
  },
  {
   "cell_type": "code",
   "execution_count": null,
   "metadata": {},
   "outputs": [],
   "source": []
  },
  {
   "cell_type": "code",
   "execution_count": null,
   "metadata": {},
   "outputs": [],
   "source": []
  },
  {
   "cell_type": "code",
   "execution_count": null,
   "metadata": {},
   "outputs": [],
   "source": []
  },
  {
   "cell_type": "code",
   "execution_count": null,
   "metadata": {},
   "outputs": [],
   "source": []
  },
  {
   "cell_type": "code",
   "execution_count": null,
   "metadata": {},
   "outputs": [],
   "source": []
  },
  {
   "cell_type": "code",
   "execution_count": 21,
   "metadata": {},
   "outputs": [
    {
     "data": {
      "text/plain": [
       "array([[0.000e+00, 0.000e+00, 0.000e+00, 0.000e+00, 0.000e+00, 0.000e+00,\n",
       "        0.000e+00, 0.000e+00, 0.000e+00, 0.000e+00, 0.000e+00, 0.000e+00,\n",
       "        0.000e+00, 0.000e+00, 0.000e+00, 0.000e+00, 0.000e+00, 0.000e+00,\n",
       "        0.000e+00, 0.000e+00, 0.000e+00, 0.000e+00, 0.000e+00, 0.000e+00,\n",
       "        0.000e+00, 0.000e+00, 0.000e+00, 0.000e+00, 0.000e+00, 0.000e+00,\n",
       "        0.000e+00, 0.000e+00, 0.000e+00, 0.000e+00, 0.000e+00, 0.000e+00,\n",
       "        0.000e+00, 0.000e+00, 0.000e+00, 0.000e+00, 1.000e+00, 0.000e+00,\n",
       "        0.000e+00, 0.000e+00, 0.000e+00, 0.000e+00, 0.000e+00, 0.000e+00,\n",
       "        0.000e+00, 0.000e+00, 3.427e-06, 0.000e+00, 0.000e+00, 0.000e+00,\n",
       "        0.000e+00, 0.000e+00, 0.000e+00, 0.000e+00, 0.000e+00, 0.000e+00,\n",
       "        0.000e+00, 0.000e+00, 0.000e+00, 0.000e+00, 0.000e+00, 0.000e+00,\n",
       "        0.000e+00, 0.000e+00, 0.000e+00, 0.000e+00, 0.000e+00, 0.000e+00,\n",
       "        0.000e+00, 0.000e+00, 0.000e+00, 0.000e+00, 0.000e+00, 0.000e+00,\n",
       "        0.000e+00, 0.000e+00, 0.000e+00, 0.000e+00, 0.000e+00, 0.000e+00,\n",
       "        0.000e+00, 0.000e+00, 0.000e+00, 0.000e+00, 0.000e+00, 0.000e+00,\n",
       "        0.000e+00, 0.000e+00, 0.000e+00, 0.000e+00, 0.000e+00, 0.000e+00,\n",
       "        0.000e+00, 0.000e+00, 0.000e+00, 0.000e+00, 0.000e+00, 0.000e+00,\n",
       "        0.000e+00, 0.000e+00, 0.000e+00, 0.000e+00, 0.000e+00, 0.000e+00,\n",
       "        0.000e+00, 0.000e+00, 0.000e+00, 0.000e+00, 0.000e+00, 0.000e+00,\n",
       "        0.000e+00, 0.000e+00, 0.000e+00, 0.000e+00, 0.000e+00, 0.000e+00,\n",
       "        0.000e+00, 0.000e+00, 0.000e+00, 0.000e+00, 0.000e+00, 0.000e+00,\n",
       "        0.000e+00, 0.000e+00]], dtype=float32)"
      ]
     },
     "execution_count": 21,
     "metadata": {},
     "output_type": "execute_result"
    }
   ],
   "source": [
    "np.round(temp, decimals=9)"
   ]
  },
  {
   "cell_type": "code",
   "execution_count": null,
   "metadata": {},
   "outputs": [],
   "source": []
  },
  {
   "cell_type": "code",
   "execution_count": null,
   "metadata": {},
   "outputs": [],
   "source": []
  },
  {
   "cell_type": "code",
   "execution_count": null,
   "metadata": {},
   "outputs": [],
   "source": []
  },
  {
   "cell_type": "code",
   "execution_count": 14,
   "metadata": {},
   "outputs": [
    {
     "name": "stdout",
     "output_type": "stream",
     "text": [
      "1.14.0\n"
     ]
    }
   ],
   "source": [
    "import tensorflow as tf\n",
    "\n",
    "print(tf.__version__)"
   ]
  },
  {
   "cell_type": "code",
   "execution_count": 19,
   "metadata": {},
   "outputs": [
    {
     "name": "stderr",
     "output_type": "stream",
     "text": [
      "W0122 20:00:43.071549 140376228677440 deprecation.py:323] From /scratch/tensorflow/lib/python3.6/site-packages/tensorflow/python/compat/v2_compat.py:61: disable_resource_variables (from tensorflow.python.ops.variable_scope) is deprecated and will be removed in a future version.\n",
      "Instructions for updating:\n",
      "non-resource variables are not supported in the long term\n"
     ]
    }
   ],
   "source": [
    "tf.disable_v2_behavior()"
   ]
  },
  {
   "cell_type": "code",
   "execution_count": 21,
   "metadata": {},
   "outputs": [],
   "source": [
    "config = tf.ConfigProto()\n",
    "config.gpu_options.allow_growth = True\n",
    "sess = tf.Session(config=config)"
   ]
  },
  {
   "cell_type": "code",
   "execution_count": null,
   "metadata": {},
   "outputs": [],
   "source": []
  }
 ],
 "metadata": {
  "kernelspec": {
   "display_name": "tf_2",
   "language": "python",
   "name": "tensorflow"
  },
  "language_info": {
   "codemirror_mode": {
    "name": "ipython",
    "version": 3
   },
   "file_extension": ".py",
   "mimetype": "text/x-python",
   "name": "python",
   "nbconvert_exporter": "python",
   "pygments_lexer": "ipython3",
   "version": "3.7.3"
  }
 },
 "nbformat": 4,
 "nbformat_minor": 2
}
