{
 "cells": [
  {
   "cell_type": "code",
   "execution_count": 17,
   "metadata": {},
   "outputs": [],
   "source": [
    "from keras.layers import Input, Dense, Convolution2D, MaxPooling2D, UpSampling2D, Conv2D, Flatten, Dense\n",
    "from keras.models import Model, load_model\n",
    "from keras.preprocessing.image import ImageDataGenerator, img_to_array, load_img\n",
    "from keras import backend as K\n",
    "from keras import initializers\n",
    "import keras\n",
    "\n",
    "import numpy as np\n",
    "import matplotlib.pyplot as plt\n",
    "\n",
    "from os import listdir\n",
    "from os import system\n",
    "import os\n",
    "import random\n",
    "\n",
    "import imageio"
   ]
  },
  {
   "cell_type": "code",
   "execution_count": 22,
   "metadata": {},
   "outputs": [],
   "source": [
    "np.set_printoptions(suppress=True)\n",
    "\n",
    "img_width, img_height = 31, 31\n",
    "\n",
    "nb_epoch = 50\n",
    "batch_size = 32"
   ]
  },
  {
   "cell_type": "code",
   "execution_count": 3,
   "metadata": {},
   "outputs": [],
   "source": [
    "base_dir = '/scratch/image_datasets/1_for_learned_sift/ready'\n",
    "\n",
    "train_data_dir      = base_dir + '/patches/train'\n",
    "validation_data_dir = base_dir + '/patches/validation'\n",
    "test_data_dir       = base_dir + '/patches/test'\n",
    "\n",
    "train_descrs_dir      = base_dir + '/descriptors_angles/train'\n",
    "validation_descrs_dir = base_dir + '/descriptors_angles/validation'\n",
    "test_descrs_dir       = base_dir + '/descriptors_angles/test'"
   ]
  },
  {
   "cell_type": "code",
   "execution_count": null,
   "metadata": {},
   "outputs": [],
   "source": []
  },
  {
   "cell_type": "code",
   "execution_count": 4,
   "metadata": {},
   "outputs": [],
   "source": [
    "def loading_data(dir_patches, dir_descrs):\n",
    "    files_patches = listdir(dir_patches + '/class0')\n",
    "    files_patches.sort()\n",
    "    \n",
    "    files_descrs = listdir(dir_descrs + '/class0')\n",
    "    files_descrs.sort()\n",
    "    \n",
    "    assert len(files_patches) == len(files_descrs), \"The number of patches doesn't match the number of descriptors.\"\n",
    "\n",
    "    patches = []\n",
    "    descrs = []\n",
    "\n",
    "    \n",
    "    for file_patch, file_descr in zip(files_patches, files_descrs):\n",
    "        patch = imageio.imread(dir_patches + '/class0/' + file_patch)\n",
    "#         print(patch.shape)\n",
    "        if patch.shape[0] == 31:\n",
    "            patches.append(patch)\n",
    "            descr = np.load(dir_descrs + '/class0/' + file_descr)\n",
    "            descrs.append(descr)\n",
    "#         elif image.shape[0] == 19:\n",
    "#             temp_count19 += 1\n",
    "        \n",
    "        \n",
    "\n",
    "    patches = np.array(patches)\n",
    "    patches = patches.astype(np.float64) / 255\n",
    "    \n",
    "    descrs = np.array(descrs)\n",
    "    descrs = descrs.astype(np.float64) / 255\n",
    "    print(\"patches\", patches.shape, \"  descrs\", descrs.shape)\n",
    "    \n",
    "    return patches, descrs"
   ]
  },
  {
   "cell_type": "code",
   "execution_count": 5,
   "metadata": {
    "scrolled": true
   },
   "outputs": [
    {
     "name": "stdout",
     "output_type": "stream",
     "text": [
      "patches (3382, 31, 31)   descrs (3382, 129)\n",
      "patches (409, 31, 31)   descrs (409, 129)\n"
     ]
    }
   ],
   "source": [
    "x_train, y_train = loading_data(train_data_dir, train_descrs_dir)\n",
    "x_validation, y_validation = loading_data(validation_data_dir, validation_descrs_dir)"
   ]
  },
  {
   "cell_type": "code",
   "execution_count": 6,
   "metadata": {},
   "outputs": [],
   "source": [
    "x_train = x_train.reshape((x_train.shape[0], x_train.shape[2], x_train.shape[2], 1))\n",
    "x_validation = x_validation.reshape((x_validation.shape[0], x_validation.shape[2], x_validation.shape[2], 1))"
   ]
  },
  {
   "cell_type": "code",
   "execution_count": 7,
   "metadata": {},
   "outputs": [
    {
     "data": {
      "text/plain": [
       "(409, 31, 31, 1)"
      ]
     },
     "execution_count": 7,
     "metadata": {},
     "output_type": "execute_result"
    }
   ],
   "source": [
    "x_validation.shape"
   ]
  },
  {
   "cell_type": "code",
   "execution_count": null,
   "metadata": {},
   "outputs": [],
   "source": []
  },
  {
   "cell_type": "code",
   "execution_count": 15,
   "metadata": {},
   "outputs": [],
   "source": [
    "last_layer_bias = np.median(y_train)"
   ]
  },
  {
   "cell_type": "code",
   "execution_count": 27,
   "metadata": {},
   "outputs": [
    {
     "data": {
      "text/plain": [
       "0.058823529411764705"
      ]
     },
     "execution_count": 27,
     "metadata": {},
     "output_type": "execute_result"
    }
   ],
   "source": [
    "last_layer_bias"
   ]
  },
  {
   "cell_type": "code",
   "execution_count": null,
   "metadata": {},
   "outputs": [],
   "source": []
  },
  {
   "cell_type": "code",
   "execution_count": null,
   "metadata": {},
   "outputs": [],
   "source": []
  },
  {
   "cell_type": "code",
   "execution_count": 26,
   "metadata": {},
   "outputs": [],
   "source": [
    "def MSLE_plus_plus(y_true, y_pred):\n",
    "    if not K.is_tensor(y_pred):\n",
    "        y_pred = K.constant(y_pred)\n",
    "    y_true = K.cast(y_true, y_pred.dtype)\n",
    "    first_log = K.log(K.clip(y_pred, K.epsilon(), None) + 1.)\n",
    "    second_log = K.log(K.clip(y_true, K.epsilon(), None) + 1.)\n",
    "    custom_loss_log = K.log(K.clip(y_true + y_pred, K.epsilon(), None) + 1.)\n",
    "    custom_loss_denominator = (y_true * y_pred + 0.005) * 256  # parameters to be further adjusted\n",
    "    return K.mean(K.square(first_log - second_log) + custom_loss_log / custom_loss_denominator, axis=-1)"
   ]
  },
  {
   "cell_type": "code",
   "execution_count": null,
   "metadata": {},
   "outputs": [],
   "source": []
  },
  {
   "cell_type": "code",
   "execution_count": 18,
   "metadata": {},
   "outputs": [
    {
     "name": "stdout",
     "output_type": "stream",
     "text": [
      "Model: \"model_1\"\n",
      "_________________________________________________________________\n",
      "Layer (type)                 Output Shape              Param #   \n",
      "=================================================================\n",
      "input_2 (InputLayer)         (None, 31, 31, 1)         0         \n",
      "_________________________________________________________________\n",
      "conv2d_6 (Conv2D)            (None, 29, 29, 32)        320       \n",
      "_________________________________________________________________\n",
      "conv2d_7 (Conv2D)            (None, 27, 27, 32)        9248      \n",
      "_________________________________________________________________\n",
      "conv2d_8 (Conv2D)            (None, 25, 25, 32)        9248      \n",
      "_________________________________________________________________\n",
      "conv2d_9 (Conv2D)            (None, 23, 23, 32)        9248      \n",
      "_________________________________________________________________\n",
      "conv2d_10 (Conv2D)           (None, 21, 21, 16)        4624      \n",
      "_________________________________________________________________\n",
      "max_pooling2d_2 (MaxPooling2 (None, 5, 5, 16)          0         \n",
      "_________________________________________________________________\n",
      "flatten_2 (Flatten)          (None, 400)               0         \n",
      "_________________________________________________________________\n",
      "dense_1 (Dense)              (None, 129)               51729     \n",
      "=================================================================\n",
      "Total params: 84,417\n",
      "Trainable params: 84,417\n",
      "Non-trainable params: 0\n",
      "_________________________________________________________________\n"
     ]
    }
   ],
   "source": [
    "input_shape = (img_width, img_height, 1)\n",
    "input_img = Input(shape=input_shape)\n",
    "\n",
    "x = Conv2D(32, (3, 3), activation=\"elu\", padding=\"valid\")(input_img)\n",
    "x = Conv2D(32, (3, 3), activation=\"elu\", padding=\"valid\")(x)\n",
    "x = Conv2D(32, (3, 3), activation=\"elu\", padding=\"valid\")(x)\n",
    "x = Conv2D(32, (3, 3), activation=\"elu\", padding=\"valid\")(x)\n",
    "x = Conv2D(16, (3, 3), activation=\"elu\", padding=\"valid\")(x)\n",
    "x = MaxPooling2D((4, 4), padding=\"valid\")(x)\n",
    "x = Flatten(data_format=\"channels_last\")(x)\n",
    "encoded = Dense(129, activation=\"elu\", bias_initializer=initializers.Constant(last_layer_bias))(x)\n",
    "\n",
    "encoder = Model(input_img, encoded)\n",
    "\n",
    "encoder.compile(optimizer='adadelta', loss=\"binary_crossentropy\")\n",
    "encoder.summary()"
   ]
  },
  {
   "cell_type": "code",
   "execution_count": 19,
   "metadata": {},
   "outputs": [],
   "source": [
    "def fixed_generator(x_train, y_train, batch_size):\n",
    "    while True:\n",
    "        batch_list_x = []\n",
    "        batch_list_y = []\n",
    "        \n",
    "        for i in range(x_train.shape[0]):\n",
    "            batch_list_x.append(x_train[i])\n",
    "            batch_list_y.append(y_train[i])\n",
    "            if len(batch_list_x) == batch_size:\n",
    "                yield (np.array(batch_list_x),np.array(batch_list_y))\n",
    "                batch_list_x = []\n",
    "                batch_list_y = []\n"
   ]
  },
  {
   "cell_type": "code",
   "execution_count": 20,
   "metadata": {
    "scrolled": true
   },
   "outputs": [
    {
     "name": "stdout",
     "output_type": "stream",
     "text": [
      "Epoch 1/50\n",
      "3382/3382 [==============================] - 72s 21ms/step - loss: 0.3399 - val_loss: 0.3343\n",
      "Epoch 2/50\n",
      "3382/3382 [==============================] - 72s 21ms/step - loss: 0.3346 - val_loss: 0.3322\n",
      "Epoch 3/50\n",
      "3382/3382 [==============================] - 72s 21ms/step - loss: 0.3336 - val_loss: 0.3379\n",
      "Epoch 4/50\n",
      "3382/3382 [==============================] - 72s 21ms/step - loss: 0.3329 - val_loss: 0.3406\n",
      "Epoch 5/50\n",
      "3382/3382 [==============================] - 72s 21ms/step - loss: 0.3323 - val_loss: 0.3363\n",
      "Epoch 6/50\n",
      "3382/3382 [==============================] - 72s 21ms/step - loss: 0.3316 - val_loss: 0.3236\n",
      "Epoch 7/50\n",
      "3382/3382 [==============================] - 72s 21ms/step - loss: 0.3311 - val_loss: 0.3289\n",
      "Epoch 8/50\n",
      "3382/3382 [==============================] - 72s 21ms/step - loss: 0.3306 - val_loss: 0.3423\n",
      "Epoch 9/50\n",
      "3382/3382 [==============================] - 72s 21ms/step - loss: 0.3303 - val_loss: 0.3199\n",
      "Epoch 10/50\n",
      "3382/3382 [==============================] - 72s 21ms/step - loss: 0.3298 - val_loss: 0.3453\n",
      "Epoch 11/50\n",
      "3382/3382 [==============================] - 72s 21ms/step - loss: 0.3296 - val_loss: 0.3520\n",
      "Epoch 12/50\n",
      "3382/3382 [==============================] - 72s 21ms/step - loss: 0.3295 - val_loss: 0.3495\n",
      "Epoch 13/50\n",
      "3382/3382 [==============================] - 72s 21ms/step - loss: 0.3297 - val_loss: 0.3384\n",
      "Epoch 14/50\n",
      "3382/3382 [==============================] - 72s 21ms/step - loss: 0.3293 - val_loss: 0.3395\n",
      "Epoch 15/50\n",
      "3382/3382 [==============================] - 72s 21ms/step - loss: 0.3290 - val_loss: 0.3539\n",
      "Epoch 16/50\n",
      "3382/3382 [==============================] - 72s 21ms/step - loss: 0.3293 - val_loss: 0.3482\n",
      "Epoch 17/50\n",
      "3382/3382 [==============================] - 72s 21ms/step - loss: 0.3288 - val_loss: 0.3481\n",
      "Epoch 18/50\n",
      "3382/3382 [==============================] - 72s 21ms/step - loss: 0.3284 - val_loss: 0.3308\n",
      "Epoch 19/50\n",
      "3382/3382 [==============================] - 71s 21ms/step - loss: 0.3283 - val_loss: 0.3396\n",
      "Epoch 20/50\n",
      "3382/3382 [==============================] - 72s 21ms/step - loss: 0.3279 - val_loss: 0.3486\n",
      "Epoch 21/50\n",
      "3382/3382 [==============================] - 71s 21ms/step - loss: 0.3285 - val_loss: 0.3236\n",
      "Epoch 22/50\n",
      "3382/3382 [==============================] - 72s 21ms/step - loss: 0.3282 - val_loss: 0.3616\n",
      "Epoch 23/50\n",
      "3382/3382 [==============================] - 72s 21ms/step - loss: 0.3289 - val_loss: 0.3580\n",
      "Epoch 24/50\n",
      "3382/3382 [==============================] - 72s 21ms/step - loss: 0.3287 - val_loss: 0.3507\n",
      "Epoch 25/50\n",
      "3382/3382 [==============================] - 72s 21ms/step - loss: 0.3285 - val_loss: 0.3491\n",
      "Epoch 26/50\n",
      "3382/3382 [==============================] - 72s 21ms/step - loss: 0.3285 - val_loss: 0.3515\n",
      "Epoch 27/50\n",
      "3382/3382 [==============================] - 72s 21ms/step - loss: 0.3283 - val_loss: 0.3639\n",
      "Epoch 28/50\n",
      "3382/3382 [==============================] - 72s 21ms/step - loss: 0.3287 - val_loss: 0.3536\n",
      "Epoch 29/50\n",
      "3382/3382 [==============================] - 72s 21ms/step - loss: 0.3284 - val_loss: 0.3510\n",
      "Epoch 30/50\n",
      "3382/3382 [==============================] - 72s 21ms/step - loss: 0.3283 - val_loss: 0.3391\n",
      "Epoch 31/50\n",
      "3382/3382 [==============================] - 72s 21ms/step - loss: 0.3284 - val_loss: 0.3538\n",
      "Epoch 32/50\n",
      "3382/3382 [==============================] - 72s 21ms/step - loss: 0.3280 - val_loss: 0.3471\n",
      "Epoch 33/50\n",
      "3382/3382 [==============================] - 72s 21ms/step - loss: 0.3285 - val_loss: 0.3251\n",
      "Epoch 34/50\n",
      "3382/3382 [==============================] - 72s 21ms/step - loss: 0.3282 - val_loss: 0.3833\n",
      "Epoch 35/50\n",
      "3382/3382 [==============================] - 72s 21ms/step - loss: 0.3281 - val_loss: 0.3679\n",
      "Epoch 36/50\n",
      "3382/3382 [==============================] - 72s 21ms/step - loss: 0.3284 - val_loss: 0.3699\n",
      "Epoch 37/50\n",
      "3382/3382 [==============================] - 72s 21ms/step - loss: 0.3285 - val_loss: 0.3610\n",
      "Epoch 38/50\n",
      "3382/3382 [==============================] - 72s 21ms/step - loss: 0.3286 - val_loss: 0.3470\n",
      "Epoch 39/50\n",
      "3382/3382 [==============================] - 72s 21ms/step - loss: 0.3289 - val_loss: 0.3667\n",
      "Epoch 40/50\n",
      "3382/3382 [==============================] - 72s 21ms/step - loss: 0.3285 - val_loss: 0.3617\n",
      "Epoch 41/50\n",
      "3382/3382 [==============================] - 72s 21ms/step - loss: 0.3287 - val_loss: 0.3527\n",
      "Epoch 42/50\n",
      "3382/3382 [==============================] - 72s 21ms/step - loss: 0.3286 - val_loss: 0.3416\n",
      "Epoch 43/50\n",
      "3382/3382 [==============================] - 72s 21ms/step - loss: 0.3284 - val_loss: 0.3585\n",
      "Epoch 44/50\n",
      "3382/3382 [==============================] - 72s 21ms/step - loss: 0.3287 - val_loss: 0.3708\n",
      "Epoch 45/50\n",
      "3382/3382 [==============================] - 72s 21ms/step - loss: 0.3285 - val_loss: 0.3275\n",
      "Epoch 46/50\n",
      "3382/3382 [==============================] - 72s 21ms/step - loss: 0.3285 - val_loss: 0.3749\n",
      "Epoch 47/50\n",
      "3382/3382 [==============================] - 72s 21ms/step - loss: 0.3296 - val_loss: 0.3735\n",
      "Epoch 48/50\n",
      "3382/3382 [==============================] - 72s 21ms/step - loss: 0.3288 - val_loss: 0.3707\n",
      "Epoch 49/50\n",
      "3382/3382 [==============================] - 72s 21ms/step - loss: 0.3290 - val_loss: 0.3607\n",
      "Epoch 50/50\n",
      "3382/3382 [==============================] - 72s 21ms/step - loss: 0.3290 - val_loss: 0.3602\n"
     ]
    }
   ],
   "source": [
    "model_version = '2.0.0.3_encoder_elueverywhere_bce_adadelta_initbias'\n",
    "\n",
    "os.system('mkdir ' + base_dir + '/weights' + model_version)\n",
    "checkpointer = keras.callbacks.ModelCheckpoint(base_dir + '/weights' + model_version + '/weights.{epoch:02d}-{val_loss:.2f}.hdf5', monitor='val_loss', verbose=0, save_best_only=False, save_weights_only=False, mode='auto', period=1)\n",
    "\n",
    "encoder.fit_generator(fixed_generator(x_train, y_train, batch_size),\n",
    "                steps_per_epoch=x_train.shape[0],\n",
    "                epochs=50,\n",
    "                validation_data=fixed_generator(x_validation, y_validation, batch_size),\n",
    "                validation_steps=x_validation.shape[0],\n",
    "                callbacks=[checkpointer]\n",
    "                )\n",
    "encoder.save(base_dir + '/ae' + model_version + '.h5')"
   ]
  },
  {
   "cell_type": "code",
   "execution_count": null,
   "metadata": {},
   "outputs": [],
   "source": []
  },
  {
   "cell_type": "code",
   "execution_count": null,
   "metadata": {},
   "outputs": [],
   "source": []
  },
  {
   "cell_type": "code",
   "execution_count": null,
   "metadata": {},
   "outputs": [],
   "source": []
  },
  {
   "cell_type": "code",
   "execution_count": null,
   "metadata": {},
   "outputs": [],
   "source": []
  },
  {
   "cell_type": "code",
   "execution_count": null,
   "metadata": {},
   "outputs": [],
   "source": []
  },
  {
   "cell_type": "code",
   "execution_count": 22,
   "metadata": {
    "scrolled": false
   },
   "outputs": [
    {
     "data": {
      "text/plain": [
       "array([[255., 255., 255.,   0.,   0.,   0., 255., 255., 255., 255., 195.,\n",
       "          0.,   0.,   0., 255.,   0., 255., 255.,   0., 255.,   0.,   0.,\n",
       "          0.,   0.,   0.,   0.,   0., 255., 255., 255.,   0.,   0.,   0.,\n",
       "          0.,   0.,   0.,   0.,   0., 255., 255., 255., 255.,   0.,   0.,\n",
       "          0.,   0., 255.,   0., 255.,   6.,   0.,   0., 255.,   0.,   0.,\n",
       "          0.,   0.,   0.,   0., 255., 255.,   0.,   0.,   0.,   0.,   0.,\n",
       "          0.,   0.,   0.,   0., 255., 255.,   0.,   0.,   0.,   0.,   0.,\n",
       "          0., 255., 255., 255.,   0.,   0.,   0.,   0., 255., 255., 255.,\n",
       "        255.,   0.,   0.,   0., 255., 255., 255., 255.,   0.,   0., 255.,\n",
       "        255.,   0.,   0.,   0.,   0.,   0., 255., 255., 255.,   0.,   0.,\n",
       "          0.,   0., 255., 255., 255.,   0.,   0.,   0.,   0.,   0.,   0.,\n",
       "          0.,   0., 255.,   0.,   0., 255.,   0., 255.]], dtype=float32)"
      ]
     },
     "execution_count": 22,
     "metadata": {},
     "output_type": "execute_result"
    }
   ],
   "source": [
    "np.around(encoder.predict(imageio.imread(test_data_dir + \"/class0/patch000013.bmp\").reshape(1,31,31,1))*255)"
   ]
  },
  {
   "cell_type": "code",
   "execution_count": 23,
   "metadata": {
    "scrolled": true
   },
   "outputs": [
    {
     "data": {
      "text/plain": [
       "array([[  47.,  459.,  299.,  156.,  151.,  562.,   78., -161.,  333.,\n",
       "         759.,  353.,  279.,  361.,  306., -154., -197.,  821.,  628.,\n",
       "          25.,   83.,  169.,  329., -226., -217.,  -45.,  157.,  -70.,\n",
       "        -155.,  112.,  529., -108., -136.,   61.,  397.,  157.,  221.,\n",
       "          64.,  244.,  -26.,   11.,  246.,  500., -169., -142.,  480.,\n",
       "         552.,   69., -149.,  537.,  243., -146., -166.,    1.,   -5.,\n",
       "         -11., -122.,  212.,   38., -147., -182., -156.,  163.,  -44.,\n",
       "        -162.,  304., -200., -188.,  122.,  200.,   44.,   57., 1039.,\n",
       "          85., -191., -219.,  -36.,  368.,  212.,  190.,  538.,  103.,\n",
       "         -81., -167., -222.,  200.,  246.,   82.,   40.,  124.,   78.,\n",
       "         -40.,  -17.,  -93.,   38., -156., -108.,  225.,  149.,  -56.,\n",
       "        -115.,  160.,  403.,   33.,  294.,   49.,   16.,   70.,  340.,\n",
       "         481.,  275., -205., -239.,  292.,  521.,   25.,   50.,  265.,\n",
       "         202., -182., -217.,   21.,  223.,  243.,  -21.,  -44.,   22.,\n",
       "        -120., -179.,  578.]], dtype=float32)"
      ]
     },
     "execution_count": 23,
     "metadata": {},
     "output_type": "execute_result"
    }
   ],
   "source": [
    "np.around(encoder.predict(imageio.imread(train_data_dir + \"/class0/patch000001.bmp\").reshape(1,31,31,1))*255)"
   ]
  },
  {
   "cell_type": "code",
   "execution_count": 24,
   "metadata": {},
   "outputs": [
    {
     "data": {
      "text/plain": [
       "array([  4,   1,   0,   0, 137,  42,   1,   3,  55,   7,   0,   0,  71,\n",
       "        32,   1,   3, 137,  39,   0,   0,   3,   2,   0,   5,  40,  10,\n",
       "         1,  13,  81,   1,   0,   1,  11,   2,   0,   0, 137,  64,   1,\n",
       "         1,  54,   2,   0,   0, 109,  23,   1,   4, 137,  33,   4,   2,\n",
       "         8,   2,   0,   8,  40,  16,  12,  83,  83,   0,   0,   1,  27,\n",
       "         9,   0,   1, 137,  58,   2,   0,  23,   0,   0,   0,  54,  62,\n",
       "        17,  18, 137,  36,  12,   8,   5,  10,   9,  34,  10,  16,  22,\n",
       "       137,  76,   2,   0,   0,  50,   8,   0,   1, 137,  57,   1,   1,\n",
       "        26,   1,   0,   0,  31,  26,  18,  19,  19,   2,   4,   4,  10,\n",
       "        10,  17,  47,   1,   1,   2,  27, 137,  25,   2,   3,  19],\n",
       "      dtype=uint8)"
      ]
     },
     "execution_count": 24,
     "metadata": {},
     "output_type": "execute_result"
    }
   ],
   "source": [
    "np.load(train_descrs_dir + \"/class0/descr_angle_000001.npy\")"
   ]
  },
  {
   "cell_type": "code",
   "execution_count": 25,
   "metadata": {},
   "outputs": [],
   "source": [
    "temp_y_p1 = np.load(train_descrs_dir + \"/class0/descr_angle_000001.npy\")\n",
    "temp_x_p1 = np.around(encoder.predict(imageio.imread(train_data_dir + \"/class0/patch000001.bmp\").reshape(1,31,31,1))*255)\n",
    "temp_x_p1 = temp_x_p1.reshape(129)"
   ]
  },
  {
   "cell_type": "code",
   "execution_count": 26,
   "metadata": {},
   "outputs": [
    {
     "data": {
      "text/plain": [
       "0.1924453450634157"
      ]
     },
     "execution_count": 26,
     "metadata": {},
     "output_type": "execute_result"
    }
   ],
   "source": [
    "np.corrcoef(temp_x_p1, temp_y_p1)[0,1]"
   ]
  },
  {
   "cell_type": "code",
   "execution_count": 28,
   "metadata": {},
   "outputs": [
    {
     "name": "stdout",
     "output_type": "stream",
     "text": [
      "0.10761192494360794\n"
     ]
    }
   ],
   "source": [
    "corr_coefs = []\n",
    "for i in range(103):\n",
    "    try:\n",
    "        temp_y_p1 = np.load(train_descrs_dir + \"/class0/descr_angle_\" + str(i).zfill(6) + \".npy\")\n",
    "        temp_x_p1 = np.around(encoder.predict(imageio.imread(train_data_dir + \"/class0/patch\" + str(i).zfill(6) + \".bmp\").reshape(1,31,31,1))*255)\n",
    "        temp_x_p1 = temp_x_p1.reshape(129)\n",
    "        corr_coefs.append(np.corrcoef(temp_x_p1, temp_y_p1)[0,1])\n",
    "    except:\n",
    "        continue\n",
    "corr_coefs = np.array(corr_coefs)\n",
    "print(np.median(corr_coefs))"
   ]
  },
  {
   "cell_type": "code",
   "execution_count": null,
   "metadata": {},
   "outputs": [],
   "source": []
  },
  {
   "cell_type": "code",
   "execution_count": null,
   "metadata": {},
   "outputs": [],
   "source": []
  },
  {
   "cell_type": "code",
   "execution_count": 45,
   "metadata": {},
   "outputs": [],
   "source": [
    "temp_y_prime = encoder.predict(imageio.imread(\"/home/niaki/Code/ImageNet/tiny-imagenet-200/tiny_train16/class0/patch000012.png\").reshape(1,16,16,3))"
   ]
  },
  {
   "cell_type": "code",
   "execution_count": 46,
   "metadata": {},
   "outputs": [],
   "source": [
    "temp_y = np.load(\"/home/niaki/Code/ImageNet/tiny-imagenet-200/tiny_sifts/tiny_train16/class0/patch000012.npy\")"
   ]
  },
  {
   "cell_type": "code",
   "execution_count": 47,
   "metadata": {
    "scrolled": true
   },
   "outputs": [
    {
     "name": "stdout",
     "output_type": "stream",
     "text": [
      "0.6393183138370047 \n",
      "\n",
      "    0.000000    0.000000\n",
      "    0.000000    0.000000\n",
      "    0.000000    0.000000\n",
      "    0.000000    0.000000\n",
      "    0.000000    0.000000\n",
      "    0.000000    0.000000\n",
      "    0.000000    0.000000\n",
      "    0.000000    0.000000\n",
      "    0.000000    0.000000\n",
      "    0.000000    0.000000\n",
      "    0.000000    0.000000\n",
      "    0.000000    0.000000\n",
      "    0.000000    0.000000\n",
      "    0.000000    0.000000\n",
      "    0.000000    0.000000\n",
      "    0.000000    0.000000\n",
      "    0.000000    0.000000\n",
      "    0.000000    0.000000\n",
      "    0.000000    0.000000\n",
      "    0.000000    0.000000\n",
      "    0.000000    0.000000\n",
      "    0.000000    0.000000\n",
      "    0.000000    0.000000\n",
      "    0.000000    0.000000\n",
      "    0.000000    0.000000\n",
      "    0.000000    0.000000\n",
      "    0.000000    0.000000\n",
      "    0.000000    0.000000\n",
      "    0.000000    0.000000\n",
      "    0.000000    0.000000\n",
      "    0.000000    0.000000\n",
      "    0.000000    0.000000\n",
      "    0.000000    0.000000\n",
      "    0.000000    0.000000\n",
      "    0.000000    0.000000\n",
      "    0.000000    0.000000\n",
      "    0.000000    0.000000\n",
      "    0.000000    0.000000\n",
      "    0.000000    0.000000\n",
      "    0.000000    0.000000\n",
      "   91.000000    1.000000\n",
      "   18.000000    0.000000\n",
      "    1.000000    1.000000\n",
      "    1.000000    0.000000\n",
      "    7.000000    1.000000\n",
      "   56.000000    0.000000\n",
      "  157.000000    0.000000\n",
      "  157.000000    1.000000\n",
      "  103.000000    1.000000\n",
      "   21.000000    0.000000\n",
      "    2.000000    1.000000\n",
      "    3.000000    0.000000\n",
      "   16.000000    1.000000\n",
      "   96.000000    1.000000\n",
      "  157.000000    1.000000\n",
      "  157.000000    1.000000\n",
      "    0.000000    0.000000\n",
      "    0.000000    0.000000\n",
      "    0.000000    0.000000\n",
      "    0.000000    0.000000\n",
      "    0.000000    0.000000\n",
      "    0.000000    0.000000\n",
      "    0.000000    0.000000\n",
      "    0.000000    0.000000\n",
      "    0.000000    0.000000\n",
      "    0.000000    0.000000\n",
      "    0.000000    0.000000\n",
      "    0.000000    0.000000\n",
      "    0.000000    0.000000\n",
      "    0.000000    0.000000\n",
      "    0.000000    0.000000\n",
      "    0.000000    0.000000\n",
      "  110.000000    1.000000\n",
      "   14.000000    0.000000\n",
      "    1.000000    1.000000\n",
      "    3.000000    0.000000\n",
      "    9.000000    0.984089\n",
      "   33.000000    0.000000\n",
      "  157.000000    0.000000\n",
      "  157.000000    1.000000\n",
      "  125.000000    1.000000\n",
      "   15.000000    0.000000\n",
      "    1.000000    1.000000\n",
      "    9.000000    0.000000\n",
      "   25.000000    1.000000\n",
      "   48.000000    1.000000\n",
      "  157.000000    1.000000\n",
      "  157.000000    1.000000\n",
      "    0.000000    0.000000\n",
      "    0.000000    0.000000\n",
      "    0.000000    0.000000\n",
      "    0.000000    0.000000\n",
      "    0.000000    0.000000\n",
      "    0.000000    0.000000\n",
      "    0.000000    0.000000\n",
      "    0.000000    0.000000\n",
      "    0.000000    0.000000\n",
      "    0.000000    0.000000\n",
      "    0.000000    0.000000\n",
      "    0.000000    0.000000\n",
      "    0.000000    0.000000\n",
      "    0.000000    0.000000\n",
      "    0.000000    0.000000\n",
      "    0.000000    0.000000\n",
      "    0.000000    0.000000\n",
      "    0.000000    0.000000\n",
      "    0.000000    0.000000\n",
      "    0.000000    0.000000\n",
      "    0.000000    0.000000\n",
      "    0.000000    0.000000\n",
      "    0.000000    0.000000\n",
      "    0.000000    0.000000\n",
      "    0.000000    0.000000\n",
      "    0.000000    0.000000\n",
      "    0.000000    0.000000\n",
      "    0.000000    0.000000\n",
      "    0.000000    0.000000\n",
      "    0.000000    0.000000\n",
      "    0.000000    0.000000\n",
      "    0.000000    0.000000\n",
      "    0.000000    0.000000\n",
      "    0.000000    0.000000\n",
      "    0.000000    0.000000\n",
      "    0.000000    0.000000\n",
      "    0.000000    0.000000\n",
      "    0.000000    0.000000\n",
      "    0.000000    0.000000\n",
      "    0.000000    0.000000\n"
     ]
    }
   ],
   "source": [
    "print(np.corrcoef(temp_y, temp_y_prime[0])[1,0], \"\\n\")\n",
    "for i in range(temp_y_prime.shape[1]):\n",
    "    print('{:>12f}{:>12f}'.format(temp_y[i], temp_y_prime[0, i]))      \n",
    "#     print(temp_y_prime[0, i], temp_y[i])"
   ]
  },
  {
   "cell_type": "code",
   "execution_count": null,
   "metadata": {},
   "outputs": [],
   "source": []
  },
  {
   "cell_type": "code",
   "execution_count": null,
   "metadata": {},
   "outputs": [],
   "source": []
  },
  {
   "cell_type": "code",
   "execution_count": null,
   "metadata": {},
   "outputs": [],
   "source": []
  },
  {
   "cell_type": "code",
   "execution_count": null,
   "metadata": {},
   "outputs": [],
   "source": []
  },
  {
   "cell_type": "code",
   "execution_count": null,
   "metadata": {},
   "outputs": [],
   "source": []
  },
  {
   "cell_type": "code",
   "execution_count": null,
   "metadata": {},
   "outputs": [],
   "source": []
  },
  {
   "cell_type": "code",
   "execution_count": 21,
   "metadata": {},
   "outputs": [
    {
     "data": {
      "text/plain": [
       "array([[0.000e+00, 0.000e+00, 0.000e+00, 0.000e+00, 0.000e+00, 0.000e+00,\n",
       "        0.000e+00, 0.000e+00, 0.000e+00, 0.000e+00, 0.000e+00, 0.000e+00,\n",
       "        0.000e+00, 0.000e+00, 0.000e+00, 0.000e+00, 0.000e+00, 0.000e+00,\n",
       "        0.000e+00, 0.000e+00, 0.000e+00, 0.000e+00, 0.000e+00, 0.000e+00,\n",
       "        0.000e+00, 0.000e+00, 0.000e+00, 0.000e+00, 0.000e+00, 0.000e+00,\n",
       "        0.000e+00, 0.000e+00, 0.000e+00, 0.000e+00, 0.000e+00, 0.000e+00,\n",
       "        0.000e+00, 0.000e+00, 0.000e+00, 0.000e+00, 1.000e+00, 0.000e+00,\n",
       "        0.000e+00, 0.000e+00, 0.000e+00, 0.000e+00, 0.000e+00, 0.000e+00,\n",
       "        0.000e+00, 0.000e+00, 3.427e-06, 0.000e+00, 0.000e+00, 0.000e+00,\n",
       "        0.000e+00, 0.000e+00, 0.000e+00, 0.000e+00, 0.000e+00, 0.000e+00,\n",
       "        0.000e+00, 0.000e+00, 0.000e+00, 0.000e+00, 0.000e+00, 0.000e+00,\n",
       "        0.000e+00, 0.000e+00, 0.000e+00, 0.000e+00, 0.000e+00, 0.000e+00,\n",
       "        0.000e+00, 0.000e+00, 0.000e+00, 0.000e+00, 0.000e+00, 0.000e+00,\n",
       "        0.000e+00, 0.000e+00, 0.000e+00, 0.000e+00, 0.000e+00, 0.000e+00,\n",
       "        0.000e+00, 0.000e+00, 0.000e+00, 0.000e+00, 0.000e+00, 0.000e+00,\n",
       "        0.000e+00, 0.000e+00, 0.000e+00, 0.000e+00, 0.000e+00, 0.000e+00,\n",
       "        0.000e+00, 0.000e+00, 0.000e+00, 0.000e+00, 0.000e+00, 0.000e+00,\n",
       "        0.000e+00, 0.000e+00, 0.000e+00, 0.000e+00, 0.000e+00, 0.000e+00,\n",
       "        0.000e+00, 0.000e+00, 0.000e+00, 0.000e+00, 0.000e+00, 0.000e+00,\n",
       "        0.000e+00, 0.000e+00, 0.000e+00, 0.000e+00, 0.000e+00, 0.000e+00,\n",
       "        0.000e+00, 0.000e+00, 0.000e+00, 0.000e+00, 0.000e+00, 0.000e+00,\n",
       "        0.000e+00, 0.000e+00]], dtype=float32)"
      ]
     },
     "execution_count": 21,
     "metadata": {},
     "output_type": "execute_result"
    }
   ],
   "source": [
    "np.round(temp, decimals=9)"
   ]
  },
  {
   "cell_type": "code",
   "execution_count": null,
   "metadata": {},
   "outputs": [],
   "source": []
  },
  {
   "cell_type": "code",
   "execution_count": null,
   "metadata": {},
   "outputs": [],
   "source": []
  },
  {
   "cell_type": "code",
   "execution_count": null,
   "metadata": {},
   "outputs": [],
   "source": []
  },
  {
   "cell_type": "code",
   "execution_count": 14,
   "metadata": {},
   "outputs": [
    {
     "name": "stdout",
     "output_type": "stream",
     "text": [
      "1.14.0\n"
     ]
    }
   ],
   "source": [
    "import tensorflow as tf\n",
    "\n",
    "print(tf.__version__)"
   ]
  },
  {
   "cell_type": "code",
   "execution_count": 19,
   "metadata": {},
   "outputs": [
    {
     "name": "stderr",
     "output_type": "stream",
     "text": [
      "W0122 20:00:43.071549 140376228677440 deprecation.py:323] From /scratch/tensorflow/lib/python3.6/site-packages/tensorflow/python/compat/v2_compat.py:61: disable_resource_variables (from tensorflow.python.ops.variable_scope) is deprecated and will be removed in a future version.\n",
      "Instructions for updating:\n",
      "non-resource variables are not supported in the long term\n"
     ]
    }
   ],
   "source": [
    "tf.disable_v2_behavior()"
   ]
  },
  {
   "cell_type": "code",
   "execution_count": 21,
   "metadata": {},
   "outputs": [],
   "source": [
    "config = tf.ConfigProto()\n",
    "config.gpu_options.allow_growth = True\n",
    "sess = tf.Session(config=config)"
   ]
  },
  {
   "cell_type": "code",
   "execution_count": null,
   "metadata": {},
   "outputs": [],
   "source": []
  }
 ],
 "metadata": {
  "kernelspec": {
   "display_name": "tf_2",
   "language": "python",
   "name": "tensorflow"
  },
  "language_info": {
   "codemirror_mode": {
    "name": "ipython",
    "version": 3
   },
   "file_extension": ".py",
   "mimetype": "text/x-python",
   "name": "python",
   "nbconvert_exporter": "python",
   "pygments_lexer": "ipython3",
   "version": "3.7.3"
  }
 },
 "nbformat": 4,
 "nbformat_minor": 2
}
