{
 "cells": [
  {
   "cell_type": "code",
   "execution_count": 1,
   "metadata": {},
   "outputs": [
    {
     "name": "stderr",
     "output_type": "stream",
     "text": [
      "Using TensorFlow backend.\n"
     ]
    }
   ],
   "source": [
    "from keras.layers import Input, Dense, Convolution2D, MaxPooling2D, UpSampling2D, Conv2D, Flatten, Dense\n",
    "from keras.models import Model, load_model\n",
    "from keras.preprocessing.image import ImageDataGenerator, img_to_array, load_img\n",
    "from keras import backend as K\n",
    "import keras\n",
    "\n",
    "import numpy as np\n",
    "import matplotlib.pyplot as plt\n",
    "\n",
    "from os import listdir\n",
    "from os import system\n",
    "import os\n",
    "import random\n",
    "\n",
    "import imageio"
   ]
  },
  {
   "cell_type": "code",
   "execution_count": 2,
   "metadata": {},
   "outputs": [],
   "source": [
    "img_width, img_height = 16, 16\n",
    "\n",
    "nb_epoch = 50\n",
    "batch_size = 32"
   ]
  },
  {
   "cell_type": "code",
   "execution_count": 3,
   "metadata": {},
   "outputs": [],
   "source": [
    "base_dir = '/home/niaki/Code/ImageNet/tiny-imagenet-200'\n",
    "\n",
    "train_data_dir      = base_dir + '/tiny_train16'\n",
    "validation_data_dir = base_dir + '/tiny_validation16'\n",
    "test_data_dir       = base_dir + '/tiny_test16'\n",
    "\n",
    "train_descrs_dir      = base_dir + '/tiny_sifts/tiny_train16'\n",
    "validation_descrs_dir = base_dir + '/tiny_sifts/tiny_validation16'\n",
    "test_descrs_dir       = base_dir + '/tiny_sifts/tiny_test16'"
   ]
  },
  {
   "cell_type": "code",
   "execution_count": null,
   "metadata": {},
   "outputs": [],
   "source": []
  },
  {
   "cell_type": "code",
   "execution_count": 4,
   "metadata": {},
   "outputs": [],
   "source": [
    "def loading_data(data_dir):\n",
    "    files = listdir(data_dir + '/class0')\n",
    "    files.sort()\n",
    "\n",
    "    images = []\n",
    "\n",
    "    for file in files:\n",
    "        image = imageio.imread(data_dir + '/class0/' + file)\n",
    "    #     image = np.expand_dims(image, axis=0)\n",
    "        images.append(image)\n",
    "\n",
    "    images = np.array(images)\n",
    "    images = images.astype(np.float64) / 255\n",
    "    print(images.shape)\n",
    "    return images"
   ]
  },
  {
   "cell_type": "code",
   "execution_count": 5,
   "metadata": {},
   "outputs": [
    {
     "name": "stdout",
     "output_type": "stream",
     "text": [
      "(157086, 16, 16, 3)\n",
      "(3932, 16, 16, 3)\n"
     ]
    }
   ],
   "source": [
    "x_train = loading_data(train_data_dir)\n",
    "x_validation = loading_data(validation_data_dir)"
   ]
  },
  {
   "cell_type": "code",
   "execution_count": 6,
   "metadata": {},
   "outputs": [],
   "source": [
    "def loading_descrs(descrs_dir):\n",
    "    files = listdir(descrs_dir + '/class0')\n",
    "    files.sort()\n",
    "\n",
    "    descrs = []\n",
    "\n",
    "    for file in files:\n",
    "        descr = np.load(descrs_dir + '/class0/' + file)\n",
    "        descrs.append(descr)\n",
    "\n",
    "    descrs = np.array(descrs)\n",
    "    descrs = descrs.astype(np.float64) / 255\n",
    "    print(descrs.shape)\n",
    "    return descrs"
   ]
  },
  {
   "cell_type": "code",
   "execution_count": 7,
   "metadata": {},
   "outputs": [
    {
     "name": "stdout",
     "output_type": "stream",
     "text": [
      "(157086, 128)\n",
      "(3932, 128)\n"
     ]
    }
   ],
   "source": [
    "y_train = loading_descrs(train_descrs_dir)\n",
    "y_validation = loading_descrs(validation_descrs_dir)"
   ]
  },
  {
   "cell_type": "code",
   "execution_count": null,
   "metadata": {},
   "outputs": [],
   "source": []
  },
  {
   "cell_type": "code",
   "execution_count": 50,
   "metadata": {},
   "outputs": [
    {
     "name": "stdout",
     "output_type": "stream",
     "text": [
      "_________________________________________________________________\n",
      "Layer (type)                 Output Shape              Param #   \n",
      "=================================================================\n",
      "input_4 (InputLayer)         (None, 16, 16, 3)         0         \n",
      "_________________________________________________________________\n",
      "conv2d_10 (Conv2D)           (None, 16, 16, 32)        896       \n",
      "_________________________________________________________________\n",
      "max_pooling2d_10 (MaxPooling (None, 8, 8, 32)          0         \n",
      "_________________________________________________________________\n",
      "conv2d_11 (Conv2D)           (None, 8, 8, 32)          9248      \n",
      "_________________________________________________________________\n",
      "max_pooling2d_11 (MaxPooling (None, 4, 4, 32)          0         \n",
      "_________________________________________________________________\n",
      "conv2d_12 (Conv2D)           (None, 4, 4, 32)          9248      \n",
      "_________________________________________________________________\n",
      "max_pooling2d_12 (MaxPooling (None, 2, 2, 32)          0         \n",
      "_________________________________________________________________\n",
      "flatten_4 (Flatten)          (None, 128)               0         \n",
      "_________________________________________________________________\n",
      "dense_4 (Dense)              (None, 128)               16512     \n",
      "=================================================================\n",
      "Total params: 35,904\n",
      "Trainable params: 35,904\n",
      "Non-trainable params: 0\n",
      "_________________________________________________________________\n"
     ]
    }
   ],
   "source": [
    "input_shape = (img_width, img_height, 3)\n",
    "input_img = Input(shape=input_shape)\n",
    "\n",
    "x = Conv2D(32, (3, 3), activation=\"relu\", padding=\"same\")(input_img)\n",
    "x = MaxPooling2D((2, 2), padding=\"same\")(x)\n",
    "x = Conv2D(32, (3, 3), activation=\"relu\", padding=\"same\")(x)\n",
    "x = MaxPooling2D((2, 2), padding=\"same\")(x)\n",
    "x = Conv2D(32, (3, 3), activation=\"relu\", padding=\"same\")(x)\n",
    "x = MaxPooling2D((2, 2), padding=\"same\")(x)\n",
    "x = Flatten(data_format=\"channels_last\")(x)\n",
    "encoded = Dense(128, activation=\"sigmoid\")(x)\n",
    "\n",
    "encoder = Model(input_img, encoded)\n",
    "\n",
    "encoder.compile(optimizer='adadelta', metrics=['categorical_accuracy'], loss='categorical_crossentropy')\n",
    "#next up: encoder.compile(optimizer='sgd', metrics=['categorical_accuracy'], loss='categorical_crossentropy')\n",
    "\n",
    "\n",
    "encoder.summary()"
   ]
  },
  {
   "cell_type": "code",
   "execution_count": 51,
   "metadata": {},
   "outputs": [],
   "source": [
    "def fixed_generator(x_train, y_train, batch_size):\n",
    "    while True:\n",
    "        batch_list_x = []\n",
    "        batch_list_y = []\n",
    "        \n",
    "        for i in range(x_train.shape[0]):\n",
    "            batch_list_x.append(x_train[i])\n",
    "            batch_list_y.append(y_train[i])\n",
    "            if len(batch_list_x) == batch_size:\n",
    "                yield (np.array(batch_list_x),np.array(batch_list_y))\n",
    "                batch_list_x = []\n",
    "                batch_list_y = []\n"
   ]
  },
  {
   "cell_type": "code",
   "execution_count": 52,
   "metadata": {
    "scrolled": true
   },
   "outputs": [
    {
     "name": "stdout",
     "output_type": "stream",
     "text": [
      "Epoch 1/50\n",
      "157086/157086 [==============================] - 766s 5ms/step - loss: 26.3795 - categorical_accuracy: 0.0967 - val_loss: 26.0003 - val_categorical_accuracy: 0.1099\n",
      "Epoch 2/50\n",
      "157086/157086 [==============================] - 755s 5ms/step - loss: 26.2465 - categorical_accuracy: 0.1045 - val_loss: 25.9552 - val_categorical_accuracy: 0.1150\n",
      "Epoch 3/50\n",
      "157086/157086 [==============================] - 746s 5ms/step - loss: 26.2139 - categorical_accuracy: 0.1079 - val_loss: 25.9413 - val_categorical_accuracy: 0.1092\n",
      "Epoch 4/50\n",
      "157086/157086 [==============================] - 754s 5ms/step - loss: 26.1893 - categorical_accuracy: 0.1029 - val_loss: 25.8994 - val_categorical_accuracy: 0.1012\n",
      "Epoch 5/50\n",
      "157086/157086 [==============================] - 751s 5ms/step - loss: 26.1618 - categorical_accuracy: 0.0969 - val_loss: 25.9198 - val_categorical_accuracy: 0.0938\n",
      "Epoch 6/50\n",
      "157086/157086 [==============================] - 760s 5ms/step - loss: 26.1533 - categorical_accuracy: 0.0974 - val_loss: 25.9147 - val_categorical_accuracy: 0.0968\n",
      "Epoch 7/50\n",
      "157086/157086 [==============================] - 745s 5ms/step - loss: 26.1413 - categorical_accuracy: 0.0955 - val_loss: 25.8785 - val_categorical_accuracy: 0.0978\n",
      "Epoch 8/50\n",
      "157086/157086 [==============================] - 746s 5ms/step - loss: 26.1326 - categorical_accuracy: 0.0914 - val_loss: 25.8598 - val_categorical_accuracy: 0.1058\n",
      "Epoch 9/50\n",
      "157086/157086 [==============================] - 749s 5ms/step - loss: 26.1283 - categorical_accuracy: 0.0891 - val_loss: 25.9195 - val_categorical_accuracy: 0.0966\n",
      "Epoch 10/50\n",
      "157086/157086 [==============================] - 748s 5ms/step - loss: 26.1252 - categorical_accuracy: 0.0881 - val_loss: 25.8679 - val_categorical_accuracy: 0.0944\n",
      "Epoch 11/50\n",
      "157086/157086 [==============================] - 750s 5ms/step - loss: 26.1218 - categorical_accuracy: 0.0880 - val_loss: 25.8724 - val_categorical_accuracy: 0.0941\n",
      "Epoch 12/50\n",
      "157086/157086 [==============================] - 743s 5ms/step - loss: 26.1192 - categorical_accuracy: 0.0888 - val_loss: 25.8626 - val_categorical_accuracy: 0.0970\n",
      "Epoch 13/50\n",
      "157086/157086 [==============================] - 749s 5ms/step - loss: 26.1184 - categorical_accuracy: 0.0892 - val_loss: 25.8670 - val_categorical_accuracy: 0.0983\n",
      "Epoch 14/50\n",
      "157086/157086 [==============================] - 745s 5ms/step - loss: 26.1180 - categorical_accuracy: 0.0890 - val_loss: 25.8660 - val_categorical_accuracy: 0.0917\n",
      "Epoch 15/50\n",
      "157086/157086 [==============================] - 760s 5ms/step - loss: 26.1191 - categorical_accuracy: 0.0887 - val_loss: 25.8517 - val_categorical_accuracy: 0.0931\n",
      "Epoch 16/50\n",
      "157086/157086 [==============================] - 768s 5ms/step - loss: 26.1174 - categorical_accuracy: 0.0903 - val_loss: 25.8560 - val_categorical_accuracy: 0.0973\n",
      "Epoch 17/50\n",
      "157086/157086 [==============================] - 772s 5ms/step - loss: 26.1169 - categorical_accuracy: 0.0926 - val_loss: 25.9350 - val_categorical_accuracy: 0.0937\n",
      "Epoch 18/50\n",
      "157086/157086 [==============================] - 758s 5ms/step - loss: 26.1155 - categorical_accuracy: 0.0942 - val_loss: 26.1474 - val_categorical_accuracy: 0.0937\n",
      "Epoch 19/50\n",
      "157086/157086 [==============================] - 760s 5ms/step - loss: 26.1146 - categorical_accuracy: 0.0950 - val_loss: 25.8876 - val_categorical_accuracy: 0.1030\n",
      "Epoch 20/50\n",
      "157086/157086 [==============================] - 758s 5ms/step - loss: 34.3032 - categorical_accuracy: 0.0452 - val_loss: 40.8703 - val_categorical_accuracy: 0.0046\n",
      "Epoch 21/50\n",
      "157086/157086 [==============================] - 760s 5ms/step - loss: 41.1260 - categorical_accuracy: 0.0029 - val_loss: 40.8670 - val_categorical_accuracy: 0.0046\n",
      "Epoch 22/50\n",
      "157086/157086 [==============================] - 760s 5ms/step - loss: 41.1262 - categorical_accuracy: 0.0029 - val_loss: 40.8674 - val_categorical_accuracy: 0.0046\n",
      "Epoch 23/50\n",
      "157086/157086 [==============================] - 759s 5ms/step - loss: 41.1261 - categorical_accuracy: 0.0029 - val_loss: 40.8676 - val_categorical_accuracy: 0.0046\n",
      "Epoch 24/50\n",
      "157086/157086 [==============================] - 760s 5ms/step - loss: 41.1261 - categorical_accuracy: 0.0029 - val_loss: 40.8694 - val_categorical_accuracy: 0.0046\n",
      "Epoch 25/50\n",
      "157086/157086 [==============================] - 759s 5ms/step - loss: 41.1262 - categorical_accuracy: 0.0029 - val_loss: 40.8681 - val_categorical_accuracy: 0.0046\n",
      "Epoch 26/50\n",
      "157086/157086 [==============================] - 760s 5ms/step - loss: 41.1262 - categorical_accuracy: 0.0029 - val_loss: 40.8662 - val_categorical_accuracy: 0.0046\n",
      "Epoch 27/50\n",
      "157086/157086 [==============================] - 761s 5ms/step - loss: 41.1261 - categorical_accuracy: 0.0029 - val_loss: 40.8687 - val_categorical_accuracy: 0.0046\n",
      "Epoch 28/50\n",
      "157086/157086 [==============================] - 759s 5ms/step - loss: 41.1264 - categorical_accuracy: 0.0029 - val_loss: 40.8711 - val_categorical_accuracy: 0.0046\n",
      "Epoch 29/50\n",
      "157086/157086 [==============================] - 760s 5ms/step - loss: 41.1260 - categorical_accuracy: 0.0029 - val_loss: 40.8694 - val_categorical_accuracy: 0.0046\n",
      "Epoch 30/50\n",
      "157086/157086 [==============================] - 761s 5ms/step - loss: 41.1261 - categorical_accuracy: 0.0029 - val_loss: 40.8645 - val_categorical_accuracy: 0.0046\n",
      "Epoch 31/50\n",
      "157086/157086 [==============================] - 761s 5ms/step - loss: 41.1261 - categorical_accuracy: 0.0029 - val_loss: 40.8684 - val_categorical_accuracy: 0.0046\n",
      "Epoch 32/50\n",
      "157086/157086 [==============================] - 759s 5ms/step - loss: 41.1261 - categorical_accuracy: 0.0029 - val_loss: 40.8692 - val_categorical_accuracy: 0.0046\n",
      "Epoch 33/50\n",
      "157086/157086 [==============================] - 762s 5ms/step - loss: 41.1261 - categorical_accuracy: 0.0029 - val_loss: 40.8695 - val_categorical_accuracy: 0.0046\n",
      "Epoch 34/50\n",
      "157086/157086 [==============================] - 761s 5ms/step - loss: 41.1262 - categorical_accuracy: 0.0029 - val_loss: 40.8679 - val_categorical_accuracy: 0.0046\n",
      "Epoch 35/50\n",
      "157086/157086 [==============================] - 760s 5ms/step - loss: 41.1262 - categorical_accuracy: 0.0029 - val_loss: 40.8671 - val_categorical_accuracy: 0.0046\n",
      "Epoch 36/50\n",
      "157086/157086 [==============================] - 758s 5ms/step - loss: 41.1260 - categorical_accuracy: 0.0029 - val_loss: 40.8682 - val_categorical_accuracy: 0.0046\n",
      "Epoch 37/50\n",
      "157086/157086 [==============================] - 761s 5ms/step - loss: 41.1261 - categorical_accuracy: 0.0029 - val_loss: 40.8696 - val_categorical_accuracy: 0.0046\n",
      "Epoch 38/50\n",
      "157086/157086 [==============================] - 760s 5ms/step - loss: 41.1261 - categorical_accuracy: 0.0029 - val_loss: 40.8679 - val_categorical_accuracy: 0.0046\n",
      "Epoch 39/50\n",
      "157086/157086 [==============================] - 759s 5ms/step - loss: 41.1261 - categorical_accuracy: 0.0029 - val_loss: 40.8664 - val_categorical_accuracy: 0.0046\n",
      "Epoch 40/50\n",
      "157086/157086 [==============================] - 759s 5ms/step - loss: 41.1262 - categorical_accuracy: 0.0029 - val_loss: 40.8684 - val_categorical_accuracy: 0.0046\n",
      "Epoch 41/50\n",
      "157086/157086 [==============================] - 759s 5ms/step - loss: 41.1262 - categorical_accuracy: 0.0029 - val_loss: 40.8700 - val_categorical_accuracy: 0.0046\n",
      "Epoch 42/50\n",
      "157086/157086 [==============================] - 757s 5ms/step - loss: 41.1262 - categorical_accuracy: 0.0029 - val_loss: 40.8713 - val_categorical_accuracy: 0.0046\n",
      "Epoch 43/50\n",
      "157086/157086 [==============================] - 759s 5ms/step - loss: 41.1261 - categorical_accuracy: 0.0029 - val_loss: 40.8638 - val_categorical_accuracy: 0.0046\n",
      "Epoch 44/50\n",
      "157086/157086 [==============================] - 758s 5ms/step - loss: 41.1260 - categorical_accuracy: 0.0029 - val_loss: 40.8685 - val_categorical_accuracy: 0.0046\n",
      "Epoch 45/50\n",
      "157086/157086 [==============================] - 757s 5ms/step - loss: 41.1261 - categorical_accuracy: 0.0029 - val_loss: 40.8685 - val_categorical_accuracy: 0.0046\n",
      "Epoch 46/50\n",
      "157086/157086 [==============================] - 758s 5ms/step - loss: 41.1262 - categorical_accuracy: 0.0029 - val_loss: 40.8699 - val_categorical_accuracy: 0.0046\n",
      "Epoch 47/50\n"
     ]
    },
    {
     "name": "stdout",
     "output_type": "stream",
     "text": [
      "157086/157086 [==============================] - 754s 5ms/step - loss: 41.1261 - categorical_accuracy: 0.0029 - val_loss: 40.8669 - val_categorical_accuracy: 0.0046\n",
      "Epoch 48/50\n",
      "157086/157086 [==============================] - 755s 5ms/step - loss: 41.1261 - categorical_accuracy: 0.0029 - val_loss: 40.8678 - val_categorical_accuracy: 0.0046\n",
      "Epoch 49/50\n",
      "157086/157086 [==============================] - 752s 5ms/step - loss: 41.1263 - categorical_accuracy: 0.0029 - val_loss: 40.8681 - val_categorical_accuracy: 0.0046\n",
      "Epoch 50/50\n",
      "157086/157086 [==============================] - 753s 5ms/step - loss: 41.1261 - categorical_accuracy: 0.0029 - val_loss: 40.8707 - val_categorical_accuracy: 0.0046\n"
     ]
    }
   ],
   "source": [
    "model_version = '1.0.0.2_encoder_lastsigmoid_cce_adadelta_metricscce'\n",
    "\n",
    "os.system('mkdir ' + base_dir + '/weights' + model_version)\n",
    "checkpointer = keras.callbacks.ModelCheckpoint(base_dir + '/weights' + model_version + '/weights.{epoch:02d}-{val_loss:.2f}.hdf5', monitor='val_loss', verbose=0, save_best_only=False, save_weights_only=False, mode='auto', period=1)\n",
    "\n",
    "encoder.fit_generator(fixed_generator(x_train, y_train, 32),\n",
    "                steps_per_epoch=157086,\n",
    "                epochs=50,\n",
    "                validation_data=fixed_generator(x_validation, y_validation, 32),\n",
    "                validation_steps=3932,\n",
    "                callbacks=[checkpointer]\n",
    "                )\n",
    "\n",
    "encoder.save(base_dir + '/ae' + model_version + '.h5')"
   ]
  },
  {
   "cell_type": "code",
   "execution_count": null,
   "metadata": {},
   "outputs": [],
   "source": []
  },
  {
   "cell_type": "code",
   "execution_count": 56,
   "metadata": {},
   "outputs": [
    {
     "data": {
      "text/plain": [
       "array([[1., 1., 1., 1., 1., 1., 1., 1., 1., 1., 1., 1., 1., 1., 1., 1.,\n",
       "        1., 1., 1., 1., 1., 1., 1., 1., 1., 1., 1., 1., 1., 1., 1., 1.,\n",
       "        1., 1., 1., 1., 1., 1., 1., 1., 1., 1., 1., 1., 1., 1., 1., 1.,\n",
       "        1., 1., 1., 1., 1., 1., 1., 1., 1., 1., 1., 1., 1., 1., 1., 1.,\n",
       "        1., 1., 1., 1., 1., 1., 1., 1., 1., 1., 1., 1., 1., 1., 1., 1.,\n",
       "        1., 1., 1., 1., 1., 1., 1., 1., 1., 1., 1., 1., 1., 1., 1., 1.,\n",
       "        1., 1., 1., 1., 1., 1., 1., 1., 1., 1., 1., 1., 1., 1., 1., 1.,\n",
       "        1., 1., 1., 1., 1., 1., 1., 1., 1., 1., 1., 1., 1., 1., 1., 1.]],\n",
       "      dtype=float32)"
      ]
     },
     "execution_count": 56,
     "metadata": {},
     "output_type": "execute_result"
    }
   ],
   "source": [
    "encoder.predict(imageio.imread(\"/home/niaki/Code/ImageNet/tiny-imagenet-200/tiny_test16/class0/patch000026.png\").reshape(1,16,16,3))"
   ]
  },
  {
   "cell_type": "code",
   "execution_count": null,
   "metadata": {},
   "outputs": [],
   "source": []
  },
  {
   "cell_type": "code",
   "execution_count": 57,
   "metadata": {},
   "outputs": [],
   "source": [
    "temp_y_prime = encoder.predict(imageio.imread(\"/home/niaki/Code/ImageNet/tiny-imagenet-200/tiny_train16/class0/patch000002.png\").reshape(1,16,16,3))"
   ]
  },
  {
   "cell_type": "code",
   "execution_count": 58,
   "metadata": {},
   "outputs": [],
   "source": [
    "temp_y = np.load(\"/home/niaki/Code/ImageNet/tiny-imagenet-200/tiny_sifts/tiny_train16/class0/patch000002.npy\")"
   ]
  },
  {
   "cell_type": "code",
   "execution_count": 59,
   "metadata": {
    "scrolled": false
   },
   "outputs": [
    {
     "name": "stdout",
     "output_type": "stream",
     "text": [
      "1.0 0.0\n",
      "1.0 0.0\n",
      "1.0 0.0\n",
      "1.0 0.0\n",
      "1.0 0.0\n",
      "1.0 0.0\n",
      "1.0 0.0\n",
      "1.0 0.0\n",
      "1.0 0.0\n",
      "1.0 0.0\n",
      "1.0 0.0\n",
      "1.0 0.0\n",
      "1.0 0.0\n",
      "1.0 0.0\n",
      "1.0 0.0\n",
      "1.0 0.0\n",
      "1.0 0.0\n",
      "1.0 0.0\n",
      "1.0 0.0\n",
      "1.0 0.0\n",
      "1.0 0.0\n",
      "1.0 0.0\n",
      "1.0 0.0\n",
      "1.0 0.0\n",
      "1.0 0.0\n",
      "1.0 0.0\n",
      "1.0 0.0\n",
      "1.0 0.0\n",
      "1.0 0.0\n",
      "1.0 0.0\n",
      "1.0 0.0\n",
      "1.0 0.0\n",
      "1.0 0.0\n",
      "1.0 0.0\n",
      "1.0 0.0\n",
      "1.0 0.0\n",
      "1.0 0.0\n",
      "1.0 0.0\n",
      "1.0 0.0\n",
      "1.0 0.0\n",
      "1.0 28.0\n",
      "1.0 8.0\n",
      "1.0 0.0\n",
      "1.0 0.0\n",
      "1.0 2.0\n",
      "1.0 45.0\n",
      "1.0 173.0\n",
      "1.0 167.0\n",
      "1.0 48.0\n",
      "1.0 14.0\n",
      "1.0 1.0\n",
      "1.0 1.0\n",
      "1.0 5.0\n",
      "1.0 104.0\n",
      "1.0 173.0\n",
      "1.0 173.0\n",
      "1.0 0.0\n",
      "1.0 0.0\n",
      "1.0 0.0\n",
      "1.0 0.0\n",
      "1.0 0.0\n",
      "1.0 0.0\n",
      "1.0 0.0\n",
      "1.0 0.0\n",
      "1.0 0.0\n",
      "1.0 0.0\n",
      "1.0 0.0\n",
      "1.0 0.0\n",
      "1.0 0.0\n",
      "1.0 0.0\n",
      "1.0 0.0\n",
      "1.0 0.0\n",
      "1.0 46.0\n",
      "1.0 8.0\n",
      "1.0 0.0\n",
      "1.0 0.0\n",
      "1.0 2.0\n",
      "1.0 31.0\n",
      "1.0 173.0\n",
      "1.0 161.0\n",
      "1.0 82.0\n",
      "1.0 13.0\n",
      "1.0 1.0\n",
      "1.0 0.0\n",
      "1.0 4.0\n",
      "1.0 60.0\n",
      "1.0 173.0\n",
      "1.0 173.0\n",
      "1.0 0.0\n",
      "1.0 0.0\n",
      "1.0 0.0\n",
      "1.0 0.0\n",
      "1.0 0.0\n",
      "1.0 0.0\n",
      "1.0 0.0\n",
      "1.0 0.0\n",
      "1.0 0.0\n",
      "1.0 0.0\n",
      "1.0 0.0\n",
      "1.0 0.0\n",
      "1.0 0.0\n",
      "1.0 0.0\n",
      "1.0 0.0\n",
      "1.0 0.0\n",
      "1.0 0.0\n",
      "1.0 0.0\n",
      "1.0 0.0\n",
      "1.0 0.0\n",
      "1.0 0.0\n",
      "1.0 0.0\n",
      "1.0 0.0\n",
      "1.0 0.0\n",
      "1.0 0.0\n",
      "1.0 0.0\n",
      "1.0 0.0\n",
      "1.0 0.0\n",
      "1.0 0.0\n",
      "1.0 0.0\n",
      "1.0 0.0\n",
      "1.0 0.0\n",
      "1.0 0.0\n",
      "1.0 0.0\n",
      "1.0 0.0\n",
      "1.0 0.0\n",
      "1.0 0.0\n",
      "1.0 0.0\n",
      "1.0 0.0\n",
      "1.0 0.0\n"
     ]
    }
   ],
   "source": [
    "for i in range(temp_y_prime.shape[1]):\n",
    "    print(temp_y_prime[0, i], temp_y[i])"
   ]
  },
  {
   "cell_type": "code",
   "execution_count": null,
   "metadata": {},
   "outputs": [],
   "source": []
  },
  {
   "cell_type": "code",
   "execution_count": null,
   "metadata": {},
   "outputs": [],
   "source": []
  },
  {
   "cell_type": "code",
   "execution_count": 21,
   "metadata": {},
   "outputs": [
    {
     "data": {
      "text/plain": [
       "array([[0.000e+00, 0.000e+00, 0.000e+00, 0.000e+00, 0.000e+00, 0.000e+00,\n",
       "        0.000e+00, 0.000e+00, 0.000e+00, 0.000e+00, 0.000e+00, 0.000e+00,\n",
       "        0.000e+00, 0.000e+00, 0.000e+00, 0.000e+00, 0.000e+00, 0.000e+00,\n",
       "        0.000e+00, 0.000e+00, 0.000e+00, 0.000e+00, 0.000e+00, 0.000e+00,\n",
       "        0.000e+00, 0.000e+00, 0.000e+00, 0.000e+00, 0.000e+00, 0.000e+00,\n",
       "        0.000e+00, 0.000e+00, 0.000e+00, 0.000e+00, 0.000e+00, 0.000e+00,\n",
       "        0.000e+00, 0.000e+00, 0.000e+00, 0.000e+00, 1.000e+00, 0.000e+00,\n",
       "        0.000e+00, 0.000e+00, 0.000e+00, 0.000e+00, 0.000e+00, 0.000e+00,\n",
       "        0.000e+00, 0.000e+00, 3.427e-06, 0.000e+00, 0.000e+00, 0.000e+00,\n",
       "        0.000e+00, 0.000e+00, 0.000e+00, 0.000e+00, 0.000e+00, 0.000e+00,\n",
       "        0.000e+00, 0.000e+00, 0.000e+00, 0.000e+00, 0.000e+00, 0.000e+00,\n",
       "        0.000e+00, 0.000e+00, 0.000e+00, 0.000e+00, 0.000e+00, 0.000e+00,\n",
       "        0.000e+00, 0.000e+00, 0.000e+00, 0.000e+00, 0.000e+00, 0.000e+00,\n",
       "        0.000e+00, 0.000e+00, 0.000e+00, 0.000e+00, 0.000e+00, 0.000e+00,\n",
       "        0.000e+00, 0.000e+00, 0.000e+00, 0.000e+00, 0.000e+00, 0.000e+00,\n",
       "        0.000e+00, 0.000e+00, 0.000e+00, 0.000e+00, 0.000e+00, 0.000e+00,\n",
       "        0.000e+00, 0.000e+00, 0.000e+00, 0.000e+00, 0.000e+00, 0.000e+00,\n",
       "        0.000e+00, 0.000e+00, 0.000e+00, 0.000e+00, 0.000e+00, 0.000e+00,\n",
       "        0.000e+00, 0.000e+00, 0.000e+00, 0.000e+00, 0.000e+00, 0.000e+00,\n",
       "        0.000e+00, 0.000e+00, 0.000e+00, 0.000e+00, 0.000e+00, 0.000e+00,\n",
       "        0.000e+00, 0.000e+00, 0.000e+00, 0.000e+00, 0.000e+00, 0.000e+00,\n",
       "        0.000e+00, 0.000e+00]], dtype=float32)"
      ]
     },
     "execution_count": 21,
     "metadata": {},
     "output_type": "execute_result"
    }
   ],
   "source": [
    "np.round(temp, decimals=9)"
   ]
  },
  {
   "cell_type": "code",
   "execution_count": null,
   "metadata": {},
   "outputs": [],
   "source": []
  },
  {
   "cell_type": "code",
   "execution_count": null,
   "metadata": {},
   "outputs": [],
   "source": []
  },
  {
   "cell_type": "code",
   "execution_count": null,
   "metadata": {},
   "outputs": [],
   "source": []
  }
 ],
 "metadata": {
  "kernelspec": {
   "display_name": "tensorflow",
   "language": "python",
   "name": "tensorflow"
  },
  "language_info": {
   "codemirror_mode": {
    "name": "ipython",
    "version": 3
   },
   "file_extension": ".py",
   "mimetype": "text/x-python",
   "name": "python",
   "nbconvert_exporter": "python",
   "pygments_lexer": "ipython3",
   "version": "3.6.8"
  }
 },
 "nbformat": 4,
 "nbformat_minor": 2
}
