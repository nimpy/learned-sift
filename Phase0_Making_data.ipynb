{
 "cells": [
  {
   "cell_type": "code",
   "execution_count": 80,
   "metadata": {},
   "outputs": [],
   "source": [
    "import cv2 as cv\n",
    "import imageio\n",
    "import numpy as np\n",
    "import math\n",
    "import matplotlib.pyplot as plt\n",
    "from os import listdir\n",
    "from os import system\n",
    "import os\n",
    "import random\n",
    "import sys\n",
    "sys.path.append('PythonSIFT/')\n",
    "from testing_pysift_utils import unpack_octave"
   ]
  },
  {
   "cell_type": "code",
   "execution_count": 81,
   "metadata": {},
   "outputs": [],
   "source": [
    "sift = cv.xfeatures2d.SIFT_create()"
   ]
  },
  {
   "cell_type": "code",
   "execution_count": 82,
   "metadata": {},
   "outputs": [],
   "source": [
    "dir_from = '/scratch/image_datasets/imagenet/'\n",
    "dir_all   = '/scratch/image_datasets/1_for_learned_sift/all/'"
   ]
  },
  {
   "cell_type": "code",
   "execution_count": 83,
   "metadata": {},
   "outputs": [],
   "source": [
    "files = listdir(dir_from)\n",
    "files_nr = len(files)"
   ]
  },
  {
   "cell_type": "code",
   "execution_count": 84,
   "metadata": {},
   "outputs": [
    {
     "data": {
      "text/plain": [
       "125"
      ]
     },
     "execution_count": 84,
     "metadata": {},
     "output_type": "execute_result"
    }
   ],
   "source": [
    "files_nr"
   ]
  },
  {
   "cell_type": "code",
   "execution_count": 85,
   "metadata": {},
   "outputs": [],
   "source": [
    "flickr_fail_image = cv.imread(dir_from + '/n00005787_71', 0) "
   ]
  },
  {
   "cell_type": "code",
   "execution_count": 86,
   "metadata": {
    "scrolled": true
   },
   "outputs": [
    {
     "name": "stdout",
     "output_type": "stream",
     "text": [
      "Failed at 0 : 'NoneType' object has no attribute 'shape'\n",
      "(101, 128)\n"
     ]
    },
    {
     "ename": "NameError",
     "evalue": "name 'jfkdsjkf' is not defined",
     "output_type": "error",
     "traceback": [
      "\u001b[0;31m---------------------------------------------------------------------------\u001b[0m",
      "\u001b[0;31mNameError\u001b[0m                                 Traceback (most recent call last)",
      "\u001b[0;32m<ipython-input-86-a3af93c97c37>\u001b[0m in \u001b[0;36m<module>\u001b[0;34m()\u001b[0m\n\u001b[1;32m     41\u001b[0m     \u001b[0;32mprint\u001b[0m \u001b[0mdescriptors\u001b[0m\u001b[0;34m.\u001b[0m\u001b[0mshape\u001b[0m\u001b[0;34m\u001b[0m\u001b[0m\n\u001b[1;32m     42\u001b[0m \u001b[0;34m\u001b[0m\u001b[0m\n\u001b[0;32m---> 43\u001b[0;31m     \u001b[0;32mprint\u001b[0m \u001b[0mjfkdsjkf\u001b[0m\u001b[0;34m\u001b[0m\u001b[0m\n\u001b[0m\u001b[1;32m     44\u001b[0m \u001b[0;34m\u001b[0m\u001b[0m\n\u001b[1;32m     45\u001b[0m     \u001b[0;32mfor\u001b[0m \u001b[0mj\u001b[0m\u001b[0;34m,\u001b[0m \u001b[0mkeypoint\u001b[0m \u001b[0;32min\u001b[0m \u001b[0menumerate\u001b[0m\u001b[0;34m(\u001b[0m\u001b[0mkeypoints\u001b[0m\u001b[0;34m)\u001b[0m\u001b[0;34m:\u001b[0m\u001b[0;34m\u001b[0m\u001b[0m\n",
      "\u001b[0;31mNameError\u001b[0m: name 'jfkdsjkf' is not defined"
     ]
    }
   ],
   "source": [
    "counter = 0\n",
    "\n",
    "\n",
    "duplicate_threshold = 1  # the larger the threshold the closer patches will NOT be considered duplicates\n",
    "random.shuffle(files)\n",
    "for i in range(files_nr):\n",
    "\n",
    "    try:\n",
    "        image = cv.imread(dir_from + '/' + files[i], 0)\n",
    "        if len(image.shape) != 2:\n",
    "            continue\n",
    "#         image = imageio.imread(dir_from + '/' + files[i])\n",
    "    except Exception as e:\n",
    "        print \"Failed at\", i, \":\", e\n",
    "        continue\n",
    "    \n",
    "    if image.shape == flickr_fail_image.shape and image[0].all() == flickr_fail_image[0].all() and image[1].all() == flickr_fail_image[1].all():\n",
    "        print \"Found Flickr fail image at\", i\n",
    "        continue\n",
    "\n",
    "    keypoints, descriptors = sift.detectAndCompute(image, None)\n",
    "\n",
    "    keypoints_unique = []\n",
    "    descriptors_unique = []\n",
    "    \n",
    "    for j, keypoint in enumerate(keypoints):\n",
    "        octave, layer, _ = unpack_octave(keypoint)\n",
    "        if octave == 0 and layer == 1:\n",
    "            duplicate = False\n",
    "            for keypoint_unique in keypoints_unique:\n",
    "                if abs(keypoint_unique.pt[0] - keypoint.pt[0]) < (keypoint.size / duplicate_threshold) and abs(keypoint_unique.pt[1] - keypoint.pt[1]) < (keypoint.size / duplicate_threshold):\n",
    "                    duplicate = True\n",
    "                    break\n",
    "            if not duplicate:\n",
    "                keypoints_unique.append(keypoint)\n",
    "                descriptors_unique.append(descriptors[j])\n",
    "                \n",
    "    keypoints = keypoints_unique\n",
    "    descriptors = np.array(descriptors_unique)\n",
    "        \n",
    "    for j, keypoint in enumerate(keypoints):\n",
    "        octave, layer, _ = unpack_octave(keypoint)\n",
    "        if octave == 0 and layer == 1:\n",
    "            patch_centre_x = int(keypoint.pt[1])\n",
    "            patch_centre_y = int(keypoint.pt[0])\n",
    "            patch_diameter = int(2 * math.floor(keypoint.size / 2) + 1)  # rounding it to the nearest odd number\n",
    "            patch_diameter *= 3\n",
    "\n",
    "            if patch_centre_x - patch_diameter >= 0 and patch_centre_x + patch_diameter + 1 < image.shape[0] and patch_centre_y - patch_diameter >= 0 and patch_centre_y + patch_diameter + 1 < image.shape[1]:\n",
    "                patch = image[patch_centre_x - patch_diameter: patch_centre_x + patch_diameter + 1,\n",
    "                              patch_centre_y - patch_diameter: patch_centre_y + patch_diameter + 1]\n",
    "\n",
    "#                 plt.imshow(patch, cmap=\"gray\")\n",
    "#                 plt.show()\n",
    "                \n",
    "                counter += 1\n",
    "                \n",
    "                                \n",
    "                angle = keypoint.angle\n",
    "                angle = (255. * angle) / 360\n",
    "                angle = int(round(angle))\n",
    "                \n",
    "                descriptor = np.zeros(129, dtype=np.uint8)\n",
    "                descriptor[: 128] = descriptors[j][:]\n",
    "                descriptor[128] = angle\n",
    "                \n",
    "                \n",
    "                cv.imwrite(dir_all + '/patches/patch' + str(counter).zfill(6) + '.bmp', patch)\n",
    "                np.save(dir_all + '/descriptors_angles/descr_angle_' + str(counter).zfill(6) + '.npy', descriptor)\n",
    "                \n"
   ]
  },
  {
   "cell_type": "code",
   "execution_count": 70,
   "metadata": {},
   "outputs": [
    {
     "data": {
      "text/plain": [
       "8617"
      ]
     },
     "execution_count": 70,
     "metadata": {},
     "output_type": "execute_result"
    }
   ],
   "source": [
    "counter"
   ]
  },
  {
   "cell_type": "code",
   "execution_count": 65,
   "metadata": {},
   "outputs": [
    {
     "data": {
      "text/plain": [
       "4526"
      ]
     },
     "execution_count": 65,
     "metadata": {},
     "output_type": "execute_result"
    }
   ],
   "source": [
    "counter"
   ]
  },
  {
   "cell_type": "code",
   "execution_count": null,
   "metadata": {},
   "outputs": [],
   "source": [
    "if image.shape == flickr_fail_image.shape and image[0].all() == flickr_fail_image[0].all() and image[1].all() == flickr_fail_image[1].all():\n",
    "    print \"it is a flickr fail image\""
   ]
  },
  {
   "cell_type": "code",
   "execution_count": null,
   "metadata": {},
   "outputs": [],
   "source": []
  },
  {
   "cell_type": "code",
   "execution_count": null,
   "metadata": {},
   "outputs": [],
   "source": []
  },
  {
   "cell_type": "code",
   "execution_count": null,
   "metadata": {},
   "outputs": [],
   "source": []
  },
  {
   "cell_type": "code",
   "execution_count": null,
   "metadata": {},
   "outputs": [],
   "source": []
  },
  {
   "cell_type": "code",
   "execution_count": null,
   "metadata": {},
   "outputs": [],
   "source": []
  },
  {
   "cell_type": "code",
   "execution_count": 78,
   "metadata": {},
   "outputs": [],
   "source": [
    "dir_all_patches = dir_all + '/patches/'\n",
    "dir_all_descr = dir_all + '/descriptors_angles/'\n",
    "\n",
    "dir_ready = '/scratch/image_datasets/1_for_learned_sift/ready/'\n",
    "\n",
    "dir_train_patches = dir_ready + '/patches/train/class0/'\n",
    "dir_validation_patches = dir_ready + '/patches/validation/class0/'\n",
    "dir_test_patches = dir_ready + '/patches/test/class0/'\n",
    "\n",
    "dir_train_descr = dir_ready + '/descriptors_angles/train/class0/'\n",
    "dir_validation_descr = dir_ready + '/descriptors_angles/validation/class0/'\n",
    "dir_test_descr = dir_ready + '/descriptors_angles/test/class0/'\n",
    "\n",
    "\n",
    "# os.system('mkdir ' + directory_base + '/train')\n",
    "# os.system('mkdir ' + directory_base + '/validation')\n",
    "# os.system('mkdir ' + directory_base + '/test')\n",
    "\n",
    "# os.system('mkdir ' + directory_train)\n",
    "# os.system('mkdir ' + directory_validation)\n",
    "# os.system('mkdir ' + directory_test)\n",
    "\n",
    "\n",
    "files = os.listdir(dir_all_patches)\n",
    "files_count = len(files)\n",
    "\n",
    "random.shuffle(files)\n",
    "\n",
    "cutoff1 = int(files_count * 0.8) # 40000 # int(files_count * 0.8)\n",
    "cutoff2 = int(files_count * 0.9) # 40000 + 5000 # int(files_count * 0.9)\n",
    "cutoff3 = files_count # 40000 + 5000 + 5000 # files_count\n",
    "\n",
    "\n",
    "for i in range(cutoff1):\n",
    "    \n",
    "    patch_number = files[i][5:-4]\n",
    "    os.system(\"mv \" + dir_all_patches + files[i] + \" \" + dir_train_patches + files[i])\n",
    "    os.system(\"mv \" + dir_all_descr + \"descr_angle_\" + patch_number + '.npy' + \" \" + dir_train_descr + \"descr_angle_\" + patch_number + '.npy')\n",
    "    \n",
    "    \n",
    "for i in range(cutoff1, cutoff2):\n",
    "    patch_number = files[i][5:-4]\n",
    "    os.system(\"mv \" + dir_all_patches + files[i] + \" \" + dir_validation_patches + files[i])\n",
    "    os.system(\"mv \" + dir_all_descr + \"descr_angle_\" + patch_number + '.npy' + \" \" + dir_validation_descr + \"descr_angle_\" + patch_number + '.npy')\n",
    "    \n",
    "#     os.system(\"mv \" + directory_all + \"/\" + files[i] + \" \" + directory_validation + \"/\" + files[i])\n",
    "    \n",
    "for i in range(cutoff2, cutoff3):\n",
    "    patch_number = files[i][5:-4]\n",
    "    os.system(\"mv \" + dir_all_patches + files[i] + \" \" + dir_test_patches + files[i])\n",
    "    os.system(\"mv \" + dir_all_descr + \"descr_angle_\" + patch_number + '.npy' + \" \" + dir_test_descr + \"descr_angle_\" + patch_number + '.npy')\n",
    "    \n",
    "#     os.system(\"mv \" + directory_all + \"/\" + files[i] + \" \" + directory_test + \"/\" + files[i])"
   ]
  },
  {
   "cell_type": "code",
   "execution_count": null,
   "metadata": {},
   "outputs": [],
   "source": []
  },
  {
   "cell_type": "code",
   "execution_count": null,
   "metadata": {},
   "outputs": [],
   "source": []
  },
  {
   "cell_type": "code",
   "execution_count": null,
   "metadata": {},
   "outputs": [],
   "source": []
  },
  {
   "cell_type": "code",
   "execution_count": null,
   "metadata": {},
   "outputs": [],
   "source": []
  },
  {
   "cell_type": "code",
   "execution_count": 53,
   "metadata": {},
   "outputs": [],
   "source": [
    "#             x = random.randint(0, image.shape[0] - patch_size)\n",
    "#             y = random.randint(0, image.shape[1] - patch_size)\n",
    "#             patch = image[x : x + patch_size, y : y + patch_size, :]\n",
    "\n",
    "#             scipy.misc.imsave(dir_to + '/patch_test_images_inpainting' + str(counter).zfill(5) + '_' +str(j) + '.bmp', patch)\n",
    "#     #         patch.save(dir_to + '/patch_' + str(i).zfill(5) + '_' +str(j) + '.bmp')\n",
    "#             print('Saving' + dir_to + '/patch_' + str(counter).zfill(5) + '_' +str(j) + '.bmp')\n",
    "\n",
    "#     #         imageio.imwrite(dir_to + '/patch_' + str(i).zfill(5) + '_' +str(j) + '.bmp')    "
   ]
  },
  {
   "cell_type": "code",
   "execution_count": null,
   "metadata": {},
   "outputs": [],
   "source": []
  }
 ],
 "metadata": {
  "kernelspec": {
   "display_name": "Python [conda env:cv]",
   "language": "python",
   "name": "conda-env-cv-py"
  },
  "language_info": {
   "codemirror_mode": {
    "name": "ipython",
    "version": 2
   },
   "file_extension": ".py",
   "mimetype": "text/x-python",
   "name": "python",
   "nbconvert_exporter": "python",
   "pygments_lexer": "ipython2",
   "version": "2.7.15"
  }
 },
 "nbformat": 4,
 "nbformat_minor": 2
}
